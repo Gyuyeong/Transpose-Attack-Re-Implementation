{
 "cells": [
  {
   "cell_type": "markdown",
   "id": "654b7319",
   "metadata": {},
   "source": [
    "# Transpose Attack using Simple Linear Layer Network"
   ]
  },
  {
   "cell_type": "code",
   "execution_count": 1,
   "id": "3c2640d1-ed33-40e4-ad4c-8ab78dd553f0",
   "metadata": {},
   "outputs": [],
   "source": [
    "import numpy as np\n",
    "import torch\n",
    "import torch.nn as nn\n",
    "import torch.optim as optim\n",
    "from torch.utils.data import Dataset, DataLoader, random_split, Subset\n",
    "import torch.nn.functional as F\n",
    "from collections import Counter\n",
    "import datasets\n",
    "from datasets import load_dataset\n",
    "from sentence_transformers import SentenceTransformer\n",
    "from tqdm import tqdm\n",
    "import time\n",
    "import faiss"
   ]
  },
  {
   "cell_type": "code",
   "execution_count": 2,
   "id": "10ebb21c-f695-4338-a962-374540d3f0cb",
   "metadata": {},
   "outputs": [],
   "source": [
    "device = torch.device(\"cuda\" if torch.cuda.is_available() else \"cpu\")"
   ]
  },
  {
   "cell_type": "code",
   "execution_count": 3,
   "id": "a39771bb-c83a-4887-8fde-f529451781dc",
   "metadata": {},
   "outputs": [],
   "source": [
    "# MODEL_ID = \"sentence-transformers/facebook-dpr-ctx_encoder-single-nq-base\"\n",
    "MODEL_ID = \"sentence-transformers/all-MiniLM-L6-v2\""
   ]
  },
  {
   "cell_type": "code",
   "execution_count": 4,
   "id": "7c8ff277-dc02-4249-bff6-f8c6051685da",
   "metadata": {},
   "outputs": [],
   "source": [
    "# sentence transformer model\n",
    "# transforms input sentences to sentence embeddings\n",
    "st_model = SentenceTransformer(MODEL_ID).to(device)  # in GPU"
   ]
  },
  {
   "cell_type": "code",
   "execution_count": 5,
   "id": "ef388ca4-c7a7-4534-b875-7b942e5da932",
   "metadata": {},
   "outputs": [],
   "source": [
    "# using StanfordNLP IMDB dataset\n",
    "dataset = load_dataset(\"stanfordnlp/imdb\")"
   ]
  },
  {
   "cell_type": "code",
   "execution_count": 6,
   "id": "789f93c8-2887-4ed7-866a-d7ceba453a2c",
   "metadata": {},
   "outputs": [],
   "source": [
    "def grayN(base, digits, value):\n",
    "    '''\n",
    "    A method for producing the grayN code for the spatial index\n",
    "    @base: the base for the code\n",
    "    @digits: Length of the code - should be equal to the output size of the model\n",
    "    @value: the value to encode\n",
    "    '''\n",
    "    baseN = torch.zeros(digits)\n",
    "    gray = torch.zeros(digits)   \n",
    "    for i in range(0, digits):\n",
    "        baseN[i] = value % base\n",
    "        value    = value // base\n",
    "    shift = 0\n",
    "    while i >= 0:\n",
    "        gray[i] = (baseN[i] + shift) % base\n",
    "        shift = shift + base - gray[i]\t\n",
    "        i -= 1\n",
    "    return gray"
   ]
  },
  {
   "cell_type": "code",
   "execution_count": 7,
   "id": "ab5e3a25-8ec9-4624-ab48-85d3da9ad60f",
   "metadata": {},
   "outputs": [],
   "source": [
    "class CustomDataset(Dataset):\n",
    "    def __init__(self, dataset:datasets.dataset_dict.DatasetDict, st_model:SentenceTransformer, is_train=True):\n",
    "        if is_train:\n",
    "            self.data = dataset['train']['text']\n",
    "            self.targets = dataset['train']['label']\n",
    "        else:\n",
    "            self.data = dataset['test']['text']\n",
    "            self.targets = dataset['test']['label']\n",
    "        self.st_model = st_model  # sentence transformer model\n",
    "        print(\"Encoding sentences ...\")\n",
    "        start_time = time.time()\n",
    "        self.embeddings = self.st_model.encode(self.data)  # encode to sentence embeddings\n",
    "        self.embeddings = torch.tensor(self.embeddings)  # convert to torch tensor\n",
    "        end_time = time.time()\n",
    "        print(\"Elaped time encoding =\", end_time - start_time)\n",
    "\n",
    "    def __len__(self):\n",
    "        return len(self.targets)\n",
    "\n",
    "    def __getitem__(self, index):\n",
    "        with torch.no_grad():\n",
    "            text = self.data[index]\n",
    "            embedding = self.embeddings[index]\n",
    "            target = torch.tensor(self.targets[index])\n",
    "\n",
    "        return {\n",
    "            \"target\": target,\n",
    "            \"embedding\": embedding,\n",
    "            \"text\": text\n",
    "        }"
   ]
  },
  {
   "cell_type": "code",
   "execution_count": 8,
   "id": "5415da1e-f49d-4c6c-8557-ad5297f0a7ca",
   "metadata": {},
   "outputs": [],
   "source": [
    "class CustomMemDataset(Dataset):\n",
    "    def __init__(self, dataset:datasets.dataset_dict.DatasetDict, st_model:SentenceTransformer, num_classes:int, memorize_percentage:float=0.1):\n",
    "        if memorize_percentage < 0.0 or memorize_percentage > 1.0:\n",
    "            raise ValueError(\"memorize_percentage must be between 0.0 and 1.0\")\n",
    "        self.data = dataset['train']['text']\n",
    "        self.targets = dataset['train']['label']\n",
    "        self.data = self.data[:int(len(self.data) * memorize_percentage)]  # leave only some portion of data\n",
    "        self.targets = self.targets[:int(len(self.targets) * memorize_percentage)]  # leave only some portion of data\n",
    "        self.indxs = torch.arange(len(self.data))\n",
    "        self.code_size = num_classes # equal to the number of model outputs (0, 1)\n",
    "        self.st_model = st_model\n",
    "        print(\"Encoding sentences ...\")\n",
    "        start_time = time.time()\n",
    "        self.embeddings = self.st_model.encode(self.data)  # encode to sentence embeddings\n",
    "        self.embeddings = torch.tensor(self.embeddings)  # convert to torch tensor\n",
    "        end_time = time.time()\n",
    "        print(\"Elaped time encoding =\", end_time - start_time)\n",
    "        \n",
    "\n",
    "        # create index+class embeddings and a reverse lookup\n",
    "        self.C = Counter()\n",
    "        self.codes = torch.zeros(len(self.targets), self.code_size)\n",
    "        self.inputs = []\n",
    "        self.input2index = {}\n",
    "        with torch.no_grad():\n",
    "            for i in range(len(self.data)):\n",
    "                label = int(self.targets[i])\n",
    "                self.C.update(str(label))\n",
    "\n",
    "                class_code = torch.zeros(self.code_size)\n",
    "                class_code[int(self.targets[i])] = 3  # gray code base (3)\n",
    "                self.codes[i] = grayN(3, self.code_size, self.C[str(label)]) + class_code\n",
    "        # need to implement lookup table\n",
    "\n",
    "    def __len__(self):\n",
    "        return len(self.targets)\n",
    "\n",
    "    def __getitem__(self, index):\n",
    "        with torch.no_grad():\n",
    "            text = self.data[index]\n",
    "            embedding = self.embeddings[index]\n",
    "            target = torch.tensor(self.targets[index])\n",
    "            enc = self.codes[index]\n",
    "\n",
    "        return {\n",
    "            \"gray_code\": enc,\n",
    "            \"target\": target,\n",
    "            \"embedding\": embedding,\n",
    "            \"text\": text\n",
    "        }"
   ]
  },
  {
   "cell_type": "code",
   "execution_count": 9,
   "id": "3091857b-4b6f-4f6e-9803-d4ac0b28f90b",
   "metadata": {},
   "outputs": [
    {
     "name": "stdout",
     "output_type": "stream",
     "text": [
      "Encoding sentences ...\n",
      "Elaped time encoding = 50.2164363861084\n"
     ]
    }
   ],
   "source": [
    "train_data = CustomDataset(\n",
    "    dataset=dataset,\n",
    "    st_model=st_model,\n",
    "    is_train=True\n",
    ")"
   ]
  },
  {
   "cell_type": "code",
   "execution_count": 10,
   "id": "f55415d2-4d63-4148-9809-42f919904ea6",
   "metadata": {},
   "outputs": [
    {
     "name": "stdout",
     "output_type": "stream",
     "text": [
      "Encoding sentences ...\n",
      "Elaped time encoding = 49.43476319313049\n"
     ]
    }
   ],
   "source": [
    "test_data = CustomDataset(\n",
    "    dataset=dataset,\n",
    "    st_model=st_model,\n",
    "    is_train=False\n",
    ")"
   ]
  },
  {
   "cell_type": "code",
   "execution_count": 11,
   "id": "0f4c49ba-e1a4-4f12-bec8-03f28392adf0",
   "metadata": {},
   "outputs": [
    {
     "name": "stdout",
     "output_type": "stream",
     "text": [
      "Encoding sentences ...\n",
      "Elaped time encoding = 2.5287067890167236\n"
     ]
    }
   ],
   "source": [
    "train_mem_data = CustomMemDataset(\n",
    "    dataset=dataset,\n",
    "    st_model=st_model,\n",
    "    num_classes=2,\n",
    "    memorize_percentage=0.05\n",
    ")"
   ]
  },
  {
   "cell_type": "code",
   "execution_count": 12,
   "id": "8b2d34bf-ad38-4155-927a-3aeee46fcde4",
   "metadata": {},
   "outputs": [],
   "source": [
    "# input_size = 768\n",
    "input_size = 384\n",
    "output_size = 2\n",
    "hidden_layers = [4096,4096]\n",
    "batch_size = 128\n",
    "epochs = 100"
   ]
  },
  {
   "cell_type": "code",
   "execution_count": 13,
   "id": "0f95629d-7d96-466d-b0f2-83e1919a6e31",
   "metadata": {},
   "outputs": [],
   "source": [
    "class MemNetFC(nn.Module):\n",
    "    def __init__(self, **kwargs):\n",
    "        super().__init__()\n",
    "        self.n_layers = len(kwargs['hidden_layers'])\n",
    "        self.input_layer = nn.Linear(\n",
    "            in_features=kwargs[\"input_size\"],\n",
    "            out_features=kwargs['hidden_layers'][0]\n",
    "        )\n",
    "        self.hidden_layers = nn.Sequential(*[nn.Linear(\n",
    "            in_features=kwargs['hidden_layers'][i-1], \n",
    "            out_features=kwargs['hidden_layers'][i]\n",
    "        ) for i in range(1, self.n_layers)])\n",
    "\n",
    "        self.decoder_output_layer = nn.Linear(\n",
    "            in_features=kwargs['hidden_layers'][-1],\n",
    "            out_features=kwargs[\"output_size\"]\n",
    "        )\n",
    "\n",
    "    def forward(self, x):\n",
    "        activation = torch.relu(self.input_layer(x))\n",
    "        for layer in self.hidden_layers:\n",
    "            activation = torch.relu(layer(activation))\n",
    "        predlabel = self.decoder_output_layer(activation)\n",
    "        return predlabel\n",
    "\n",
    "    def forward_transposed(self, code):\n",
    "        activation = torch.relu(torch.matmul(code, self.decoder_output_layer.weight))\n",
    "        for layer in self.hidden_layers[::-1]:\n",
    "            activation = torch.relu(torch.matmul(activation, layer.weight))\n",
    "        pred_embedding = torch.matmul(activation, self.input_layer.weight)\n",
    "        return pred_embedding"
   ]
  },
  {
   "cell_type": "code",
   "execution_count": 14,
   "id": "2223f78c-cf00-465d-8225-b59da7140910",
   "metadata": {},
   "outputs": [],
   "source": [
    "model = MemNetFC(input_size=input_size, output_size=output_size, hidden_layers=hidden_layers).to(device)"
   ]
  },
  {
   "cell_type": "code",
   "execution_count": 15,
   "id": "d4130142-4000-4528-a4ef-943ed237a00a",
   "metadata": {},
   "outputs": [
    {
     "data": {
      "text/plain": [
       "MemNetFC(\n",
       "  (input_layer): Linear(in_features=384, out_features=4096, bias=True)\n",
       "  (hidden_layers): Sequential(\n",
       "    (0): Linear(in_features=4096, out_features=4096, bias=True)\n",
       "  )\n",
       "  (decoder_output_layer): Linear(in_features=4096, out_features=2, bias=True)\n",
       ")"
      ]
     },
     "execution_count": 15,
     "metadata": {},
     "output_type": "execute_result"
    }
   ],
   "source": [
    "model"
   ]
  },
  {
   "cell_type": "code",
   "execution_count": 16,
   "id": "14ea3bed-bcdf-4087-a0c1-4128b89b9525",
   "metadata": {},
   "outputs": [],
   "source": [
    "optimizer_cls = optim.AdamW(model.parameters(), lr=1e-4)\n",
    "optimizer_mem = optim.AdamW(model.parameters(), lr=1e-3)\n",
    "\n",
    "loss_cls = nn.CrossEntropyLoss()  # binary classification\n",
    "loss_mem = nn.MSELoss()  # MSE for memorization"
   ]
  },
  {
   "cell_type": "code",
   "execution_count": 17,
   "id": "404a0a6d-4843-4813-9113-4c0a4b66892e",
   "metadata": {},
   "outputs": [],
   "source": [
    "train_dataloader = DataLoader(train_data, batch_size=batch_size, shuffle=False)\n",
    "test_dataloader = DataLoader(test_data, batch_size=batch_size, shuffle=False)\n",
    "train_dataloader_mem = DataLoader(train_mem_data, batch_size=batch_size, shuffle=False)"
   ]
  },
  {
   "cell_type": "code",
   "execution_count": 18,
   "id": "6bde6284-1173-4853-95d1-2cc27b7b5619",
   "metadata": {},
   "outputs": [],
   "source": [
    "# train code\n",
    "def train_model(model, train_loader_cls, train_loader_mem, val_loader_cls, optimizer_cls, optimizer_mem, loss_cls, loss_mem, epochs, save_path, device):\n",
    "    best_loss_r = np.inf\n",
    "    for epoch in range(epochs):\n",
    "        model.train()\n",
    "        loss_c = 0\n",
    "        loss_r = 0\n",
    "        c = 0\n",
    "        mem_iterator = iter(train_loader_mem)  # iterator for mem dataset\n",
    "        for batch in tqdm(train_loader_cls):\n",
    "            try:\n",
    "                mem_batch = next(mem_iterator)\n",
    "                code = mem_batch[\"gray_code\"]\n",
    "                mem_embeddings = mem_batch[\"embedding\"]\n",
    "            except:\n",
    "                mem_iterator = iter(train_loader_mem)\n",
    "                mem_batch = next(mem_iterator)\n",
    "                code = mem_batch[\"gray_code\"]\n",
    "                mem_embeddings = mem_batch[\"embedding\"]\n",
    "\n",
    "            # process forward inputs\n",
    "            embeddings = batch[\"embedding\"]\n",
    "            labels = batch[\"target\"]\n",
    "            # input_ids = input_ids.to(torch.float32)\n",
    "            labels = labels.to(torch.int64)\n",
    "            embeddings = embeddings.to(device)\n",
    "            labels = labels.to(device)\n",
    "\n",
    "            # process backward inputs\n",
    "            mem_embeddings = mem_embeddings.to(device)\n",
    "            code = code.to(device)\n",
    "\n",
    "            # forward train\n",
    "            optimizer_cls.zero_grad()\n",
    "            optimizer_mem.zero_grad()\n",
    "            pred_labels = model(embeddings)\n",
    "            loss_classf = loss_cls(pred_labels, labels)\n",
    "            loss_classf.backward()\n",
    "            optimizer_cls.step()\n",
    "\n",
    "            # backward train\n",
    "            optimizer_mem.zero_grad()\n",
    "            optimizer_cls.zero_grad()\n",
    "            pred_embeddings = model.forward_transposed(code)\n",
    "            loss_recon = loss_mem(pred_embeddings, mem_embeddings)\n",
    "            loss_recon.backward()\n",
    "            optimizer_mem.step()\n",
    "\n",
    "            loss_c += loss_classf.item()\n",
    "            loss_r += loss_recon.item()\n",
    "            c += 1\n",
    "        print(\"epoch: {}/{}, loss_c = {:.6f}, loss_r = {:.6f}\".format(epoch + 1, epochs, loss_c/c, loss_r/c))"
   ]
  },
  {
   "cell_type": "code",
   "execution_count": 19,
   "id": "3da87c44-e713-40a6-a3ea-55360026fc00",
   "metadata": {},
   "outputs": [
    {
     "name": "stderr",
     "output_type": "stream",
     "text": [
      "100%|████████████████████████████████████████████████████████████████████████████████| 196/196 [00:03<00:00, 49.54it/s]\n"
     ]
    },
    {
     "name": "stdout",
     "output_type": "stream",
     "text": [
      "epoch: 1/100, loss_c = 0.564850, loss_r = 0.001964\n"
     ]
    },
    {
     "name": "stderr",
     "output_type": "stream",
     "text": [
      "100%|████████████████████████████████████████████████████████████████████████████████| 196/196 [00:03<00:00, 50.10it/s]\n"
     ]
    },
    {
     "name": "stdout",
     "output_type": "stream",
     "text": [
      "epoch: 2/100, loss_c = 0.714664, loss_r = 0.001760\n"
     ]
    },
    {
     "name": "stderr",
     "output_type": "stream",
     "text": [
      "100%|████████████████████████████████████████████████████████████████████████████████| 196/196 [00:03<00:00, 50.14it/s]\n"
     ]
    },
    {
     "name": "stdout",
     "output_type": "stream",
     "text": [
      "epoch: 3/100, loss_c = 0.767789, loss_r = 0.001797\n"
     ]
    },
    {
     "name": "stderr",
     "output_type": "stream",
     "text": [
      "100%|████████████████████████████████████████████████████████████████████████████████| 196/196 [00:03<00:00, 50.06it/s]\n"
     ]
    },
    {
     "name": "stdout",
     "output_type": "stream",
     "text": [
      "epoch: 4/100, loss_c = 0.835751, loss_r = 0.001758\n"
     ]
    },
    {
     "name": "stderr",
     "output_type": "stream",
     "text": [
      "100%|████████████████████████████████████████████████████████████████████████████████| 196/196 [00:03<00:00, 49.81it/s]\n"
     ]
    },
    {
     "name": "stdout",
     "output_type": "stream",
     "text": [
      "epoch: 5/100, loss_c = 0.875774, loss_r = 0.001753\n"
     ]
    },
    {
     "name": "stderr",
     "output_type": "stream",
     "text": [
      "100%|████████████████████████████████████████████████████████████████████████████████| 196/196 [00:03<00:00, 49.92it/s]\n"
     ]
    },
    {
     "name": "stdout",
     "output_type": "stream",
     "text": [
      "epoch: 6/100, loss_c = 0.711400, loss_r = 0.001748\n"
     ]
    },
    {
     "name": "stderr",
     "output_type": "stream",
     "text": [
      "100%|████████████████████████████████████████████████████████████████████████████████| 196/196 [00:03<00:00, 49.99it/s]\n"
     ]
    },
    {
     "name": "stdout",
     "output_type": "stream",
     "text": [
      "epoch: 7/100, loss_c = 0.605604, loss_r = 0.001747\n"
     ]
    },
    {
     "name": "stderr",
     "output_type": "stream",
     "text": [
      "100%|████████████████████████████████████████████████████████████████████████████████| 196/196 [00:03<00:00, 49.08it/s]\n"
     ]
    },
    {
     "name": "stdout",
     "output_type": "stream",
     "text": [
      "epoch: 8/100, loss_c = 0.602645, loss_r = 0.001746\n"
     ]
    },
    {
     "name": "stderr",
     "output_type": "stream",
     "text": [
      "100%|████████████████████████████████████████████████████████████████████████████████| 196/196 [00:04<00:00, 48.04it/s]\n"
     ]
    },
    {
     "name": "stdout",
     "output_type": "stream",
     "text": [
      "epoch: 9/100, loss_c = 0.530501, loss_r = 0.001745\n"
     ]
    },
    {
     "name": "stderr",
     "output_type": "stream",
     "text": [
      "100%|████████████████████████████████████████████████████████████████████████████████| 196/196 [00:03<00:00, 49.44it/s]\n"
     ]
    },
    {
     "name": "stdout",
     "output_type": "stream",
     "text": [
      "epoch: 10/100, loss_c = 0.537712, loss_r = 0.001744\n"
     ]
    },
    {
     "name": "stderr",
     "output_type": "stream",
     "text": [
      "100%|████████████████████████████████████████████████████████████████████████████████| 196/196 [00:03<00:00, 49.37it/s]\n"
     ]
    },
    {
     "name": "stdout",
     "output_type": "stream",
     "text": [
      "epoch: 11/100, loss_c = 0.499738, loss_r = 0.001744\n"
     ]
    },
    {
     "name": "stderr",
     "output_type": "stream",
     "text": [
      "100%|████████████████████████████████████████████████████████████████████████████████| 196/196 [00:03<00:00, 49.53it/s]\n"
     ]
    },
    {
     "name": "stdout",
     "output_type": "stream",
     "text": [
      "epoch: 12/100, loss_c = 0.478539, loss_r = 0.001744\n"
     ]
    },
    {
     "name": "stderr",
     "output_type": "stream",
     "text": [
      "100%|████████████████████████████████████████████████████████████████████████████████| 196/196 [00:03<00:00, 49.28it/s]\n"
     ]
    },
    {
     "name": "stdout",
     "output_type": "stream",
     "text": [
      "epoch: 13/100, loss_c = 0.471415, loss_r = 0.001743\n"
     ]
    },
    {
     "name": "stderr",
     "output_type": "stream",
     "text": [
      "100%|████████████████████████████████████████████████████████████████████████████████| 196/196 [00:04<00:00, 48.94it/s]\n"
     ]
    },
    {
     "name": "stdout",
     "output_type": "stream",
     "text": [
      "epoch: 14/100, loss_c = 0.484866, loss_r = 0.001743\n"
     ]
    },
    {
     "name": "stderr",
     "output_type": "stream",
     "text": [
      "100%|████████████████████████████████████████████████████████████████████████████████| 196/196 [00:03<00:00, 49.44it/s]\n"
     ]
    },
    {
     "name": "stdout",
     "output_type": "stream",
     "text": [
      "epoch: 15/100, loss_c = 0.474766, loss_r = 0.001743\n"
     ]
    },
    {
     "name": "stderr",
     "output_type": "stream",
     "text": [
      "100%|████████████████████████████████████████████████████████████████████████████████| 196/196 [00:03<00:00, 49.57it/s]\n"
     ]
    },
    {
     "name": "stdout",
     "output_type": "stream",
     "text": [
      "epoch: 16/100, loss_c = 0.450967, loss_r = 0.001743\n"
     ]
    },
    {
     "name": "stderr",
     "output_type": "stream",
     "text": [
      "100%|████████████████████████████████████████████████████████████████████████████████| 196/196 [00:03<00:00, 49.75it/s]\n"
     ]
    },
    {
     "name": "stdout",
     "output_type": "stream",
     "text": [
      "epoch: 17/100, loss_c = 0.443546, loss_r = 0.001743\n"
     ]
    },
    {
     "name": "stderr",
     "output_type": "stream",
     "text": [
      "100%|████████████████████████████████████████████████████████████████████████████████| 196/196 [00:03<00:00, 49.76it/s]\n"
     ]
    },
    {
     "name": "stdout",
     "output_type": "stream",
     "text": [
      "epoch: 18/100, loss_c = 0.447040, loss_r = 0.001742\n"
     ]
    },
    {
     "name": "stderr",
     "output_type": "stream",
     "text": [
      "100%|████████████████████████████████████████████████████████████████████████████████| 196/196 [00:03<00:00, 49.86it/s]\n"
     ]
    },
    {
     "name": "stdout",
     "output_type": "stream",
     "text": [
      "epoch: 19/100, loss_c = 0.428128, loss_r = 0.001743\n"
     ]
    },
    {
     "name": "stderr",
     "output_type": "stream",
     "text": [
      "100%|████████████████████████████████████████████████████████████████████████████████| 196/196 [00:03<00:00, 49.88it/s]\n"
     ]
    },
    {
     "name": "stdout",
     "output_type": "stream",
     "text": [
      "epoch: 20/100, loss_c = 0.418219, loss_r = 0.001742\n"
     ]
    },
    {
     "name": "stderr",
     "output_type": "stream",
     "text": [
      "100%|████████████████████████████████████████████████████████████████████████████████| 196/196 [00:03<00:00, 49.78it/s]\n"
     ]
    },
    {
     "name": "stdout",
     "output_type": "stream",
     "text": [
      "epoch: 21/100, loss_c = 0.412435, loss_r = 0.001742\n"
     ]
    },
    {
     "name": "stderr",
     "output_type": "stream",
     "text": [
      "100%|████████████████████████████████████████████████████████████████████████████████| 196/196 [00:03<00:00, 49.84it/s]\n"
     ]
    },
    {
     "name": "stdout",
     "output_type": "stream",
     "text": [
      "epoch: 22/100, loss_c = 0.400791, loss_r = 0.001742\n"
     ]
    },
    {
     "name": "stderr",
     "output_type": "stream",
     "text": [
      "100%|████████████████████████████████████████████████████████████████████████████████| 196/196 [00:03<00:00, 49.57it/s]\n"
     ]
    },
    {
     "name": "stdout",
     "output_type": "stream",
     "text": [
      "epoch: 23/100, loss_c = 0.390049, loss_r = 0.001742\n"
     ]
    },
    {
     "name": "stderr",
     "output_type": "stream",
     "text": [
      "100%|████████████████████████████████████████████████████████████████████████████████| 196/196 [00:03<00:00, 49.76it/s]\n"
     ]
    },
    {
     "name": "stdout",
     "output_type": "stream",
     "text": [
      "epoch: 24/100, loss_c = 0.380192, loss_r = 0.001742\n"
     ]
    },
    {
     "name": "stderr",
     "output_type": "stream",
     "text": [
      "100%|████████████████████████████████████████████████████████████████████████████████| 196/196 [00:03<00:00, 49.91it/s]\n"
     ]
    },
    {
     "name": "stdout",
     "output_type": "stream",
     "text": [
      "epoch: 25/100, loss_c = 0.371494, loss_r = 0.001742\n"
     ]
    },
    {
     "name": "stderr",
     "output_type": "stream",
     "text": [
      "100%|████████████████████████████████████████████████████████████████████████████████| 196/196 [00:03<00:00, 49.83it/s]\n"
     ]
    },
    {
     "name": "stdout",
     "output_type": "stream",
     "text": [
      "epoch: 26/100, loss_c = 0.364772, loss_r = 0.001742\n"
     ]
    },
    {
     "name": "stderr",
     "output_type": "stream",
     "text": [
      "100%|████████████████████████████████████████████████████████████████████████████████| 196/196 [00:03<00:00, 49.61it/s]\n"
     ]
    },
    {
     "name": "stdout",
     "output_type": "stream",
     "text": [
      "epoch: 27/100, loss_c = 0.351607, loss_r = 0.001742\n"
     ]
    },
    {
     "name": "stderr",
     "output_type": "stream",
     "text": [
      "100%|████████████████████████████████████████████████████████████████████████████████| 196/196 [00:03<00:00, 49.65it/s]\n"
     ]
    },
    {
     "name": "stdout",
     "output_type": "stream",
     "text": [
      "epoch: 28/100, loss_c = 0.342185, loss_r = 0.001742\n"
     ]
    },
    {
     "name": "stderr",
     "output_type": "stream",
     "text": [
      "100%|████████████████████████████████████████████████████████████████████████████████| 196/196 [00:03<00:00, 49.98it/s]\n"
     ]
    },
    {
     "name": "stdout",
     "output_type": "stream",
     "text": [
      "epoch: 29/100, loss_c = 0.327493, loss_r = 0.001741\n"
     ]
    },
    {
     "name": "stderr",
     "output_type": "stream",
     "text": [
      "100%|████████████████████████████████████████████████████████████████████████████████| 196/196 [00:03<00:00, 49.45it/s]\n"
     ]
    },
    {
     "name": "stdout",
     "output_type": "stream",
     "text": [
      "epoch: 30/100, loss_c = 0.322386, loss_r = 0.001742\n"
     ]
    },
    {
     "name": "stderr",
     "output_type": "stream",
     "text": [
      "100%|████████████████████████████████████████████████████████████████████████████████| 196/196 [00:03<00:00, 49.74it/s]\n"
     ]
    },
    {
     "name": "stdout",
     "output_type": "stream",
     "text": [
      "epoch: 31/100, loss_c = 0.302051, loss_r = 0.001742\n"
     ]
    },
    {
     "name": "stderr",
     "output_type": "stream",
     "text": [
      "100%|████████████████████████████████████████████████████████████████████████████████| 196/196 [00:03<00:00, 49.72it/s]\n"
     ]
    },
    {
     "name": "stdout",
     "output_type": "stream",
     "text": [
      "epoch: 32/100, loss_c = 0.299620, loss_r = 0.001742\n"
     ]
    },
    {
     "name": "stderr",
     "output_type": "stream",
     "text": [
      "100%|████████████████████████████████████████████████████████████████████████████████| 196/196 [00:03<00:00, 49.67it/s]\n"
     ]
    },
    {
     "name": "stdout",
     "output_type": "stream",
     "text": [
      "epoch: 33/100, loss_c = 0.276329, loss_r = 0.001741\n"
     ]
    },
    {
     "name": "stderr",
     "output_type": "stream",
     "text": [
      "100%|████████████████████████████████████████████████████████████████████████████████| 196/196 [00:03<00:00, 49.81it/s]\n"
     ]
    },
    {
     "name": "stdout",
     "output_type": "stream",
     "text": [
      "epoch: 34/100, loss_c = 0.265487, loss_r = 0.001741\n"
     ]
    },
    {
     "name": "stderr",
     "output_type": "stream",
     "text": [
      "100%|████████████████████████████████████████████████████████████████████████████████| 196/196 [00:03<00:00, 49.44it/s]\n"
     ]
    },
    {
     "name": "stdout",
     "output_type": "stream",
     "text": [
      "epoch: 35/100, loss_c = 0.250381, loss_r = 0.001742\n"
     ]
    },
    {
     "name": "stderr",
     "output_type": "stream",
     "text": [
      "100%|████████████████████████████████████████████████████████████████████████████████| 196/196 [00:03<00:00, 50.02it/s]\n"
     ]
    },
    {
     "name": "stdout",
     "output_type": "stream",
     "text": [
      "epoch: 36/100, loss_c = 0.234674, loss_r = 0.001742\n"
     ]
    },
    {
     "name": "stderr",
     "output_type": "stream",
     "text": [
      "100%|████████████████████████████████████████████████████████████████████████████████| 196/196 [00:03<00:00, 49.76it/s]\n"
     ]
    },
    {
     "name": "stdout",
     "output_type": "stream",
     "text": [
      "epoch: 37/100, loss_c = 0.219073, loss_r = 0.001742\n"
     ]
    },
    {
     "name": "stderr",
     "output_type": "stream",
     "text": [
      "100%|████████████████████████████████████████████████████████████████████████████████| 196/196 [00:03<00:00, 49.59it/s]\n"
     ]
    },
    {
     "name": "stdout",
     "output_type": "stream",
     "text": [
      "epoch: 38/100, loss_c = 0.202621, loss_r = 0.001742\n"
     ]
    },
    {
     "name": "stderr",
     "output_type": "stream",
     "text": [
      "100%|████████████████████████████████████████████████████████████████████████████████| 196/196 [00:03<00:00, 49.70it/s]\n"
     ]
    },
    {
     "name": "stdout",
     "output_type": "stream",
     "text": [
      "epoch: 39/100, loss_c = 0.201104, loss_r = 0.001742\n"
     ]
    },
    {
     "name": "stderr",
     "output_type": "stream",
     "text": [
      "100%|████████████████████████████████████████████████████████████████████████████████| 196/196 [00:03<00:00, 49.73it/s]\n"
     ]
    },
    {
     "name": "stdout",
     "output_type": "stream",
     "text": [
      "epoch: 40/100, loss_c = 0.186107, loss_r = 0.001742\n"
     ]
    },
    {
     "name": "stderr",
     "output_type": "stream",
     "text": [
      "100%|████████████████████████████████████████████████████████████████████████████████| 196/196 [00:03<00:00, 49.56it/s]\n"
     ]
    },
    {
     "name": "stdout",
     "output_type": "stream",
     "text": [
      "epoch: 41/100, loss_c = 0.166870, loss_r = 0.001742\n"
     ]
    },
    {
     "name": "stderr",
     "output_type": "stream",
     "text": [
      "100%|████████████████████████████████████████████████████████████████████████████████| 196/196 [00:03<00:00, 49.41it/s]\n"
     ]
    },
    {
     "name": "stdout",
     "output_type": "stream",
     "text": [
      "epoch: 42/100, loss_c = 0.161127, loss_r = 0.001742\n"
     ]
    },
    {
     "name": "stderr",
     "output_type": "stream",
     "text": [
      "100%|████████████████████████████████████████████████████████████████████████████████| 196/196 [00:03<00:00, 49.61it/s]\n"
     ]
    },
    {
     "name": "stdout",
     "output_type": "stream",
     "text": [
      "epoch: 43/100, loss_c = 0.151403, loss_r = 0.001742\n"
     ]
    },
    {
     "name": "stderr",
     "output_type": "stream",
     "text": [
      "100%|████████████████████████████████████████████████████████████████████████████████| 196/196 [00:03<00:00, 49.80it/s]\n"
     ]
    },
    {
     "name": "stdout",
     "output_type": "stream",
     "text": [
      "epoch: 44/100, loss_c = 0.132459, loss_r = 0.001742\n"
     ]
    },
    {
     "name": "stderr",
     "output_type": "stream",
     "text": [
      "100%|████████████████████████████████████████████████████████████████████████████████| 196/196 [00:03<00:00, 49.63it/s]\n"
     ]
    },
    {
     "name": "stdout",
     "output_type": "stream",
     "text": [
      "epoch: 45/100, loss_c = 0.125214, loss_r = 0.001743\n"
     ]
    },
    {
     "name": "stderr",
     "output_type": "stream",
     "text": [
      "100%|████████████████████████████████████████████████████████████████████████████████| 196/196 [00:03<00:00, 49.42it/s]\n"
     ]
    },
    {
     "name": "stdout",
     "output_type": "stream",
     "text": [
      "epoch: 46/100, loss_c = 0.111144, loss_r = 0.001742\n"
     ]
    },
    {
     "name": "stderr",
     "output_type": "stream",
     "text": [
      "100%|████████████████████████████████████████████████████████████████████████████████| 196/196 [00:03<00:00, 49.62it/s]\n"
     ]
    },
    {
     "name": "stdout",
     "output_type": "stream",
     "text": [
      "epoch: 47/100, loss_c = 0.096671, loss_r = 0.001742\n"
     ]
    },
    {
     "name": "stderr",
     "output_type": "stream",
     "text": [
      "100%|████████████████████████████████████████████████████████████████████████████████| 196/196 [00:03<00:00, 49.65it/s]\n"
     ]
    },
    {
     "name": "stdout",
     "output_type": "stream",
     "text": [
      "epoch: 48/100, loss_c = 0.086020, loss_r = 0.001741\n"
     ]
    },
    {
     "name": "stderr",
     "output_type": "stream",
     "text": [
      "100%|████████████████████████████████████████████████████████████████████████████████| 196/196 [00:03<00:00, 49.40it/s]\n"
     ]
    },
    {
     "name": "stdout",
     "output_type": "stream",
     "text": [
      "epoch: 49/100, loss_c = 0.079237, loss_r = 0.001741\n"
     ]
    },
    {
     "name": "stderr",
     "output_type": "stream",
     "text": [
      "100%|████████████████████████████████████████████████████████████████████████████████| 196/196 [00:03<00:00, 49.43it/s]\n"
     ]
    },
    {
     "name": "stdout",
     "output_type": "stream",
     "text": [
      "epoch: 50/100, loss_c = 0.067349, loss_r = 0.001741\n"
     ]
    },
    {
     "name": "stderr",
     "output_type": "stream",
     "text": [
      "100%|████████████████████████████████████████████████████████████████████████████████| 196/196 [00:03<00:00, 49.77it/s]\n"
     ]
    },
    {
     "name": "stdout",
     "output_type": "stream",
     "text": [
      "epoch: 51/100, loss_c = 0.062072, loss_r = 0.001742\n"
     ]
    },
    {
     "name": "stderr",
     "output_type": "stream",
     "text": [
      "100%|████████████████████████████████████████████████████████████████████████████████| 196/196 [00:03<00:00, 49.68it/s]\n"
     ]
    },
    {
     "name": "stdout",
     "output_type": "stream",
     "text": [
      "epoch: 52/100, loss_c = 0.054949, loss_r = 0.001741\n"
     ]
    },
    {
     "name": "stderr",
     "output_type": "stream",
     "text": [
      "100%|████████████████████████████████████████████████████████████████████████████████| 196/196 [00:03<00:00, 49.56it/s]\n"
     ]
    },
    {
     "name": "stdout",
     "output_type": "stream",
     "text": [
      "epoch: 53/100, loss_c = 0.048171, loss_r = 0.001741\n"
     ]
    },
    {
     "name": "stderr",
     "output_type": "stream",
     "text": [
      "100%|████████████████████████████████████████████████████████████████████████████████| 196/196 [00:03<00:00, 49.50it/s]\n"
     ]
    },
    {
     "name": "stdout",
     "output_type": "stream",
     "text": [
      "epoch: 54/100, loss_c = 0.041843, loss_r = 0.001741\n"
     ]
    },
    {
     "name": "stderr",
     "output_type": "stream",
     "text": [
      "100%|████████████████████████████████████████████████████████████████████████████████| 196/196 [00:03<00:00, 50.00it/s]\n"
     ]
    },
    {
     "name": "stdout",
     "output_type": "stream",
     "text": [
      "epoch: 55/100, loss_c = 0.033622, loss_r = 0.001741\n"
     ]
    },
    {
     "name": "stderr",
     "output_type": "stream",
     "text": [
      "100%|████████████████████████████████████████████████████████████████████████████████| 196/196 [00:04<00:00, 48.35it/s]\n"
     ]
    },
    {
     "name": "stdout",
     "output_type": "stream",
     "text": [
      "epoch: 56/100, loss_c = 0.028208, loss_r = 0.001741\n"
     ]
    },
    {
     "name": "stderr",
     "output_type": "stream",
     "text": [
      "100%|████████████████████████████████████████████████████████████████████████████████| 196/196 [00:03<00:00, 49.14it/s]\n"
     ]
    },
    {
     "name": "stdout",
     "output_type": "stream",
     "text": [
      "epoch: 57/100, loss_c = 0.022844, loss_r = 0.001741\n"
     ]
    },
    {
     "name": "stderr",
     "output_type": "stream",
     "text": [
      "100%|████████████████████████████████████████████████████████████████████████████████| 196/196 [00:03<00:00, 49.17it/s]\n"
     ]
    },
    {
     "name": "stdout",
     "output_type": "stream",
     "text": [
      "epoch: 58/100, loss_c = 0.018693, loss_r = 0.001741\n"
     ]
    },
    {
     "name": "stderr",
     "output_type": "stream",
     "text": [
      "100%|████████████████████████████████████████████████████████████████████████████████| 196/196 [00:03<00:00, 49.71it/s]\n"
     ]
    },
    {
     "name": "stdout",
     "output_type": "stream",
     "text": [
      "epoch: 59/100, loss_c = 0.015038, loss_r = 0.001741\n"
     ]
    },
    {
     "name": "stderr",
     "output_type": "stream",
     "text": [
      "100%|████████████████████████████████████████████████████████████████████████████████| 196/196 [00:03<00:00, 49.57it/s]\n"
     ]
    },
    {
     "name": "stdout",
     "output_type": "stream",
     "text": [
      "epoch: 60/100, loss_c = 0.012124, loss_r = 0.001741\n"
     ]
    },
    {
     "name": "stderr",
     "output_type": "stream",
     "text": [
      "100%|████████████████████████████████████████████████████████████████████████████████| 196/196 [00:04<00:00, 48.61it/s]\n"
     ]
    },
    {
     "name": "stdout",
     "output_type": "stream",
     "text": [
      "epoch: 61/100, loss_c = 0.010279, loss_r = 0.001741\n"
     ]
    },
    {
     "name": "stderr",
     "output_type": "stream",
     "text": [
      "100%|████████████████████████████████████████████████████████████████████████████████| 196/196 [00:03<00:00, 49.63it/s]\n"
     ]
    },
    {
     "name": "stdout",
     "output_type": "stream",
     "text": [
      "epoch: 62/100, loss_c = 0.008419, loss_r = 0.001741\n"
     ]
    },
    {
     "name": "stderr",
     "output_type": "stream",
     "text": [
      "100%|████████████████████████████████████████████████████████████████████████████████| 196/196 [00:03<00:00, 49.53it/s]\n"
     ]
    },
    {
     "name": "stdout",
     "output_type": "stream",
     "text": [
      "epoch: 63/100, loss_c = 0.007137, loss_r = 0.001741\n"
     ]
    },
    {
     "name": "stderr",
     "output_type": "stream",
     "text": [
      "100%|████████████████████████████████████████████████████████████████████████████████| 196/196 [00:03<00:00, 49.54it/s]\n"
     ]
    },
    {
     "name": "stdout",
     "output_type": "stream",
     "text": [
      "epoch: 64/100, loss_c = 0.005425, loss_r = 0.001741\n"
     ]
    },
    {
     "name": "stderr",
     "output_type": "stream",
     "text": [
      "100%|████████████████████████████████████████████████████████████████████████████████| 196/196 [00:03<00:00, 49.84it/s]\n"
     ]
    },
    {
     "name": "stdout",
     "output_type": "stream",
     "text": [
      "epoch: 65/100, loss_c = 0.004375, loss_r = 0.001741\n"
     ]
    },
    {
     "name": "stderr",
     "output_type": "stream",
     "text": [
      "100%|████████████████████████████████████████████████████████████████████████████████| 196/196 [00:03<00:00, 49.53it/s]\n"
     ]
    },
    {
     "name": "stdout",
     "output_type": "stream",
     "text": [
      "epoch: 66/100, loss_c = 0.003483, loss_r = 0.001741\n"
     ]
    },
    {
     "name": "stderr",
     "output_type": "stream",
     "text": [
      "100%|████████████████████████████████████████████████████████████████████████████████| 196/196 [00:03<00:00, 49.45it/s]\n"
     ]
    },
    {
     "name": "stdout",
     "output_type": "stream",
     "text": [
      "epoch: 67/100, loss_c = 0.002824, loss_r = 0.001740\n"
     ]
    },
    {
     "name": "stderr",
     "output_type": "stream",
     "text": [
      "100%|████████████████████████████████████████████████████████████████████████████████| 196/196 [00:03<00:00, 49.55it/s]\n"
     ]
    },
    {
     "name": "stdout",
     "output_type": "stream",
     "text": [
      "epoch: 68/100, loss_c = 0.002255, loss_r = 0.001740\n"
     ]
    },
    {
     "name": "stderr",
     "output_type": "stream",
     "text": [
      "100%|████████████████████████████████████████████████████████████████████████████████| 196/196 [00:03<00:00, 50.02it/s]\n"
     ]
    },
    {
     "name": "stdout",
     "output_type": "stream",
     "text": [
      "epoch: 69/100, loss_c = 0.001853, loss_r = 0.001740\n"
     ]
    },
    {
     "name": "stderr",
     "output_type": "stream",
     "text": [
      "100%|████████████████████████████████████████████████████████████████████████████████| 196/196 [00:03<00:00, 49.52it/s]\n"
     ]
    },
    {
     "name": "stdout",
     "output_type": "stream",
     "text": [
      "epoch: 70/100, loss_c = 0.001546, loss_r = 0.001740\n"
     ]
    },
    {
     "name": "stderr",
     "output_type": "stream",
     "text": [
      "100%|████████████████████████████████████████████████████████████████████████████████| 196/196 [00:03<00:00, 49.23it/s]\n"
     ]
    },
    {
     "name": "stdout",
     "output_type": "stream",
     "text": [
      "epoch: 71/100, loss_c = 0.001265, loss_r = 0.001740\n"
     ]
    },
    {
     "name": "stderr",
     "output_type": "stream",
     "text": [
      "100%|████████████████████████████████████████████████████████████████████████████████| 196/196 [00:03<00:00, 49.69it/s]\n"
     ]
    },
    {
     "name": "stdout",
     "output_type": "stream",
     "text": [
      "epoch: 72/100, loss_c = 0.001069, loss_r = 0.001740\n"
     ]
    },
    {
     "name": "stderr",
     "output_type": "stream",
     "text": [
      "100%|████████████████████████████████████████████████████████████████████████████████| 196/196 [00:03<00:00, 49.65it/s]\n"
     ]
    },
    {
     "name": "stdout",
     "output_type": "stream",
     "text": [
      "epoch: 73/100, loss_c = 0.000888, loss_r = 0.001740\n"
     ]
    },
    {
     "name": "stderr",
     "output_type": "stream",
     "text": [
      "100%|████████████████████████████████████████████████████████████████████████████████| 196/196 [00:03<00:00, 49.41it/s]\n"
     ]
    },
    {
     "name": "stdout",
     "output_type": "stream",
     "text": [
      "epoch: 74/100, loss_c = 0.000759, loss_r = 0.001740\n"
     ]
    },
    {
     "name": "stderr",
     "output_type": "stream",
     "text": [
      "100%|████████████████████████████████████████████████████████████████████████████████| 196/196 [00:03<00:00, 49.30it/s]\n"
     ]
    },
    {
     "name": "stdout",
     "output_type": "stream",
     "text": [
      "epoch: 75/100, loss_c = 0.001831, loss_r = 0.001741\n"
     ]
    },
    {
     "name": "stderr",
     "output_type": "stream",
     "text": [
      "100%|████████████████████████████████████████████████████████████████████████████████| 196/196 [00:03<00:00, 49.76it/s]\n"
     ]
    },
    {
     "name": "stdout",
     "output_type": "stream",
     "text": [
      "epoch: 76/100, loss_c = 0.005146, loss_r = 0.001741\n"
     ]
    },
    {
     "name": "stderr",
     "output_type": "stream",
     "text": [
      "100%|████████████████████████████████████████████████████████████████████████████████| 196/196 [00:03<00:00, 49.67it/s]\n"
     ]
    },
    {
     "name": "stdout",
     "output_type": "stream",
     "text": [
      "epoch: 77/100, loss_c = 0.023229, loss_r = 0.001741\n"
     ]
    },
    {
     "name": "stderr",
     "output_type": "stream",
     "text": [
      "100%|████████████████████████████████████████████████████████████████████████████████| 196/196 [00:03<00:00, 49.38it/s]\n"
     ]
    },
    {
     "name": "stdout",
     "output_type": "stream",
     "text": [
      "epoch: 78/100, loss_c = 0.032556, loss_r = 0.001741\n"
     ]
    },
    {
     "name": "stderr",
     "output_type": "stream",
     "text": [
      "100%|████████████████████████████████████████████████████████████████████████████████| 196/196 [00:03<00:00, 49.67it/s]\n"
     ]
    },
    {
     "name": "stdout",
     "output_type": "stream",
     "text": [
      "epoch: 79/100, loss_c = 0.013739, loss_r = 0.001741\n"
     ]
    },
    {
     "name": "stderr",
     "output_type": "stream",
     "text": [
      "100%|████████████████████████████████████████████████████████████████████████████████| 196/196 [00:03<00:00, 49.96it/s]\n"
     ]
    },
    {
     "name": "stdout",
     "output_type": "stream",
     "text": [
      "epoch: 80/100, loss_c = 0.007416, loss_r = 0.001740\n"
     ]
    },
    {
     "name": "stderr",
     "output_type": "stream",
     "text": [
      "100%|████████████████████████████████████████████████████████████████████████████████| 196/196 [00:03<00:00, 49.47it/s]\n"
     ]
    },
    {
     "name": "stdout",
     "output_type": "stream",
     "text": [
      "epoch: 81/100, loss_c = 0.005634, loss_r = 0.001740\n"
     ]
    },
    {
     "name": "stderr",
     "output_type": "stream",
     "text": [
      "100%|████████████████████████████████████████████████████████████████████████████████| 196/196 [00:03<00:00, 49.59it/s]\n"
     ]
    },
    {
     "name": "stdout",
     "output_type": "stream",
     "text": [
      "epoch: 82/100, loss_c = 0.006156, loss_r = 0.001740\n"
     ]
    },
    {
     "name": "stderr",
     "output_type": "stream",
     "text": [
      "100%|████████████████████████████████████████████████████████████████████████████████| 196/196 [00:04<00:00, 48.52it/s]\n"
     ]
    },
    {
     "name": "stdout",
     "output_type": "stream",
     "text": [
      "epoch: 83/100, loss_c = 0.005174, loss_r = 0.001740\n"
     ]
    },
    {
     "name": "stderr",
     "output_type": "stream",
     "text": [
      "100%|████████████████████████████████████████████████████████████████████████████████| 196/196 [00:04<00:00, 48.94it/s]\n"
     ]
    },
    {
     "name": "stdout",
     "output_type": "stream",
     "text": [
      "epoch: 84/100, loss_c = 0.004034, loss_r = 0.001740\n"
     ]
    },
    {
     "name": "stderr",
     "output_type": "stream",
     "text": [
      "100%|████████████████████████████████████████████████████████████████████████████████| 196/196 [00:03<00:00, 49.35it/s]\n"
     ]
    },
    {
     "name": "stdout",
     "output_type": "stream",
     "text": [
      "epoch: 85/100, loss_c = 2.000808, loss_r = 0.001754\n"
     ]
    },
    {
     "name": "stderr",
     "output_type": "stream",
     "text": [
      "100%|████████████████████████████████████████████████████████████████████████████████| 196/196 [00:03<00:00, 49.58it/s]\n"
     ]
    },
    {
     "name": "stdout",
     "output_type": "stream",
     "text": [
      "epoch: 86/100, loss_c = 3.074737, loss_r = 0.001746\n"
     ]
    },
    {
     "name": "stderr",
     "output_type": "stream",
     "text": [
      "100%|████████████████████████████████████████████████████████████████████████████████| 196/196 [00:03<00:00, 49.87it/s]\n"
     ]
    },
    {
     "name": "stdout",
     "output_type": "stream",
     "text": [
      "epoch: 87/100, loss_c = 0.269197, loss_r = 0.001744\n"
     ]
    },
    {
     "name": "stderr",
     "output_type": "stream",
     "text": [
      "100%|████████████████████████████████████████████████████████████████████████████████| 196/196 [00:03<00:00, 49.39it/s]\n"
     ]
    },
    {
     "name": "stdout",
     "output_type": "stream",
     "text": [
      "epoch: 88/100, loss_c = 0.162589, loss_r = 0.001744\n"
     ]
    },
    {
     "name": "stderr",
     "output_type": "stream",
     "text": [
      "100%|████████████████████████████████████████████████████████████████████████████████| 196/196 [00:03<00:00, 49.44it/s]\n"
     ]
    },
    {
     "name": "stdout",
     "output_type": "stream",
     "text": [
      "epoch: 89/100, loss_c = 0.119617, loss_r = 0.001743\n"
     ]
    },
    {
     "name": "stderr",
     "output_type": "stream",
     "text": [
      "100%|████████████████████████████████████████████████████████████████████████████████| 196/196 [00:03<00:00, 49.81it/s]\n"
     ]
    },
    {
     "name": "stdout",
     "output_type": "stream",
     "text": [
      "epoch: 90/100, loss_c = 0.088368, loss_r = 0.001743\n"
     ]
    },
    {
     "name": "stderr",
     "output_type": "stream",
     "text": [
      "100%|████████████████████████████████████████████████████████████████████████████████| 196/196 [00:03<00:00, 49.88it/s]\n"
     ]
    },
    {
     "name": "stdout",
     "output_type": "stream",
     "text": [
      "epoch: 91/100, loss_c = 0.062463, loss_r = 0.001743\n"
     ]
    },
    {
     "name": "stderr",
     "output_type": "stream",
     "text": [
      "100%|████████████████████████████████████████████████████████████████████████████████| 196/196 [00:03<00:00, 49.31it/s]\n"
     ]
    },
    {
     "name": "stdout",
     "output_type": "stream",
     "text": [
      "epoch: 92/100, loss_c = 0.043299, loss_r = 0.001743\n"
     ]
    },
    {
     "name": "stderr",
     "output_type": "stream",
     "text": [
      "100%|████████████████████████████████████████████████████████████████████████████████| 196/196 [00:03<00:00, 49.46it/s]\n"
     ]
    },
    {
     "name": "stdout",
     "output_type": "stream",
     "text": [
      "epoch: 93/100, loss_c = 0.030291, loss_r = 0.001743\n"
     ]
    },
    {
     "name": "stderr",
     "output_type": "stream",
     "text": [
      "100%|████████████████████████████████████████████████████████████████████████████████| 196/196 [00:03<00:00, 49.86it/s]\n"
     ]
    },
    {
     "name": "stdout",
     "output_type": "stream",
     "text": [
      "epoch: 94/100, loss_c = 0.021086, loss_r = 0.001742\n"
     ]
    },
    {
     "name": "stderr",
     "output_type": "stream",
     "text": [
      "100%|████████████████████████████████████████████████████████████████████████████████| 196/196 [00:03<00:00, 49.53it/s]\n"
     ]
    },
    {
     "name": "stdout",
     "output_type": "stream",
     "text": [
      "epoch: 95/100, loss_c = 0.014889, loss_r = 0.001742\n"
     ]
    },
    {
     "name": "stderr",
     "output_type": "stream",
     "text": [
      "100%|████████████████████████████████████████████████████████████████████████████████| 196/196 [00:03<00:00, 49.42it/s]\n"
     ]
    },
    {
     "name": "stdout",
     "output_type": "stream",
     "text": [
      "epoch: 96/100, loss_c = 0.010966, loss_r = 0.001742\n"
     ]
    },
    {
     "name": "stderr",
     "output_type": "stream",
     "text": [
      "100%|████████████████████████████████████████████████████████████████████████████████| 196/196 [00:03<00:00, 49.51it/s]\n"
     ]
    },
    {
     "name": "stdout",
     "output_type": "stream",
     "text": [
      "epoch: 97/100, loss_c = 0.008688, loss_r = 0.001742\n"
     ]
    },
    {
     "name": "stderr",
     "output_type": "stream",
     "text": [
      "100%|████████████████████████████████████████████████████████████████████████████████| 196/196 [00:03<00:00, 49.84it/s]\n"
     ]
    },
    {
     "name": "stdout",
     "output_type": "stream",
     "text": [
      "epoch: 98/100, loss_c = 0.007149, loss_r = 0.001742\n"
     ]
    },
    {
     "name": "stderr",
     "output_type": "stream",
     "text": [
      "100%|████████████████████████████████████████████████████████████████████████████████| 196/196 [00:03<00:00, 49.51it/s]\n"
     ]
    },
    {
     "name": "stdout",
     "output_type": "stream",
     "text": [
      "epoch: 99/100, loss_c = 0.005991, loss_r = 0.001742\n"
     ]
    },
    {
     "name": "stderr",
     "output_type": "stream",
     "text": [
      "100%|████████████████████████████████████████████████████████████████████████████████| 196/196 [00:03<00:00, 49.39it/s]"
     ]
    },
    {
     "name": "stdout",
     "output_type": "stream",
     "text": [
      "epoch: 100/100, loss_c = 0.005111, loss_r = 0.001742\n"
     ]
    },
    {
     "name": "stderr",
     "output_type": "stream",
     "text": [
      "\n"
     ]
    }
   ],
   "source": [
    "# train\n",
    "train_model(\n",
    "    model=model,\n",
    "    train_loader_cls=train_dataloader,\n",
    "    train_loader_mem=train_dataloader_mem,\n",
    "    val_loader_cls=None,\n",
    "    optimizer_cls=optimizer_cls,\n",
    "    optimizer_mem=optimizer_mem,\n",
    "    loss_cls=loss_cls,\n",
    "    loss_mem=loss_mem,\n",
    "    epochs=epochs,\n",
    "    save_path=None,\n",
    "    device=device\n",
    ")"
   ]
  },
  {
   "cell_type": "code",
   "execution_count": 20,
   "id": "0ba0365a-ea52-48fc-a5ec-85ae0f0ca345",
   "metadata": {},
   "outputs": [],
   "source": [
    "# get accuracy of test data\n",
    "def test_acc(model, data_loader, device):\n",
    "    correct=0\n",
    "    model.eval()\n",
    "    with torch.no_grad():\n",
    "        for batch in data_loader:\n",
    "            embeddings = batch[\"embedding\"]\n",
    "            labels = batch[\"target\"]\n",
    "            embeddings = embeddings.to(device)\n",
    "            labels = labels.to(device)\n",
    "            output = model(embeddings)\n",
    "            ypred = output.data.max(1, keepdim=True)[1].squeeze()\n",
    "            correct += ypred.eq(labels).sum()\n",
    "    acc = correct/len(data_loader.dataset)\n",
    "    return acc"
   ]
  },
  {
   "cell_type": "code",
   "execution_count": 21,
   "id": "cc2e1829-f2c0-47a5-91ef-ec6594c1dca0",
   "metadata": {},
   "outputs": [
    {
     "data": {
      "text/plain": [
       "tensor(0.7334, device='cuda:0')"
      ]
     },
     "execution_count": 21,
     "metadata": {},
     "output_type": "execute_result"
    }
   ],
   "source": [
    "test_acc(\n",
    "    model=model,\n",
    "    data_loader=test_dataloader,\n",
    "    device=device\n",
    ")"
   ]
  },
  {
   "cell_type": "code",
   "execution_count": 22,
   "id": "2df8b2ec-1095-4543-9b91-018411369fd9",
   "metadata": {},
   "outputs": [],
   "source": [
    "# test memorization accuracy\n",
    "def test_mem_accuracy(mem_data:CustomMemDataset, device:torch.device, input_size:int):\n",
    "    index = faiss.IndexFlatL2(input_size)  # create index\n",
    "    index.add(mem_data.embeddings)\n",
    "    print(\"Total Number of Index:\", index.ntotal)\n",
    "\n",
    "    correct = 0\n",
    "    with torch.no_grad():\n",
    "        idx = 0\n",
    "        for data in mem_data:\n",
    "            code = data[\"gray_code\"]\n",
    "            code = code.to(device)\n",
    "            pred_embedding = model.forward_transposed(code)\n",
    "            pred_embedding = pred_embedding.to(\"cpu\")  # for faiss cpu\n",
    "            D, I = index.search(pred_embedding.view(1, -1), 1)  # similarity search\n",
    "            if idx == I[0][0]:\n",
    "                correct += 1\n",
    "            idx += 1  # next data\n",
    "\n",
    "    print(\"Correct = {}/{}, Accuracy = {:.6f}\".format(correct, len(mem_data), correct / len(mem_data)))"
   ]
  },
  {
   "cell_type": "code",
   "execution_count": 23,
   "id": "9abd8b17-249c-49ff-ae7c-825ab49183cb",
   "metadata": {},
   "outputs": [
    {
     "name": "stdout",
     "output_type": "stream",
     "text": [
      "Total Number of Index: 1250\n",
      "Correct = 1/1250, Accuracy = 0.000800\n"
     ]
    }
   ],
   "source": [
    "test_mem_accuracy(\n",
    "    mem_data=train_mem_data,\n",
    "    device=device,\n",
    "    input_size=input_size\n",
    ")"
   ]
  },
  {
   "cell_type": "code",
   "execution_count": null,
   "id": "fb186feb-e270-4fd5-908b-6b3d46c263ca",
   "metadata": {},
   "outputs": [],
   "source": []
  }
 ],
 "metadata": {
  "kernelspec": {
   "display_name": "Python 3 (ipykernel)",
   "language": "python",
   "name": "python3"
  },
  "language_info": {
   "codemirror_mode": {
    "name": "ipython",
    "version": 3
   },
   "file_extension": ".py",
   "mimetype": "text/x-python",
   "name": "python",
   "nbconvert_exporter": "python",
   "pygments_lexer": "ipython3",
   "version": "3.11.7"
  }
 },
 "nbformat": 4,
 "nbformat_minor": 5
}
