{
 "cells": [
  {
   "cell_type": "markdown",
   "id": "654b7319",
   "metadata": {},
   "source": [
    "# Transpose Attack using Simple Linear Layer Network"
   ]
  },
  {
   "cell_type": "code",
   "execution_count": 1,
   "id": "3c2640d1-ed33-40e4-ad4c-8ab78dd553f0",
   "metadata": {},
   "outputs": [],
   "source": [
    "import numpy as np\n",
    "import torch\n",
    "import torch.nn as nn\n",
    "import torch.optim as optim\n",
    "from torch.utils.data import Dataset, DataLoader, random_split, Subset\n",
    "import torch.nn.functional as F\n",
    "from collections import Counter\n",
    "import datasets\n",
    "from datasets import load_dataset\n",
    "from sentence_transformers import SentenceTransformer\n",
    "from tqdm import tqdm\n",
    "import time\n",
    "import faiss"
   ]
  },
  {
   "cell_type": "code",
   "execution_count": 2,
   "id": "10ebb21c-f695-4338-a962-374540d3f0cb",
   "metadata": {},
   "outputs": [],
   "source": [
    "device = torch.device(\"cuda\" if torch.cuda.is_available() else \"cpu\")"
   ]
  },
  {
   "cell_type": "code",
   "execution_count": 3,
   "id": "7c8ff277-dc02-4249-bff6-f8c6051685da",
   "metadata": {},
   "outputs": [],
   "source": [
    "# sentence transformer model\n",
    "# transforms input sentences to sentence embeddings\n",
    "st_model = SentenceTransformer('sentence-transformers/all-MiniLM-L6-v2').to(device)  # in GPU"
   ]
  },
  {
   "cell_type": "code",
   "execution_count": 4,
   "id": "ef388ca4-c7a7-4534-b875-7b942e5da932",
   "metadata": {},
   "outputs": [],
   "source": [
    "# using StanfordNLP IMDB dataset\n",
    "dataset = load_dataset(\"stanfordnlp/imdb\")"
   ]
  },
  {
   "cell_type": "code",
   "execution_count": 5,
   "id": "789f93c8-2887-4ed7-866a-d7ceba453a2c",
   "metadata": {},
   "outputs": [],
   "source": [
    "def grayN(base, digits, value):\n",
    "    '''\n",
    "    A method for producing the grayN code for the spatial index\n",
    "    @base: the base for the code\n",
    "    @digits: Length of the code - should be equal to the output size of the model\n",
    "    @value: the value to encode\n",
    "    '''\n",
    "    baseN = torch.zeros(digits)\n",
    "    gray = torch.zeros(digits)   \n",
    "    for i in range(0, digits):\n",
    "        baseN[i] = value % base\n",
    "        value    = value // base\n",
    "    shift = 0\n",
    "    while i >= 0:\n",
    "        gray[i] = (baseN[i] + shift) % base\n",
    "        shift = shift + base - gray[i]\t\n",
    "        i -= 1\n",
    "    return gray"
   ]
  },
  {
   "cell_type": "code",
   "execution_count": 6,
   "id": "ab5e3a25-8ec9-4624-ab48-85d3da9ad60f",
   "metadata": {},
   "outputs": [],
   "source": [
    "class CustomDataset(Dataset):\n",
    "    def __init__(self, dataset:datasets.dataset_dict.DatasetDict, st_model:SentenceTransformer, is_train=True):\n",
    "        if is_train:\n",
    "            self.data = dataset['train']['text']\n",
    "            self.targets = dataset['train']['label']\n",
    "        else:\n",
    "            self.data = dataset['test']['text']\n",
    "            self.targets = dataset['test']['label']\n",
    "        self.st_model = st_model  # sentence transformer model\n",
    "        print(\"Encoding sentences ...\")\n",
    "        start_time = time.time()\n",
    "        self.embeddings = self.st_model.encode(self.data)  # encode to sentence embeddings\n",
    "        self.embeddings = torch.tensor(self.embeddings)  # convert to torch tensor\n",
    "        end_time = time.time()\n",
    "        print(\"Elaped time encoding =\", end_time - start_time)\n",
    "\n",
    "    def __len__(self):\n",
    "        return len(self.targets)\n",
    "\n",
    "    def __getitem__(self, index):\n",
    "        with torch.no_grad():\n",
    "            text = self.data[index]\n",
    "            embedding = self.embeddings[index]\n",
    "            target = torch.tensor(self.targets[index])\n",
    "\n",
    "        return {\n",
    "            \"target\": target,\n",
    "            \"embedding\": embedding,\n",
    "            \"text\": text\n",
    "        }"
   ]
  },
  {
   "cell_type": "code",
   "execution_count": 7,
   "id": "5415da1e-f49d-4c6c-8557-ad5297f0a7ca",
   "metadata": {},
   "outputs": [],
   "source": [
    "class CustomMemDataset(Dataset):\n",
    "    def __init__(self, dataset:datasets.dataset_dict.DatasetDict, st_model:SentenceTransformer, num_classes:int, memorize_percentage:float=0.1):\n",
    "        if memorize_percentage < 0.0 or memorize_percentage > 1.0:\n",
    "            raise ValueError(\"memorize_percentage must be between 0.0 and 1.0\")\n",
    "        self.data = dataset['train']['text']\n",
    "        self.targets = dataset['train']['label']\n",
    "        self.data = self.data[:int(len(self.data) * memorize_percentage)]  # leave only some portion of data\n",
    "        self.targets = self.targets[:int(len(self.targets) * memorize_percentage)]  # leave only some portion of data\n",
    "        self.indxs = torch.arange(len(self.data))\n",
    "        self.code_size = num_classes # equal to the number of model outputs (0, 1)\n",
    "        self.st_model = st_model\n",
    "        print(\"Encoding sentences ...\")\n",
    "        start_time = time.time()\n",
    "        self.embeddings = self.st_model.encode(self.data)  # encode to sentence embeddings\n",
    "        self.embeddings = torch.tensor(self.embeddings)  # convert to torch tensor\n",
    "        end_time = time.time()\n",
    "        print(\"Elaped time encoding =\", end_time - start_time)\n",
    "        \n",
    "\n",
    "        # create index+class embeddings and a reverse lookup\n",
    "        self.C = Counter()\n",
    "        self.codes = torch.zeros(len(self.targets), self.code_size)\n",
    "        self.inputs = []\n",
    "        self.input2index = {}\n",
    "        with torch.no_grad():\n",
    "            for i in range(len(self.data)):\n",
    "                label = int(self.targets[i])\n",
    "                self.C.update(str(label))\n",
    "\n",
    "                class_code = torch.zeros(self.code_size)\n",
    "                class_code[int(self.targets[i])] = 3  # gray code base (3)\n",
    "                self.codes[i] = grayN(3, self.code_size, self.C[str(label)]) + class_code\n",
    "        # need to implement lookup table\n",
    "\n",
    "    def __len__(self):\n",
    "        return len(self.targets)\n",
    "\n",
    "    def __getitem__(self, index):\n",
    "        with torch.no_grad():\n",
    "            text = self.data[index]\n",
    "            embedding = self.embeddings[index]\n",
    "            target = torch.tensor(self.targets[index])\n",
    "            enc = self.codes[index]\n",
    "\n",
    "        return {\n",
    "            \"gray_code\": enc,\n",
    "            \"target\": target,\n",
    "            \"embedding\": embedding,\n",
    "            \"text\": text\n",
    "        }"
   ]
  },
  {
   "cell_type": "code",
   "execution_count": 8,
   "id": "3091857b-4b6f-4f6e-9803-d4ac0b28f90b",
   "metadata": {},
   "outputs": [
    {
     "name": "stdout",
     "output_type": "stream",
     "text": [
      "Encoding sentences ...\n",
      "Elaped time encoding = 50.950690269470215\n"
     ]
    }
   ],
   "source": [
    "train_data = CustomDataset(\n",
    "    dataset=dataset,\n",
    "    st_model=st_model,\n",
    "    is_train=True\n",
    ")"
   ]
  },
  {
   "cell_type": "code",
   "execution_count": 9,
   "id": "f55415d2-4d63-4148-9809-42f919904ea6",
   "metadata": {},
   "outputs": [
    {
     "name": "stdout",
     "output_type": "stream",
     "text": [
      "Encoding sentences ...\n",
      "Elaped time encoding = 49.68204593658447\n"
     ]
    }
   ],
   "source": [
    "test_data = CustomDataset(\n",
    "    dataset=dataset,\n",
    "    st_model=st_model,\n",
    "    is_train=False\n",
    ")"
   ]
  },
  {
   "cell_type": "code",
   "execution_count": 10,
   "id": "0f4c49ba-e1a4-4f12-bec8-03f28392adf0",
   "metadata": {},
   "outputs": [
    {
     "name": "stdout",
     "output_type": "stream",
     "text": [
      "Encoding sentences ...\n",
      "Elaped time encoding = 2.538942337036133\n"
     ]
    }
   ],
   "source": [
    "train_mem_data = CustomMemDataset(\n",
    "    dataset=dataset,\n",
    "    st_model=st_model,\n",
    "    num_classes=2,\n",
    "    memorize_percentage=0.05\n",
    ")"
   ]
  },
  {
   "cell_type": "code",
   "execution_count": 11,
   "id": "8b2d34bf-ad38-4155-927a-3aeee46fcde4",
   "metadata": {},
   "outputs": [],
   "source": [
    "input_size = 384\n",
    "output_size = 2\n",
    "hidden_layers = [2048, 2048, 2048, 2048, 1024, 1024]\n",
    "batch_size = 128\n",
    "epochs = 100"
   ]
  },
  {
   "cell_type": "code",
   "execution_count": 12,
   "id": "0f95629d-7d96-466d-b0f2-83e1919a6e31",
   "metadata": {},
   "outputs": [],
   "source": [
    "class MemNetFC(nn.Module):\n",
    "    def __init__(self, **kwargs):\n",
    "        super().__init__()\n",
    "        self.n_layers = len(kwargs['hidden_layers'])\n",
    "        self.input_layer = nn.Linear(\n",
    "            in_features=kwargs[\"input_size\"],\n",
    "            out_features=kwargs['hidden_layers'][0]\n",
    "        )\n",
    "        self.hidden_layers = nn.Sequential(*[nn.Linear(\n",
    "            in_features=kwargs['hidden_layers'][i-1], \n",
    "            out_features=kwargs['hidden_layers'][i]\n",
    "        ) for i in range(1, self.n_layers)])\n",
    "\n",
    "        self.decoder_output_layer = nn.Linear(\n",
    "            in_features=kwargs['hidden_layers'][-1],\n",
    "            out_features=kwargs[\"output_size\"]\n",
    "        )\n",
    "\n",
    "    def forward(self, x):\n",
    "        activation = torch.relu(self.input_layer(x))\n",
    "        for layer in self.hidden_layers:\n",
    "            activation = torch.relu(layer(activation))\n",
    "        predlabel = self.decoder_output_layer(activation)\n",
    "        return predlabel\n",
    "\n",
    "    def forward_transposed(self, code):\n",
    "        activation = torch.relu(torch.matmul(code, self.decoder_output_layer.weight))\n",
    "        for layer in self.hidden_layers[::-1]:\n",
    "            activation = torch.relu(torch.matmul(activation, layer.weight))\n",
    "        pred_embedding = torch.matmul(activation, self.input_layer.weight)\n",
    "        return pred_embedding"
   ]
  },
  {
   "cell_type": "code",
   "execution_count": 13,
   "id": "2223f78c-cf00-465d-8225-b59da7140910",
   "metadata": {},
   "outputs": [],
   "source": [
    "model = MemNetFC(input_size=input_size, output_size=output_size, hidden_layers=hidden_layers).to(device)"
   ]
  },
  {
   "cell_type": "code",
   "execution_count": 14,
   "id": "d4130142-4000-4528-a4ef-943ed237a00a",
   "metadata": {},
   "outputs": [
    {
     "data": {
      "text/plain": [
       "MemNetFC(\n",
       "  (input_layer): Linear(in_features=384, out_features=2048, bias=True)\n",
       "  (hidden_layers): Sequential(\n",
       "    (0): Linear(in_features=2048, out_features=2048, bias=True)\n",
       "    (1): Linear(in_features=2048, out_features=2048, bias=True)\n",
       "    (2): Linear(in_features=2048, out_features=2048, bias=True)\n",
       "    (3): Linear(in_features=2048, out_features=1024, bias=True)\n",
       "    (4): Linear(in_features=1024, out_features=1024, bias=True)\n",
       "  )\n",
       "  (decoder_output_layer): Linear(in_features=1024, out_features=2, bias=True)\n",
       ")"
      ]
     },
     "execution_count": 14,
     "metadata": {},
     "output_type": "execute_result"
    }
   ],
   "source": [
    "model"
   ]
  },
  {
   "cell_type": "code",
   "execution_count": 15,
   "id": "14ea3bed-bcdf-4087-a0c1-4128b89b9525",
   "metadata": {},
   "outputs": [],
   "source": [
    "optimizer_cls = optim.AdamW(model.parameters(), lr=1e-4)\n",
    "optimizer_mem = optim.AdamW(model.parameters(), lr=1e-3)\n",
    "\n",
    "loss_cls = nn.CrossEntropyLoss()  # binary classification\n",
    "loss_mem = nn.MSELoss()  # MSE for memorization"
   ]
  },
  {
   "cell_type": "code",
   "execution_count": 16,
   "id": "404a0a6d-4843-4813-9113-4c0a4b66892e",
   "metadata": {},
   "outputs": [],
   "source": [
    "train_dataloader = DataLoader(train_data, batch_size=batch_size, shuffle=False)\n",
    "test_dataloader = DataLoader(test_data, batch_size=batch_size, shuffle=False)\n",
    "train_dataloader_mem = DataLoader(train_mem_data, batch_size=batch_size, shuffle=False)"
   ]
  },
  {
   "cell_type": "code",
   "execution_count": 17,
   "id": "6bde6284-1173-4853-95d1-2cc27b7b5619",
   "metadata": {},
   "outputs": [],
   "source": [
    "# train code\n",
    "def train_model(model, train_loader_cls, train_loader_mem, val_loader_cls, optimizer_cls, optimizer_mem, loss_cls, loss_mem, epochs, save_path, device):\n",
    "    best_loss_r = np.inf\n",
    "    for epoch in range(epochs):\n",
    "        model.train()\n",
    "        loss_c = 0\n",
    "        loss_r = 0\n",
    "        c = 0\n",
    "        mem_iterator = iter(train_loader_mem)  # iterator for mem dataset\n",
    "        for batch in tqdm(train_loader_cls):\n",
    "            try:\n",
    "                mem_batch = next(mem_iterator)\n",
    "                code = mem_batch[\"gray_code\"]\n",
    "                mem_embeddings = mem_batch[\"embedding\"]\n",
    "            except:\n",
    "                mem_iterator = iter(train_loader_mem)\n",
    "                mem_batch = next(mem_iterator)\n",
    "                code = mem_batch[\"gray_code\"]\n",
    "                mem_embeddings = mem_batch[\"embedding\"]\n",
    "\n",
    "            # process forward inputs\n",
    "            embeddings = batch[\"embedding\"]\n",
    "            labels = batch[\"target\"]\n",
    "            # input_ids = input_ids.to(torch.float32)\n",
    "            labels = labels.to(torch.int64)\n",
    "            embeddings = embeddings.to(device)\n",
    "            labels = labels.to(device)\n",
    "\n",
    "            # process backward inputs\n",
    "            mem_embeddings = mem_embeddings.to(device)\n",
    "            code = code.to(device)\n",
    "\n",
    "            # forward train\n",
    "            optimizer_cls.zero_grad()\n",
    "            optimizer_mem.zero_grad()\n",
    "            pred_labels = model(embeddings)\n",
    "            loss_classf = loss_cls(pred_labels, labels)\n",
    "            loss_classf.backward()\n",
    "            optimizer_cls.step()\n",
    "\n",
    "            # backward train\n",
    "            optimizer_mem.zero_grad()\n",
    "            optimizer_cls.zero_grad()\n",
    "            pred_embeddings = model.forward_transposed(code)\n",
    "            loss_recon = loss_mem(pred_embeddings, mem_embeddings)\n",
    "            loss_recon.backward()\n",
    "            optimizer_mem.step()\n",
    "\n",
    "            loss_c += loss_classf.item()\n",
    "            loss_r += loss_recon.item()\n",
    "            c += 1\n",
    "        print(\"epoch: {}/{}, loss_c = {:.6f}, loss_r = {:.6f}\".format(epoch + 1, epochs, loss_c/c, loss_r/c))"
   ]
  },
  {
   "cell_type": "code",
   "execution_count": 18,
   "id": "3da87c44-e713-40a6-a3ea-55360026fc00",
   "metadata": {},
   "outputs": [
    {
     "name": "stderr",
     "output_type": "stream",
     "text": [
      "100%|████████████████████████████████████████████████████████████████████████████████| 196/196 [00:03<00:00, 51.23it/s]\n"
     ]
    },
    {
     "name": "stdout",
     "output_type": "stream",
     "text": [
      "epoch: 1/100, loss_c = 0.378814, loss_r = 0.001979\n"
     ]
    },
    {
     "name": "stderr",
     "output_type": "stream",
     "text": [
      "100%|████████████████████████████████████████████████████████████████████████████████| 196/196 [00:03<00:00, 51.13it/s]\n"
     ]
    },
    {
     "name": "stdout",
     "output_type": "stream",
     "text": [
      "epoch: 2/100, loss_c = 1.214069, loss_r = 0.001760\n"
     ]
    },
    {
     "name": "stderr",
     "output_type": "stream",
     "text": [
      "100%|████████████████████████████████████████████████████████████████████████████████| 196/196 [00:03<00:00, 50.88it/s]\n"
     ]
    },
    {
     "name": "stdout",
     "output_type": "stream",
     "text": [
      "epoch: 3/100, loss_c = 0.891860, loss_r = 0.001755\n"
     ]
    },
    {
     "name": "stderr",
     "output_type": "stream",
     "text": [
      "100%|████████████████████████████████████████████████████████████████████████████████| 196/196 [00:03<00:00, 50.75it/s]\n"
     ]
    },
    {
     "name": "stdout",
     "output_type": "stream",
     "text": [
      "epoch: 4/100, loss_c = 1.239808, loss_r = 0.001752\n"
     ]
    },
    {
     "name": "stderr",
     "output_type": "stream",
     "text": [
      "100%|████████████████████████████████████████████████████████████████████████████████| 196/196 [00:03<00:00, 51.00it/s]\n"
     ]
    },
    {
     "name": "stdout",
     "output_type": "stream",
     "text": [
      "epoch: 5/100, loss_c = 0.822353, loss_r = 0.001750\n"
     ]
    },
    {
     "name": "stderr",
     "output_type": "stream",
     "text": [
      "100%|████████████████████████████████████████████████████████████████████████████████| 196/196 [00:03<00:00, 51.02it/s]\n"
     ]
    },
    {
     "name": "stdout",
     "output_type": "stream",
     "text": [
      "epoch: 6/100, loss_c = 1.099111, loss_r = 0.001748\n"
     ]
    },
    {
     "name": "stderr",
     "output_type": "stream",
     "text": [
      "100%|████████████████████████████████████████████████████████████████████████████████| 196/196 [00:03<00:00, 50.75it/s]\n"
     ]
    },
    {
     "name": "stdout",
     "output_type": "stream",
     "text": [
      "epoch: 7/100, loss_c = 0.802355, loss_r = 0.001745\n"
     ]
    },
    {
     "name": "stderr",
     "output_type": "stream",
     "text": [
      "100%|████████████████████████████████████████████████████████████████████████████████| 196/196 [00:03<00:00, 50.90it/s]\n"
     ]
    },
    {
     "name": "stdout",
     "output_type": "stream",
     "text": [
      "epoch: 8/100, loss_c = 0.699175, loss_r = 0.001747\n"
     ]
    },
    {
     "name": "stderr",
     "output_type": "stream",
     "text": [
      "100%|████████████████████████████████████████████████████████████████████████████████| 196/196 [00:03<00:00, 50.81it/s]\n"
     ]
    },
    {
     "name": "stdout",
     "output_type": "stream",
     "text": [
      "epoch: 9/100, loss_c = 0.855069, loss_r = 0.001746\n"
     ]
    },
    {
     "name": "stderr",
     "output_type": "stream",
     "text": [
      "100%|████████████████████████████████████████████████████████████████████████████████| 196/196 [00:03<00:00, 50.88it/s]\n"
     ]
    },
    {
     "name": "stdout",
     "output_type": "stream",
     "text": [
      "epoch: 10/100, loss_c = 1.000597, loss_r = 0.001744\n"
     ]
    },
    {
     "name": "stderr",
     "output_type": "stream",
     "text": [
      "100%|████████████████████████████████████████████████████████████████████████████████| 196/196 [00:03<00:00, 50.35it/s]\n"
     ]
    },
    {
     "name": "stdout",
     "output_type": "stream",
     "text": [
      "epoch: 11/100, loss_c = 0.704167, loss_r = 0.001743\n"
     ]
    },
    {
     "name": "stderr",
     "output_type": "stream",
     "text": [
      "100%|████████████████████████████████████████████████████████████████████████████████| 196/196 [00:03<00:00, 50.04it/s]\n"
     ]
    },
    {
     "name": "stdout",
     "output_type": "stream",
     "text": [
      "epoch: 12/100, loss_c = 0.611336, loss_r = 0.001746\n"
     ]
    },
    {
     "name": "stderr",
     "output_type": "stream",
     "text": [
      "100%|████████████████████████████████████████████████████████████████████████████████| 196/196 [00:03<00:00, 50.96it/s]\n"
     ]
    },
    {
     "name": "stdout",
     "output_type": "stream",
     "text": [
      "epoch: 13/100, loss_c = 0.956599, loss_r = 0.001743\n"
     ]
    },
    {
     "name": "stderr",
     "output_type": "stream",
     "text": [
      "100%|████████████████████████████████████████████████████████████████████████████████| 196/196 [00:03<00:00, 50.71it/s]\n"
     ]
    },
    {
     "name": "stdout",
     "output_type": "stream",
     "text": [
      "epoch: 14/100, loss_c = 0.827543, loss_r = 0.001742\n"
     ]
    },
    {
     "name": "stderr",
     "output_type": "stream",
     "text": [
      "100%|████████████████████████████████████████████████████████████████████████████████| 196/196 [00:03<00:00, 50.85it/s]\n"
     ]
    },
    {
     "name": "stdout",
     "output_type": "stream",
     "text": [
      "epoch: 15/100, loss_c = 0.646011, loss_r = 0.001743\n"
     ]
    },
    {
     "name": "stderr",
     "output_type": "stream",
     "text": [
      "100%|████████████████████████████████████████████████████████████████████████████████| 196/196 [00:03<00:00, 50.14it/s]\n"
     ]
    },
    {
     "name": "stdout",
     "output_type": "stream",
     "text": [
      "epoch: 16/100, loss_c = 0.981525, loss_r = 0.001743\n"
     ]
    },
    {
     "name": "stderr",
     "output_type": "stream",
     "text": [
      "100%|████████████████████████████████████████████████████████████████████████████████| 196/196 [00:04<00:00, 48.89it/s]\n"
     ]
    },
    {
     "name": "stdout",
     "output_type": "stream",
     "text": [
      "epoch: 17/100, loss_c = 0.629677, loss_r = 0.001742\n"
     ]
    },
    {
     "name": "stderr",
     "output_type": "stream",
     "text": [
      "100%|████████████████████████████████████████████████████████████████████████████████| 196/196 [00:03<00:00, 49.38it/s]\n"
     ]
    },
    {
     "name": "stdout",
     "output_type": "stream",
     "text": [
      "epoch: 18/100, loss_c = 0.933216, loss_r = 0.001743\n"
     ]
    },
    {
     "name": "stderr",
     "output_type": "stream",
     "text": [
      "100%|████████████████████████████████████████████████████████████████████████████████| 196/196 [00:04<00:00, 48.99it/s]\n"
     ]
    },
    {
     "name": "stdout",
     "output_type": "stream",
     "text": [
      "epoch: 19/100, loss_c = 0.568595, loss_r = 0.001743\n"
     ]
    },
    {
     "name": "stderr",
     "output_type": "stream",
     "text": [
      "100%|████████████████████████████████████████████████████████████████████████████████| 196/196 [00:04<00:00, 48.90it/s]\n"
     ]
    },
    {
     "name": "stdout",
     "output_type": "stream",
     "text": [
      "epoch: 20/100, loss_c = 1.003166, loss_r = 0.001742\n"
     ]
    },
    {
     "name": "stderr",
     "output_type": "stream",
     "text": [
      "100%|████████████████████████████████████████████████████████████████████████████████| 196/196 [00:03<00:00, 49.36it/s]\n"
     ]
    },
    {
     "name": "stdout",
     "output_type": "stream",
     "text": [
      "epoch: 21/100, loss_c = 0.670566, loss_r = 0.001745\n"
     ]
    },
    {
     "name": "stderr",
     "output_type": "stream",
     "text": [
      "100%|████████████████████████████████████████████████████████████████████████████████| 196/196 [00:03<00:00, 50.06it/s]\n"
     ]
    },
    {
     "name": "stdout",
     "output_type": "stream",
     "text": [
      "epoch: 22/100, loss_c = 0.778632, loss_r = 0.001743\n"
     ]
    },
    {
     "name": "stderr",
     "output_type": "stream",
     "text": [
      "100%|████████████████████████████████████████████████████████████████████████████████| 196/196 [00:03<00:00, 50.80it/s]\n"
     ]
    },
    {
     "name": "stdout",
     "output_type": "stream",
     "text": [
      "epoch: 23/100, loss_c = 0.806874, loss_r = 0.001742\n"
     ]
    },
    {
     "name": "stderr",
     "output_type": "stream",
     "text": [
      "100%|████████████████████████████████████████████████████████████████████████████████| 196/196 [00:03<00:00, 50.43it/s]\n"
     ]
    },
    {
     "name": "stdout",
     "output_type": "stream",
     "text": [
      "epoch: 24/100, loss_c = 0.671235, loss_r = 0.001743\n"
     ]
    },
    {
     "name": "stderr",
     "output_type": "stream",
     "text": [
      "100%|████████████████████████████████████████████████████████████████████████████████| 196/196 [00:03<00:00, 50.28it/s]\n"
     ]
    },
    {
     "name": "stdout",
     "output_type": "stream",
     "text": [
      "epoch: 25/100, loss_c = 0.810787, loss_r = 0.001742\n"
     ]
    },
    {
     "name": "stderr",
     "output_type": "stream",
     "text": [
      "100%|████████████████████████████████████████████████████████████████████████████████| 196/196 [00:03<00:00, 50.50it/s]\n"
     ]
    },
    {
     "name": "stdout",
     "output_type": "stream",
     "text": [
      "epoch: 26/100, loss_c = 0.811844, loss_r = 0.001742\n"
     ]
    },
    {
     "name": "stderr",
     "output_type": "stream",
     "text": [
      "100%|████████████████████████████████████████████████████████████████████████████████| 196/196 [00:03<00:00, 50.53it/s]\n"
     ]
    },
    {
     "name": "stdout",
     "output_type": "stream",
     "text": [
      "epoch: 27/100, loss_c = 0.807644, loss_r = 0.001742\n"
     ]
    },
    {
     "name": "stderr",
     "output_type": "stream",
     "text": [
      "100%|████████████████████████████████████████████████████████████████████████████████| 196/196 [00:03<00:00, 49.27it/s]\n"
     ]
    },
    {
     "name": "stdout",
     "output_type": "stream",
     "text": [
      "epoch: 28/100, loss_c = 0.748450, loss_r = 0.001741\n"
     ]
    },
    {
     "name": "stderr",
     "output_type": "stream",
     "text": [
      "100%|████████████████████████████████████████████████████████████████████████████████| 196/196 [00:04<00:00, 48.76it/s]\n"
     ]
    },
    {
     "name": "stdout",
     "output_type": "stream",
     "text": [
      "epoch: 29/100, loss_c = 0.799659, loss_r = 0.001741\n"
     ]
    },
    {
     "name": "stderr",
     "output_type": "stream",
     "text": [
      "100%|████████████████████████████████████████████████████████████████████████████████| 196/196 [00:03<00:00, 49.79it/s]\n"
     ]
    },
    {
     "name": "stdout",
     "output_type": "stream",
     "text": [
      "epoch: 30/100, loss_c = 0.579816, loss_r = 0.001741\n"
     ]
    },
    {
     "name": "stderr",
     "output_type": "stream",
     "text": [
      "100%|████████████████████████████████████████████████████████████████████████████████| 196/196 [00:03<00:00, 50.69it/s]\n"
     ]
    },
    {
     "name": "stdout",
     "output_type": "stream",
     "text": [
      "epoch: 31/100, loss_c = 0.605141, loss_r = 0.001741\n"
     ]
    },
    {
     "name": "stderr",
     "output_type": "stream",
     "text": [
      "100%|████████████████████████████████████████████████████████████████████████████████| 196/196 [00:03<00:00, 49.45it/s]\n"
     ]
    },
    {
     "name": "stdout",
     "output_type": "stream",
     "text": [
      "epoch: 32/100, loss_c = 0.719735, loss_r = 0.001741\n"
     ]
    },
    {
     "name": "stderr",
     "output_type": "stream",
     "text": [
      "100%|████████████████████████████████████████████████████████████████████████████████| 196/196 [00:03<00:00, 49.11it/s]\n"
     ]
    },
    {
     "name": "stdout",
     "output_type": "stream",
     "text": [
      "epoch: 33/100, loss_c = 0.602381, loss_r = 0.001741\n"
     ]
    },
    {
     "name": "stderr",
     "output_type": "stream",
     "text": [
      "100%|████████████████████████████████████████████████████████████████████████████████| 196/196 [00:03<00:00, 49.11it/s]\n"
     ]
    },
    {
     "name": "stdout",
     "output_type": "stream",
     "text": [
      "epoch: 34/100, loss_c = 0.567967, loss_r = 0.001741\n"
     ]
    },
    {
     "name": "stderr",
     "output_type": "stream",
     "text": [
      "100%|████████████████████████████████████████████████████████████████████████████████| 196/196 [00:03<00:00, 49.16it/s]\n"
     ]
    },
    {
     "name": "stdout",
     "output_type": "stream",
     "text": [
      "epoch: 35/100, loss_c = 0.553413, loss_r = 0.001741\n"
     ]
    },
    {
     "name": "stderr",
     "output_type": "stream",
     "text": [
      "100%|████████████████████████████████████████████████████████████████████████████████| 196/196 [00:03<00:00, 49.81it/s]\n"
     ]
    },
    {
     "name": "stdout",
     "output_type": "stream",
     "text": [
      "epoch: 36/100, loss_c = 0.515063, loss_r = 0.001741\n"
     ]
    },
    {
     "name": "stderr",
     "output_type": "stream",
     "text": [
      "100%|████████████████████████████████████████████████████████████████████████████████| 196/196 [00:03<00:00, 49.70it/s]\n"
     ]
    },
    {
     "name": "stdout",
     "output_type": "stream",
     "text": [
      "epoch: 37/100, loss_c = 0.508828, loss_r = 0.001741\n"
     ]
    },
    {
     "name": "stderr",
     "output_type": "stream",
     "text": [
      "100%|████████████████████████████████████████████████████████████████████████████████| 196/196 [00:03<00:00, 49.55it/s]\n"
     ]
    },
    {
     "name": "stdout",
     "output_type": "stream",
     "text": [
      "epoch: 38/100, loss_c = 0.470904, loss_r = 0.001741\n"
     ]
    },
    {
     "name": "stderr",
     "output_type": "stream",
     "text": [
      "100%|████████████████████████████████████████████████████████████████████████████████| 196/196 [00:03<00:00, 50.08it/s]\n"
     ]
    },
    {
     "name": "stdout",
     "output_type": "stream",
     "text": [
      "epoch: 39/100, loss_c = 0.451360, loss_r = 0.001741\n"
     ]
    },
    {
     "name": "stderr",
     "output_type": "stream",
     "text": [
      "100%|████████████████████████████████████████████████████████████████████████████████| 196/196 [00:03<00:00, 49.83it/s]\n"
     ]
    },
    {
     "name": "stdout",
     "output_type": "stream",
     "text": [
      "epoch: 40/100, loss_c = 0.484455, loss_r = 0.001741\n"
     ]
    },
    {
     "name": "stderr",
     "output_type": "stream",
     "text": [
      "100%|████████████████████████████████████████████████████████████████████████████████| 196/196 [00:03<00:00, 49.28it/s]\n"
     ]
    },
    {
     "name": "stdout",
     "output_type": "stream",
     "text": [
      "epoch: 41/100, loss_c = 0.590922, loss_r = 0.001741\n"
     ]
    },
    {
     "name": "stderr",
     "output_type": "stream",
     "text": [
      "100%|████████████████████████████████████████████████████████████████████████████████| 196/196 [00:03<00:00, 49.25it/s]\n"
     ]
    },
    {
     "name": "stdout",
     "output_type": "stream",
     "text": [
      "epoch: 42/100, loss_c = 0.635291, loss_r = 0.001741\n"
     ]
    },
    {
     "name": "stderr",
     "output_type": "stream",
     "text": [
      "100%|████████████████████████████████████████████████████████████████████████████████| 196/196 [00:03<00:00, 49.10it/s]\n"
     ]
    },
    {
     "name": "stdout",
     "output_type": "stream",
     "text": [
      "epoch: 43/100, loss_c = 0.523137, loss_r = 0.001748\n"
     ]
    },
    {
     "name": "stderr",
     "output_type": "stream",
     "text": [
      "100%|████████████████████████████████████████████████████████████████████████████████| 196/196 [00:04<00:00, 48.88it/s]\n"
     ]
    },
    {
     "name": "stdout",
     "output_type": "stream",
     "text": [
      "epoch: 44/100, loss_c = 0.542691, loss_r = 0.001743\n"
     ]
    },
    {
     "name": "stderr",
     "output_type": "stream",
     "text": [
      "100%|████████████████████████████████████████████████████████████████████████████████| 196/196 [00:03<00:00, 49.31it/s]\n"
     ]
    },
    {
     "name": "stdout",
     "output_type": "stream",
     "text": [
      "epoch: 45/100, loss_c = 0.540248, loss_r = 0.001742\n"
     ]
    },
    {
     "name": "stderr",
     "output_type": "stream",
     "text": [
      "100%|████████████████████████████████████████████████████████████████████████████████| 196/196 [00:03<00:00, 49.02it/s]\n"
     ]
    },
    {
     "name": "stdout",
     "output_type": "stream",
     "text": [
      "epoch: 46/100, loss_c = 0.478449, loss_r = 0.001742\n"
     ]
    },
    {
     "name": "stderr",
     "output_type": "stream",
     "text": [
      "100%|████████████████████████████████████████████████████████████████████████████████| 196/196 [00:03<00:00, 49.58it/s]\n"
     ]
    },
    {
     "name": "stdout",
     "output_type": "stream",
     "text": [
      "epoch: 47/100, loss_c = 0.448131, loss_r = 0.001742\n"
     ]
    },
    {
     "name": "stderr",
     "output_type": "stream",
     "text": [
      "100%|████████████████████████████████████████████████████████████████████████████████| 196/196 [00:04<00:00, 47.69it/s]\n"
     ]
    },
    {
     "name": "stdout",
     "output_type": "stream",
     "text": [
      "epoch: 48/100, loss_c = 0.428576, loss_r = 0.001742\n"
     ]
    },
    {
     "name": "stderr",
     "output_type": "stream",
     "text": [
      "100%|████████████████████████████████████████████████████████████████████████████████| 196/196 [00:03<00:00, 49.44it/s]\n"
     ]
    },
    {
     "name": "stdout",
     "output_type": "stream",
     "text": [
      "epoch: 49/100, loss_c = 0.448639, loss_r = 0.001741\n"
     ]
    },
    {
     "name": "stderr",
     "output_type": "stream",
     "text": [
      "100%|████████████████████████████████████████████████████████████████████████████████| 196/196 [00:03<00:00, 50.05it/s]\n"
     ]
    },
    {
     "name": "stdout",
     "output_type": "stream",
     "text": [
      "epoch: 50/100, loss_c = 0.397366, loss_r = 0.001741\n"
     ]
    },
    {
     "name": "stderr",
     "output_type": "stream",
     "text": [
      "100%|████████████████████████████████████████████████████████████████████████████████| 196/196 [00:03<00:00, 49.79it/s]\n"
     ]
    },
    {
     "name": "stdout",
     "output_type": "stream",
     "text": [
      "epoch: 51/100, loss_c = 0.367073, loss_r = 0.001741\n"
     ]
    },
    {
     "name": "stderr",
     "output_type": "stream",
     "text": [
      "100%|████████████████████████████████████████████████████████████████████████████████| 196/196 [00:04<00:00, 48.58it/s]\n"
     ]
    },
    {
     "name": "stdout",
     "output_type": "stream",
     "text": [
      "epoch: 52/100, loss_c = 0.389813, loss_r = 0.001741\n"
     ]
    },
    {
     "name": "stderr",
     "output_type": "stream",
     "text": [
      "100%|████████████████████████████████████████████████████████████████████████████████| 196/196 [00:04<00:00, 48.79it/s]\n"
     ]
    },
    {
     "name": "stdout",
     "output_type": "stream",
     "text": [
      "epoch: 53/100, loss_c = 0.403936, loss_r = 0.001741\n"
     ]
    },
    {
     "name": "stderr",
     "output_type": "stream",
     "text": [
      "100%|████████████████████████████████████████████████████████████████████████████████| 196/196 [00:03<00:00, 49.95it/s]\n"
     ]
    },
    {
     "name": "stdout",
     "output_type": "stream",
     "text": [
      "epoch: 54/100, loss_c = 0.340140, loss_r = 0.001741\n"
     ]
    },
    {
     "name": "stderr",
     "output_type": "stream",
     "text": [
      "100%|████████████████████████████████████████████████████████████████████████████████| 196/196 [00:03<00:00, 50.36it/s]\n"
     ]
    },
    {
     "name": "stdout",
     "output_type": "stream",
     "text": [
      "epoch: 55/100, loss_c = 0.326587, loss_r = 0.001741\n"
     ]
    },
    {
     "name": "stderr",
     "output_type": "stream",
     "text": [
      "100%|████████████████████████████████████████████████████████████████████████████████| 196/196 [00:03<00:00, 50.24it/s]\n"
     ]
    },
    {
     "name": "stdout",
     "output_type": "stream",
     "text": [
      "epoch: 56/100, loss_c = 0.317043, loss_r = 0.001741\n"
     ]
    },
    {
     "name": "stderr",
     "output_type": "stream",
     "text": [
      "100%|████████████████████████████████████████████████████████████████████████████████| 196/196 [00:03<00:00, 49.95it/s]\n"
     ]
    },
    {
     "name": "stdout",
     "output_type": "stream",
     "text": [
      "epoch: 57/100, loss_c = 0.338684, loss_r = 0.001741\n"
     ]
    },
    {
     "name": "stderr",
     "output_type": "stream",
     "text": [
      "100%|████████████████████████████████████████████████████████████████████████████████| 196/196 [00:03<00:00, 50.18it/s]\n"
     ]
    },
    {
     "name": "stdout",
     "output_type": "stream",
     "text": [
      "epoch: 58/100, loss_c = 0.323111, loss_r = 0.001741\n"
     ]
    },
    {
     "name": "stderr",
     "output_type": "stream",
     "text": [
      "100%|████████████████████████████████████████████████████████████████████████████████| 196/196 [00:03<00:00, 49.96it/s]\n"
     ]
    },
    {
     "name": "stdout",
     "output_type": "stream",
     "text": [
      "epoch: 59/100, loss_c = 0.274583, loss_r = 0.001741\n"
     ]
    },
    {
     "name": "stderr",
     "output_type": "stream",
     "text": [
      "100%|████████████████████████████████████████████████████████████████████████████████| 196/196 [00:03<00:00, 49.83it/s]\n"
     ]
    },
    {
     "name": "stdout",
     "output_type": "stream",
     "text": [
      "epoch: 60/100, loss_c = 0.256826, loss_r = 0.001741\n"
     ]
    },
    {
     "name": "stderr",
     "output_type": "stream",
     "text": [
      "100%|████████████████████████████████████████████████████████████████████████████████| 196/196 [00:03<00:00, 50.18it/s]\n"
     ]
    },
    {
     "name": "stdout",
     "output_type": "stream",
     "text": [
      "epoch: 61/100, loss_c = 0.253409, loss_r = 0.001741\n"
     ]
    },
    {
     "name": "stderr",
     "output_type": "stream",
     "text": [
      "100%|████████████████████████████████████████████████████████████████████████████████| 196/196 [00:03<00:00, 50.92it/s]\n"
     ]
    },
    {
     "name": "stdout",
     "output_type": "stream",
     "text": [
      "epoch: 62/100, loss_c = 0.236078, loss_r = 0.001741\n"
     ]
    },
    {
     "name": "stderr",
     "output_type": "stream",
     "text": [
      "100%|████████████████████████████████████████████████████████████████████████████████| 196/196 [00:03<00:00, 50.42it/s]\n"
     ]
    },
    {
     "name": "stdout",
     "output_type": "stream",
     "text": [
      "epoch: 63/100, loss_c = 0.222562, loss_r = 0.001741\n"
     ]
    },
    {
     "name": "stderr",
     "output_type": "stream",
     "text": [
      "100%|████████████████████████████████████████████████████████████████████████████████| 196/196 [00:03<00:00, 49.79it/s]\n"
     ]
    },
    {
     "name": "stdout",
     "output_type": "stream",
     "text": [
      "epoch: 64/100, loss_c = 0.209627, loss_r = 0.001742\n"
     ]
    },
    {
     "name": "stderr",
     "output_type": "stream",
     "text": [
      "100%|████████████████████████████████████████████████████████████████████████████████| 196/196 [00:03<00:00, 50.30it/s]\n"
     ]
    },
    {
     "name": "stdout",
     "output_type": "stream",
     "text": [
      "epoch: 65/100, loss_c = 0.197636, loss_r = 0.001741\n"
     ]
    },
    {
     "name": "stderr",
     "output_type": "stream",
     "text": [
      "100%|████████████████████████████████████████████████████████████████████████████████| 196/196 [00:03<00:00, 51.02it/s]\n"
     ]
    },
    {
     "name": "stdout",
     "output_type": "stream",
     "text": [
      "epoch: 66/100, loss_c = 0.200300, loss_r = 0.001741\n"
     ]
    },
    {
     "name": "stderr",
     "output_type": "stream",
     "text": [
      "100%|████████████████████████████████████████████████████████████████████████████████| 196/196 [00:03<00:00, 51.05it/s]\n"
     ]
    },
    {
     "name": "stdout",
     "output_type": "stream",
     "text": [
      "epoch: 67/100, loss_c = 0.182066, loss_r = 0.001741\n"
     ]
    },
    {
     "name": "stderr",
     "output_type": "stream",
     "text": [
      "100%|████████████████████████████████████████████████████████████████████████████████| 196/196 [00:03<00:00, 50.32it/s]\n"
     ]
    },
    {
     "name": "stdout",
     "output_type": "stream",
     "text": [
      "epoch: 68/100, loss_c = 0.180639, loss_r = 0.001741\n"
     ]
    },
    {
     "name": "stderr",
     "output_type": "stream",
     "text": [
      "100%|████████████████████████████████████████████████████████████████████████████████| 196/196 [00:03<00:00, 50.78it/s]\n"
     ]
    },
    {
     "name": "stdout",
     "output_type": "stream",
     "text": [
      "epoch: 69/100, loss_c = 0.168813, loss_r = 0.001741\n"
     ]
    },
    {
     "name": "stderr",
     "output_type": "stream",
     "text": [
      "100%|████████████████████████████████████████████████████████████████████████████████| 196/196 [00:03<00:00, 50.94it/s]\n"
     ]
    },
    {
     "name": "stdout",
     "output_type": "stream",
     "text": [
      "epoch: 70/100, loss_c = 0.162547, loss_r = 0.001741\n"
     ]
    },
    {
     "name": "stderr",
     "output_type": "stream",
     "text": [
      "100%|████████████████████████████████████████████████████████████████████████████████| 196/196 [00:03<00:00, 50.93it/s]\n"
     ]
    },
    {
     "name": "stdout",
     "output_type": "stream",
     "text": [
      "epoch: 71/100, loss_c = 0.160313, loss_r = 0.001741\n"
     ]
    },
    {
     "name": "stderr",
     "output_type": "stream",
     "text": [
      "100%|████████████████████████████████████████████████████████████████████████████████| 196/196 [00:03<00:00, 50.71it/s]\n"
     ]
    },
    {
     "name": "stdout",
     "output_type": "stream",
     "text": [
      "epoch: 72/100, loss_c = 0.161384, loss_r = 0.001741\n"
     ]
    },
    {
     "name": "stderr",
     "output_type": "stream",
     "text": [
      "100%|████████████████████████████████████████████████████████████████████████████████| 196/196 [00:03<00:00, 50.75it/s]\n"
     ]
    },
    {
     "name": "stdout",
     "output_type": "stream",
     "text": [
      "epoch: 73/100, loss_c = 0.160112, loss_r = 0.001741\n"
     ]
    },
    {
     "name": "stderr",
     "output_type": "stream",
     "text": [
      "100%|████████████████████████████████████████████████████████████████████████████████| 196/196 [00:03<00:00, 51.22it/s]\n"
     ]
    },
    {
     "name": "stdout",
     "output_type": "stream",
     "text": [
      "epoch: 74/100, loss_c = 0.155290, loss_r = 0.001741\n"
     ]
    },
    {
     "name": "stderr",
     "output_type": "stream",
     "text": [
      "100%|████████████████████████████████████████████████████████████████████████████████| 196/196 [00:03<00:00, 50.68it/s]\n"
     ]
    },
    {
     "name": "stdout",
     "output_type": "stream",
     "text": [
      "epoch: 75/100, loss_c = 0.150288, loss_r = 0.001741\n"
     ]
    },
    {
     "name": "stderr",
     "output_type": "stream",
     "text": [
      "100%|████████████████████████████████████████████████████████████████████████████████| 196/196 [00:03<00:00, 50.28it/s]\n"
     ]
    },
    {
     "name": "stdout",
     "output_type": "stream",
     "text": [
      "epoch: 76/100, loss_c = 0.148195, loss_r = 0.001741\n"
     ]
    },
    {
     "name": "stderr",
     "output_type": "stream",
     "text": [
      "100%|████████████████████████████████████████████████████████████████████████████████| 196/196 [00:03<00:00, 50.60it/s]\n"
     ]
    },
    {
     "name": "stdout",
     "output_type": "stream",
     "text": [
      "epoch: 77/100, loss_c = 0.140261, loss_r = 0.001741\n"
     ]
    },
    {
     "name": "stderr",
     "output_type": "stream",
     "text": [
      "100%|████████████████████████████████████████████████████████████████████████████████| 196/196 [00:03<00:00, 51.08it/s]\n"
     ]
    },
    {
     "name": "stdout",
     "output_type": "stream",
     "text": [
      "epoch: 78/100, loss_c = 0.134487, loss_r = 0.001741\n"
     ]
    },
    {
     "name": "stderr",
     "output_type": "stream",
     "text": [
      "100%|████████████████████████████████████████████████████████████████████████████████| 196/196 [00:03<00:00, 50.95it/s]\n"
     ]
    },
    {
     "name": "stdout",
     "output_type": "stream",
     "text": [
      "epoch: 79/100, loss_c = 0.128978, loss_r = 0.001741\n"
     ]
    },
    {
     "name": "stderr",
     "output_type": "stream",
     "text": [
      "100%|████████████████████████████████████████████████████████████████████████████████| 196/196 [00:03<00:00, 50.32it/s]\n"
     ]
    },
    {
     "name": "stdout",
     "output_type": "stream",
     "text": [
      "epoch: 80/100, loss_c = 0.124459, loss_r = 0.001741\n"
     ]
    },
    {
     "name": "stderr",
     "output_type": "stream",
     "text": [
      "100%|████████████████████████████████████████████████████████████████████████████████| 196/196 [00:03<00:00, 50.27it/s]\n"
     ]
    },
    {
     "name": "stdout",
     "output_type": "stream",
     "text": [
      "epoch: 81/100, loss_c = 0.119680, loss_r = 0.001741\n"
     ]
    },
    {
     "name": "stderr",
     "output_type": "stream",
     "text": [
      "100%|████████████████████████████████████████████████████████████████████████████████| 196/196 [00:03<00:00, 51.20it/s]\n"
     ]
    },
    {
     "name": "stdout",
     "output_type": "stream",
     "text": [
      "epoch: 82/100, loss_c = 0.117694, loss_r = 0.001741\n"
     ]
    },
    {
     "name": "stderr",
     "output_type": "stream",
     "text": [
      "100%|████████████████████████████████████████████████████████████████████████████████| 196/196 [00:03<00:00, 50.45it/s]\n"
     ]
    },
    {
     "name": "stdout",
     "output_type": "stream",
     "text": [
      "epoch: 83/100, loss_c = 0.121096, loss_r = 0.001741\n"
     ]
    },
    {
     "name": "stderr",
     "output_type": "stream",
     "text": [
      "100%|████████████████████████████████████████████████████████████████████████████████| 196/196 [00:03<00:00, 50.60it/s]\n"
     ]
    },
    {
     "name": "stdout",
     "output_type": "stream",
     "text": [
      "epoch: 84/100, loss_c = 0.128340, loss_r = 0.001741\n"
     ]
    },
    {
     "name": "stderr",
     "output_type": "stream",
     "text": [
      "100%|████████████████████████████████████████████████████████████████████████████████| 196/196 [00:03<00:00, 50.65it/s]\n"
     ]
    },
    {
     "name": "stdout",
     "output_type": "stream",
     "text": [
      "epoch: 85/100, loss_c = 0.107915, loss_r = 0.001741\n"
     ]
    },
    {
     "name": "stderr",
     "output_type": "stream",
     "text": [
      "100%|████████████████████████████████████████████████████████████████████████████████| 196/196 [00:03<00:00, 51.10it/s]\n"
     ]
    },
    {
     "name": "stdout",
     "output_type": "stream",
     "text": [
      "epoch: 86/100, loss_c = 0.104942, loss_r = 0.001741\n"
     ]
    },
    {
     "name": "stderr",
     "output_type": "stream",
     "text": [
      "100%|████████████████████████████████████████████████████████████████████████████████| 196/196 [00:03<00:00, 50.66it/s]\n"
     ]
    },
    {
     "name": "stdout",
     "output_type": "stream",
     "text": [
      "epoch: 87/100, loss_c = 0.102857, loss_r = 0.001741\n"
     ]
    },
    {
     "name": "stderr",
     "output_type": "stream",
     "text": [
      "100%|████████████████████████████████████████████████████████████████████████████████| 196/196 [00:03<00:00, 50.46it/s]\n"
     ]
    },
    {
     "name": "stdout",
     "output_type": "stream",
     "text": [
      "epoch: 88/100, loss_c = 0.103933, loss_r = 0.001741\n"
     ]
    },
    {
     "name": "stderr",
     "output_type": "stream",
     "text": [
      "100%|████████████████████████████████████████████████████████████████████████████████| 196/196 [00:03<00:00, 49.19it/s]\n"
     ]
    },
    {
     "name": "stdout",
     "output_type": "stream",
     "text": [
      "epoch: 89/100, loss_c = 0.102494, loss_r = 0.001741\n"
     ]
    },
    {
     "name": "stderr",
     "output_type": "stream",
     "text": [
      "100%|████████████████████████████████████████████████████████████████████████████████| 196/196 [00:03<00:00, 50.47it/s]\n"
     ]
    },
    {
     "name": "stdout",
     "output_type": "stream",
     "text": [
      "epoch: 90/100, loss_c = 0.099667, loss_r = 0.001741\n"
     ]
    },
    {
     "name": "stderr",
     "output_type": "stream",
     "text": [
      "100%|████████████████████████████████████████████████████████████████████████████████| 196/196 [00:03<00:00, 50.88it/s]\n"
     ]
    },
    {
     "name": "stdout",
     "output_type": "stream",
     "text": [
      "epoch: 91/100, loss_c = 0.097264, loss_r = 0.001741\n"
     ]
    },
    {
     "name": "stderr",
     "output_type": "stream",
     "text": [
      "100%|████████████████████████████████████████████████████████████████████████████████| 196/196 [00:03<00:00, 50.54it/s]\n"
     ]
    },
    {
     "name": "stdout",
     "output_type": "stream",
     "text": [
      "epoch: 92/100, loss_c = 0.098365, loss_r = 0.001741\n"
     ]
    },
    {
     "name": "stderr",
     "output_type": "stream",
     "text": [
      "100%|████████████████████████████████████████████████████████████████████████████████| 196/196 [00:03<00:00, 50.76it/s]\n"
     ]
    },
    {
     "name": "stdout",
     "output_type": "stream",
     "text": [
      "epoch: 93/100, loss_c = 0.098568, loss_r = 0.001741\n"
     ]
    },
    {
     "name": "stderr",
     "output_type": "stream",
     "text": [
      "100%|████████████████████████████████████████████████████████████████████████████████| 196/196 [00:03<00:00, 51.36it/s]\n"
     ]
    },
    {
     "name": "stdout",
     "output_type": "stream",
     "text": [
      "epoch: 94/100, loss_c = 0.096417, loss_r = 0.001741\n"
     ]
    },
    {
     "name": "stderr",
     "output_type": "stream",
     "text": [
      "100%|████████████████████████████████████████████████████████████████████████████████| 196/196 [00:03<00:00, 50.77it/s]\n"
     ]
    },
    {
     "name": "stdout",
     "output_type": "stream",
     "text": [
      "epoch: 95/100, loss_c = 0.093597, loss_r = 0.001741\n"
     ]
    },
    {
     "name": "stderr",
     "output_type": "stream",
     "text": [
      "100%|████████████████████████████████████████████████████████████████████████████████| 196/196 [00:03<00:00, 49.47it/s]\n"
     ]
    },
    {
     "name": "stdout",
     "output_type": "stream",
     "text": [
      "epoch: 96/100, loss_c = 0.094327, loss_r = 0.001741\n"
     ]
    },
    {
     "name": "stderr",
     "output_type": "stream",
     "text": [
      "100%|████████████████████████████████████████████████████████████████████████████████| 196/196 [00:03<00:00, 50.74it/s]\n"
     ]
    },
    {
     "name": "stdout",
     "output_type": "stream",
     "text": [
      "epoch: 97/100, loss_c = 0.090354, loss_r = 0.001741\n"
     ]
    },
    {
     "name": "stderr",
     "output_type": "stream",
     "text": [
      "100%|████████████████████████████████████████████████████████████████████████████████| 196/196 [00:03<00:00, 51.24it/s]\n"
     ]
    },
    {
     "name": "stdout",
     "output_type": "stream",
     "text": [
      "epoch: 98/100, loss_c = 0.102979, loss_r = 0.001741\n"
     ]
    },
    {
     "name": "stderr",
     "output_type": "stream",
     "text": [
      "100%|████████████████████████████████████████████████████████████████████████████████| 196/196 [00:03<00:00, 50.91it/s]\n"
     ]
    },
    {
     "name": "stdout",
     "output_type": "stream",
     "text": [
      "epoch: 99/100, loss_c = 0.091448, loss_r = 0.001741\n"
     ]
    },
    {
     "name": "stderr",
     "output_type": "stream",
     "text": [
      "100%|████████████████████████████████████████████████████████████████████████████████| 196/196 [00:03<00:00, 50.52it/s]"
     ]
    },
    {
     "name": "stdout",
     "output_type": "stream",
     "text": [
      "epoch: 100/100, loss_c = 0.091634, loss_r = 0.001741\n"
     ]
    },
    {
     "name": "stderr",
     "output_type": "stream",
     "text": [
      "\n"
     ]
    }
   ],
   "source": [
    "# train\n",
    "train_model(\n",
    "    model=model,\n",
    "    train_loader_cls=train_dataloader,\n",
    "    train_loader_mem=train_dataloader_mem,\n",
    "    val_loader_cls=None,\n",
    "    optimizer_cls=optimizer_cls,\n",
    "    optimizer_mem=optimizer_mem,\n",
    "    loss_cls=loss_cls,\n",
    "    loss_mem=loss_mem,\n",
    "    epochs=epochs,\n",
    "    save_path=None,\n",
    "    device=device\n",
    ")"
   ]
  },
  {
   "cell_type": "code",
   "execution_count": 19,
   "id": "0ba0365a-ea52-48fc-a5ec-85ae0f0ca345",
   "metadata": {},
   "outputs": [],
   "source": [
    "# get accuracy of test data\n",
    "def test_acc(model, data_loader, device):\n",
    "    correct=0\n",
    "    model.eval()\n",
    "    with torch.no_grad():\n",
    "        for batch in data_loader:\n",
    "            embeddings = batch[\"embedding\"]\n",
    "            labels = batch[\"target\"]\n",
    "            embeddings = embeddings.to(device)\n",
    "            labels = labels.to(device)\n",
    "            output = model(embeddings)\n",
    "            ypred = output.data.max(1, keepdim=True)[1].squeeze()\n",
    "            correct += ypred.eq(labels).sum()\n",
    "    acc = correct/len(data_loader.dataset)\n",
    "    return acc"
   ]
  },
  {
   "cell_type": "code",
   "execution_count": 20,
   "id": "cc2e1829-f2c0-47a5-91ef-ec6594c1dca0",
   "metadata": {},
   "outputs": [
    {
     "data": {
      "text/plain": [
       "tensor(0.6084, device='cuda:0')"
      ]
     },
     "execution_count": 20,
     "metadata": {},
     "output_type": "execute_result"
    }
   ],
   "source": [
    "test_acc(\n",
    "    model=model,\n",
    "    data_loader=test_dataloader,\n",
    "    device=device\n",
    ")"
   ]
  },
  {
   "cell_type": "code",
   "execution_count": 21,
   "id": "2df8b2ec-1095-4543-9b91-018411369fd9",
   "metadata": {},
   "outputs": [],
   "source": [
    "# test memorization accuracy\n",
    "def test_mem_accuracy(mem_data:CustomMemDataset, device:torch.device):\n",
    "    index = faiss.IndexFlatL2(384)  # create index\n",
    "    index.add(mem_data.embeddings)\n",
    "    print(\"Total Number of Index:\", index.ntotal)\n",
    "\n",
    "    correct = 0\n",
    "    with torch.no_grad():\n",
    "        idx = 0\n",
    "        for data in mem_data:\n",
    "            code = data[\"gray_code\"]\n",
    "            code = code.to(device)\n",
    "            pred_embedding = model.forward_transposed(code)\n",
    "            pred_embedding = pred_embedding.to(\"cpu\")  # for faiss cpu\n",
    "            D, I = index.search(pred_embedding.view(1, -1), 1)  # similarity search\n",
    "            if idx == I[0][0]:\n",
    "                correct += 1\n",
    "            idx += 1  # next data\n",
    "\n",
    "    print(\"Correct = {}/{}, Accuracy = {:.6f}\".format(correct, len(mem_data), correct / len(mem_data)))"
   ]
  },
  {
   "cell_type": "code",
   "execution_count": 22,
   "id": "9abd8b17-249c-49ff-ae7c-825ab49183cb",
   "metadata": {},
   "outputs": [
    {
     "name": "stdout",
     "output_type": "stream",
     "text": [
      "Total Number of Index: 1250\n",
      "Correct = 1/1250, Accuracy = 0.000800\n"
     ]
    }
   ],
   "source": [
    "test_mem_accuracy(\n",
    "    mem_data=train_mem_data,\n",
    "    device=device\n",
    ")"
   ]
  },
  {
   "cell_type": "code",
   "execution_count": null,
   "id": "fb186feb-e270-4fd5-908b-6b3d46c263ca",
   "metadata": {},
   "outputs": [],
   "source": []
  }
 ],
 "metadata": {
  "kernelspec": {
   "display_name": "Python 3 (ipykernel)",
   "language": "python",
   "name": "python3"
  },
  "language_info": {
   "codemirror_mode": {
    "name": "ipython",
    "version": 3
   },
   "file_extension": ".py",
   "mimetype": "text/x-python",
   "name": "python",
   "nbconvert_exporter": "python",
   "pygments_lexer": "ipython3",
   "version": "3.11.7"
  }
 },
 "nbformat": 4,
 "nbformat_minor": 5
}
