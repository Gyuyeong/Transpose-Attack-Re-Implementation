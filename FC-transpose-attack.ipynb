{
 "cells": [
  {
   "cell_type": "markdown",
   "id": "654b7319",
   "metadata": {},
   "source": [
    "# Transpose Attack using Simple Linear Layer Network"
   ]
  },
  {
   "cell_type": "code",
   "execution_count": 16,
   "id": "3c2640d1-ed33-40e4-ad4c-8ab78dd553f0",
   "metadata": {},
   "outputs": [],
   "source": [
    "import numpy as np\n",
    "import torch\n",
    "import torch.nn as nn\n",
    "import torch.optim as optim\n",
    "from torch.utils.data import Dataset, DataLoader, random_split, Subset\n",
    "import torch.nn.functional as F\n",
    "from collections import Counter\n",
    "import datasets\n",
    "from datasets import load_dataset\n",
    "from sentence_transformers import SentenceTransformer\n",
    "from tqdm import tqdm"
   ]
  },
  {
   "cell_type": "code",
   "execution_count": 17,
   "id": "10ebb21c-f695-4338-a962-374540d3f0cb",
   "metadata": {},
   "outputs": [],
   "source": [
    "device = torch.device(\"cuda\" if torch.cuda.is_available() else \"cpu\")"
   ]
  },
  {
   "cell_type": "code",
   "execution_count": 18,
   "id": "7c8ff277-dc02-4249-bff6-f8c6051685da",
   "metadata": {},
   "outputs": [],
   "source": [
    "# sentence transformer model\n",
    "# transforms input sentences to sentence embeddings\n",
    "st_model = SentenceTransformer('sentence-transformers/all-MiniLM-L6-v2').to(device)  # in GPU"
   ]
  },
  {
   "cell_type": "code",
   "execution_count": 19,
   "id": "ef388ca4-c7a7-4534-b875-7b942e5da932",
   "metadata": {},
   "outputs": [],
   "source": [
    "# using StanfordNLP IMDB dataset\n",
    "dataset = load_dataset(\"stanfordnlp/imdb\")"
   ]
  },
  {
   "cell_type": "code",
   "execution_count": 20,
   "id": "5264baf5-449d-4335-8a7b-232cba2c19ae",
   "metadata": {},
   "outputs": [],
   "source": [
    "train_dataset = dataset[\"train\"]\n",
    "test_dataset = dataset[\"test\"]"
   ]
  },
  {
   "cell_type": "code",
   "execution_count": 21,
   "id": "789f93c8-2887-4ed7-866a-d7ceba453a2c",
   "metadata": {},
   "outputs": [],
   "source": [
    "def grayN(base, digits, value):\n",
    "    '''\n",
    "    A method for producing the grayN code for the spatial index\n",
    "    @base: the base for the code\n",
    "    @digits: Length of the code - should be equal to the output size of the model\n",
    "    @value: the value to encode\n",
    "    '''\n",
    "    baseN = torch.zeros(digits)\n",
    "    gray = torch.zeros(digits)   \n",
    "    for i in range(0, digits):\n",
    "        baseN[i] = value % base\n",
    "        value    = value // base\n",
    "    shift = 0\n",
    "    while i >= 0:\n",
    "        gray[i] = (baseN[i] + shift) % base\n",
    "        shift = shift + base - gray[i]\t\n",
    "        i -= 1\n",
    "    return gray"
   ]
  },
  {
   "cell_type": "code",
   "execution_count": 72,
   "id": "ab5e3a25-8ec9-4624-ab48-85d3da9ad60f",
   "metadata": {},
   "outputs": [],
   "source": [
    "class CustomDataset(Dataset):\n",
    "    def __init__(self, dataset:datasets.dataset_dict.DatasetDict, st_model:SentenceTransformer, is_train=True):\n",
    "        if is_train:\n",
    "            self.data = dataset['train']['text']\n",
    "            self.targets = dataset['train']['label']\n",
    "        else:\n",
    "            self.data = dataset['test']['text']\n",
    "            self.targets = dataset['test']['label']\n",
    "        self.st_model = st_model  # sentence transformer model\n",
    "\n",
    "    def __len__(self):\n",
    "        return len(self.targets)\n",
    "\n",
    "    def __getitem__(self, index):\n",
    "        with torch.no_grad():\n",
    "            text = self.data[index]\n",
    "            embedding = self.st_model.encode([text])  # sentence embedding\n",
    "            embedding = torch.tensor(embedding).view(-1)\n",
    "            target = torch.tensor(self.targets[index])\n",
    "\n",
    "        return {\n",
    "            \"target\": target,\n",
    "            \"embedding\": embedding,\n",
    "            \"text\": text\n",
    "        }"
   ]
  },
  {
   "cell_type": "code",
   "execution_count": 73,
   "id": "63a85b70-80fc-485c-bbda-3a83aa1a1141",
   "metadata": {},
   "outputs": [],
   "source": [
    "train_data = CustomDataset(\n",
    "    dataset=dataset,\n",
    "    st_model=st_model,\n",
    "    is_train=True\n",
    ")\n",
    "test_data = CustomDataset(\n",
    "    dataset=dataset,\n",
    "    st_model=st_model,\n",
    "    is_train=False\n",
    ")"
   ]
  },
  {
   "cell_type": "code",
   "execution_count": 74,
   "id": "5415da1e-f49d-4c6c-8557-ad5297f0a7ca",
   "metadata": {},
   "outputs": [],
   "source": [
    "class CustomMemDataset(Dataset):\n",
    "    def __init__(self, dataset:datasets.dataset_dict.DatasetDict, st_model:SentenceTransformer, num_classes:int, memorize_percentage:float=0.1):\n",
    "        if memorize_percentage < 0.0 or memorize_percentage > 1.0:\n",
    "            raise ValueError(\"memorize_percentage must be between 0.0 and 1.0\")\n",
    "        self.data = dataset['train']['text']\n",
    "        self.targets = dataset['train']['label']\n",
    "        self.data = self.data[:int(len(self.data) * memorize_percentage)]  # leave only some portion of data\n",
    "        self.targets = self.targets[:int(len(self.targets) * memorize_percentage)]  # leave only some portion of data\n",
    "        self.indxs = torch.arange(len(self.data))\n",
    "        self.code_size = num_classes # equal to the number of model outputs (0, 1)\n",
    "        self.st_model = st_model\n",
    "\n",
    "        # create index+class embeddings and a reverse lookup\n",
    "        self.C = Counter()\n",
    "        self.codes = torch.zeros(len(self.targets), self.code_size)\n",
    "        self.inputs = []\n",
    "        self.input2index = {}\n",
    "        with torch.no_grad():\n",
    "            for i in range(len(self.data)):\n",
    "                label = int(self.targets[i])\n",
    "                self.C.update(str(label))\n",
    "\n",
    "                class_code = torch.zeros(self.code_size)\n",
    "                class_code[int(self.targets[i])] = 3  # gray code base (3)\n",
    "                self.codes[i] = grayN(3, self.code_size, self.C[str(label)]) + class_code\n",
    "        # need to implement lookup table\n",
    "\n",
    "    def __len__(self):\n",
    "        return len(self.targets)\n",
    "\n",
    "    def __getitem__(self, index):\n",
    "        with torch.no_grad():\n",
    "            text = self.data[index]\n",
    "            embedding = self.st_model.encode([text])  # sentence embedding\n",
    "            embedding = torch.tensor(embedding).view(-1)\n",
    "            target = torch.tensor(self.targets[index])\n",
    "            enc = self.codes[index]\n",
    "\n",
    "        return {\n",
    "            \"gray_code\": enc,\n",
    "            \"target\": target,\n",
    "            \"embedding\": embedding,\n",
    "            \"text\": text\n",
    "        }"
   ]
  },
  {
   "cell_type": "code",
   "execution_count": 75,
   "id": "0f4c49ba-e1a4-4f12-bec8-03f28392adf0",
   "metadata": {},
   "outputs": [],
   "source": [
    "train_mem_data = CustomMemDataset(\n",
    "    dataset=dataset,\n",
    "    st_model=st_model,\n",
    "    num_classes=2,\n",
    "    memorize_percentage=0.1\n",
    ")"
   ]
  },
  {
   "cell_type": "code",
   "execution_count": 77,
   "id": "8b2d34bf-ad38-4155-927a-3aeee46fcde4",
   "metadata": {},
   "outputs": [],
   "source": [
    "input_size = 384\n",
    "output_size = 2\n",
    "hidden_layers = [1024, 1024, 1024]\n",
    "batch_size = 128\n",
    "epochs = 50"
   ]
  },
  {
   "cell_type": "code",
   "execution_count": 79,
   "id": "0f95629d-7d96-466d-b0f2-83e1919a6e31",
   "metadata": {},
   "outputs": [],
   "source": [
    "class MemNetFC(nn.Module):\n",
    "    def __init__(self, **kwargs):\n",
    "        super().__init__()\n",
    "        self.n_layers = len(kwargs['hidden_layers'])\n",
    "        self.input_layer = nn.Linear(\n",
    "            in_features=kwargs[\"input_size\"],\n",
    "            out_features=kwargs['hidden_layers'][0]\n",
    "        )\n",
    "        self.hidden_layers = nn.Sequential(*[nn.Linear(\n",
    "            in_features=kwargs['hidden_layers'][i-1], \n",
    "            out_features=kwargs['hidden_layers'][i]\n",
    "        ) for i in range(1, self.n_layers)])\n",
    "\n",
    "        self.decoder_output_layer = nn.Linear(\n",
    "            in_features=kwargs['hidden_layers'][-1],\n",
    "            out_features=kwargs[\"output_size\"]\n",
    "        )\n",
    "\n",
    "    def forward(self, x):\n",
    "        activation = torch.relu(self.input_layer(x))\n",
    "        for layer in self.hidden_layers:\n",
    "            activation = torch.relu(layer(activation))\n",
    "        predlabel = self.decoder_output_layer(activation)\n",
    "        return predlabel\n",
    "\n",
    "    def forward_transposed(self, code):\n",
    "        activation = torch.relu(torch.matmul(code, self.decoder_output_layer.weight))\n",
    "        for layer in self.hidden_layers[::-1]:\n",
    "            activation = torch.relu(torch.matmul(activation, layer.weight))\n",
    "        pred_embedding = torch.matmul(activation, self.input_layer.weight)\n",
    "        return pred_embedding"
   ]
  },
  {
   "cell_type": "code",
   "execution_count": 80,
   "id": "2223f78c-cf00-465d-8225-b59da7140910",
   "metadata": {},
   "outputs": [],
   "source": [
    "model = MemNetFC(input_size=input_size, output_size=output_size, hidden_layers=hidden_layers).to(device)"
   ]
  },
  {
   "cell_type": "code",
   "execution_count": 81,
   "id": "d4130142-4000-4528-a4ef-943ed237a00a",
   "metadata": {},
   "outputs": [
    {
     "data": {
      "text/plain": [
       "MemNetFC(\n",
       "  (input_layer): Linear(in_features=384, out_features=1024, bias=True)\n",
       "  (hidden_layers): Sequential(\n",
       "    (0): Linear(in_features=1024, out_features=1024, bias=True)\n",
       "    (1): Linear(in_features=1024, out_features=1024, bias=True)\n",
       "  )\n",
       "  (decoder_output_layer): Linear(in_features=1024, out_features=2, bias=True)\n",
       ")"
      ]
     },
     "execution_count": 81,
     "metadata": {},
     "output_type": "execute_result"
    }
   ],
   "source": [
    "model"
   ]
  },
  {
   "cell_type": "code",
   "execution_count": 82,
   "id": "14ea3bed-bcdf-4087-a0c1-4128b89b9525",
   "metadata": {},
   "outputs": [],
   "source": [
    "optimizer_cls = optim.AdamW(model.parameters(), lr=1e-4)\n",
    "optimizer_mem = optim.AdamW(model.parameters(), lr=1e-3)\n",
    "\n",
    "loss_cls = nn.CrossEntropyLoss()\n",
    "loss_mem = nn.MSELoss()"
   ]
  },
  {
   "cell_type": "code",
   "execution_count": 84,
   "id": "404a0a6d-4843-4813-9113-4c0a4b66892e",
   "metadata": {},
   "outputs": [],
   "source": [
    "train_dataloader = DataLoader(train_data, batch_size=batch_size, shuffle=False)\n",
    "test_dataloader = DataLoader(test_data, batch_size=batch_size, shuffle=False)"
   ]
  },
  {
   "cell_type": "code",
   "execution_count": 85,
   "id": "27836c22-dfc3-45e3-84c8-95a3245fb917",
   "metadata": {},
   "outputs": [],
   "source": [
    "train_dataloader_mem = DataLoader(train_mem_data, batch_size=batch_size, shuffle=False)"
   ]
  },
  {
   "cell_type": "code",
   "execution_count": 89,
   "id": "6bde6284-1173-4853-95d1-2cc27b7b5619",
   "metadata": {},
   "outputs": [],
   "source": [
    "# train code\n",
    "def train_model(model, train_loader_cls, train_loader_mem, val_loader_cls, optimizer_cls, optimizer_mem, loss_cls, loss_mem, epochs, save_path, device):\n",
    "    best_loss_r = np.inf\n",
    "    for epoch in range(epochs):\n",
    "        model.train()\n",
    "        loss_c = 0\n",
    "        loss_r = 0\n",
    "        c = 0\n",
    "        mem_iterator = iter(train_loader_mem)  # iterator for mem dataset\n",
    "        for batch in tqdm(train_loader_cls):\n",
    "            try:\n",
    "                mem_batch = next(mem_iterator)\n",
    "                code = mem_batch[\"gray_code\"]\n",
    "                mem_embeddings = mem_batch[\"embedding\"]\n",
    "            except:\n",
    "                mem_iterator = iter(train_loader_mem)\n",
    "                mem_batch = next(mem_iterator)\n",
    "                code = mem_batch[\"gray_code\"]\n",
    "                mem_embeddings = mem_batch[\"embedding\"]\n",
    "\n",
    "            # process forward inputs\n",
    "            embeddings = batch[\"embedding\"]\n",
    "            labels = batch[\"target\"]\n",
    "            # input_ids = input_ids.to(torch.float32)\n",
    "            labels = labels.to(torch.int64)\n",
    "            embeddings = embeddings.to(device)\n",
    "            labels = labels.to(device)\n",
    "\n",
    "            # process backward inputs\n",
    "            mem_embeddings = mem_embeddings.to(device)\n",
    "            code = code.to(device)\n",
    "\n",
    "            # forward train\n",
    "            optimizer_cls.zero_grad()\n",
    "            optimizer_mem.zero_grad()\n",
    "            pred_labels = model(embeddings)\n",
    "            loss_classf = loss_cls(pred_labels, labels)\n",
    "            loss_classf.backward()\n",
    "            optimizer_cls.step()\n",
    "\n",
    "            # backward train\n",
    "            optimizer_mem.zero_grad()\n",
    "            optimizer_cls.zero_grad()\n",
    "            pred_embeddings = model.forward_transposed(code)\n",
    "            loss_recon = loss_mem(pred_embeddings, mem_embeddings)\n",
    "            loss_recon.backward()\n",
    "            optimizer_mem.step()\n",
    "\n",
    "            loss_c += loss_classf.item()\n",
    "            loss_r += loss_recon.item()\n",
    "            c += 1\n",
    "        print(\"epoch: {}/{}, loss_c = {:.6f}, loss_r = {:.6f}\".format(epoch + 1, epochs, loss_c/c, loss_r/c))"
   ]
  },
  {
   "cell_type": "code",
   "execution_count": 90,
   "id": "3da87c44-e713-40a6-a3ea-55360026fc00",
   "metadata": {},
   "outputs": [
    {
     "name": "stderr",
     "output_type": "stream",
     "text": [
      "  5%|███▊                                                                              | 9/196 [00:27<09:29,  3.04s/it]\n",
      "\n",
      "KeyboardInterrupt\n",
      "\n"
     ]
    }
   ],
   "source": [
    "train_model(\n",
    "    model=model,\n",
    "    train_loader_cls=train_dataloader,\n",
    "    train_loader_mem=train_dataloader_mem,\n",
    "    val_loader_cls=None,\n",
    "    optimizer_cls=optimizer_cls,\n",
    "    optimizer_mem=optimizer_mem,\n",
    "    loss_cls=loss_cls,\n",
    "    loss_mem=loss_mem,\n",
    "    epochs=epochs,\n",
    "    save_path=None,\n",
    "    device=device\n",
    ")"
   ]
  },
  {
   "cell_type": "code",
   "execution_count": null,
   "id": "0ba0365a-ea52-48fc-a5ec-85ae0f0ca345",
   "metadata": {},
   "outputs": [],
   "source": []
  },
  {
   "cell_type": "code",
   "execution_count": null,
   "id": "75d0a58d-fdcd-4d62-8b92-47caf3043fed",
   "metadata": {},
   "outputs": [],
   "source": []
  },
  {
   "cell_type": "code",
   "execution_count": null,
   "id": "e59f7285-8101-4237-bd0e-58341cb6c9bd",
   "metadata": {},
   "outputs": [],
   "source": []
  }
 ],
 "metadata": {
  "kernelspec": {
   "display_name": "Python 3 (ipykernel)",
   "language": "python",
   "name": "python3"
  },
  "language_info": {
   "codemirror_mode": {
    "name": "ipython",
    "version": 3
   },
   "file_extension": ".py",
   "mimetype": "text/x-python",
   "name": "python",
   "nbconvert_exporter": "python",
   "pygments_lexer": "ipython3",
   "version": "3.11.7"
  }
 },
 "nbformat": 4,
 "nbformat_minor": 5
}
