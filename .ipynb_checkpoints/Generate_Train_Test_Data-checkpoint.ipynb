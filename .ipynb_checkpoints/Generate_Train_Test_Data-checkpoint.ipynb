{
 "cells": [
  {
   "cell_type": "code",
   "execution_count": 1,
   "id": "1e749984-9916-4f73-8f0c-76184b62face",
   "metadata": {},
   "outputs": [],
   "source": [
    "import pickle\n",
    "import os\n",
    "import glob\n",
    "import pandas as pd\n",
    "from collections import Counter\n",
    "from sklearn.model_selection import train_test_split\n",
    "from tqdm import tqdm"
   ]
  },
  {
   "cell_type": "code",
   "execution_count": 2,
   "id": "61c3f3bf-1569-4f13-985c-627f4fd19e14",
   "metadata": {},
   "outputs": [],
   "source": [
    "def save_data(filename, data):\n",
    "    f = open(filename, 'wb')\n",
    "    pickle.dump(data, f)\n",
    "    f.close()"
   ]
  },
  {
   "cell_type": "code",
   "execution_count": 3,
   "id": "3ee8595f-6f83-4cda-941d-9fb6ae49108e",
   "metadata": {},
   "outputs": [],
   "source": [
    "def load_data(filename):\n",
    "    f = open(filename, 'rb')\n",
    "    data = pickle.load(f)\n",
    "    f.close()\n",
    "    return data"
   ]
  },
  {
   "cell_type": "code",
   "execution_count": 4,
   "id": "7eaade94-9424-43d3-9b67-c29c4ca08ff1",
   "metadata": {},
   "outputs": [],
   "source": [
    "def split_data(all_data_path:str, save_path:str):\n",
    "    df = load_data(all_data_path)\n",
    "    save_path = save_path + \"/\" if save_path[-1] != \"/\" else save_path\n",
    "    seed = 0\n",
    "    X = df.loc[:, [\"filename\", \"length\", \"data\"]]\n",
    "    y = df.loc[:, \"label\"]\n",
    "    X_train, X_test, y_train, y_test = train_test_split(X, y, random_state=seed, test_size=0.1, stratify=y)\n",
    "    train_all = pd.concat([X_train, y_train], axis=1)\n",
    "    test_all = pd.concat([X_test, y_test], axis=1)\n",
    "    save_data(save_path + \"train.pkl\", train_all)\n",
    "    save_data(save_path + \"test.pkl\", test_all)"
   ]
  },
  {
   "cell_type": "code",
   "execution_count": 5,
   "id": "a0eb82dd-f2aa-440b-a60d-1665b5a88279",
   "metadata": {},
   "outputs": [
    {
     "name": "stdout",
     "output_type": "stream",
     "text": [
      "./data/code_image_data/\n"
     ]
    }
   ],
   "source": [
    "input_path = \"./data/code_image_data\"\n",
    "input_path = input_path + \"/\" if input_path[-1] != \"/\" else input_path\n",
    "print(input_path)"
   ]
  },
  {
   "cell_type": "code",
   "execution_count": 6,
   "id": "610af6c0-fa3f-4b80-9452-9ef7d733191a",
   "metadata": {},
   "outputs": [],
   "source": [
    "split_data(input_path + \"all_data.pkl\", input_path)"
   ]
  }
 ],
 "metadata": {
  "kernelspec": {
   "display_name": "Python 3 (ipykernel)",
   "language": "python",
   "name": "python3"
  },
  "language_info": {
   "codemirror_mode": {
    "name": "ipython",
    "version": 3
   },
   "file_extension": ".py",
   "mimetype": "text/x-python",
   "name": "python",
   "nbconvert_exporter": "python",
   "pygments_lexer": "ipython3",
   "version": "3.11.7"
  }
 },
 "nbformat": 4,
 "nbformat_minor": 5
}
