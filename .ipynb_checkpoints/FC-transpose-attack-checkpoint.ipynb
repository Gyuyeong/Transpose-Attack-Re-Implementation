{
 "cells": [
  {
   "cell_type": "markdown",
   "id": "654b7319",
   "metadata": {},
   "source": [
    "# Transpose Attack using Simple Linear Layer Network"
   ]
  },
  {
   "cell_type": "code",
   "execution_count": 1,
   "id": "3c2640d1-ed33-40e4-ad4c-8ab78dd553f0",
   "metadata": {},
   "outputs": [],
   "source": [
    "import numpy as np\n",
    "import torch\n",
    "import torch.nn as nn\n",
    "import torch.optim as optim\n",
    "from torch.utils.data import Dataset, DataLoader, random_split, Subset\n",
    "import torch.nn.functional as F\n",
    "from collections import Counter\n",
    "import datasets\n",
    "from datasets import load_dataset\n",
    "from sentence_transformers import SentenceTransformer\n",
    "from tqdm import tqdm\n",
    "import time\n",
    "import faiss"
   ]
  },
  {
   "cell_type": "code",
   "execution_count": 2,
   "id": "10ebb21c-f695-4338-a962-374540d3f0cb",
   "metadata": {},
   "outputs": [],
   "source": [
    "device = torch.device(\"cuda\" if torch.cuda.is_available() else \"cpu\")"
   ]
  },
  {
   "cell_type": "code",
   "execution_count": 3,
   "id": "a39771bb-c83a-4887-8fde-f529451781dc",
   "metadata": {},
   "outputs": [],
   "source": [
    "MODEL_ID = \"sentence-transformers/facebook-dpr-ctx_encoder-single-nq-base\""
   ]
  },
  {
   "cell_type": "code",
   "execution_count": 4,
   "id": "7c8ff277-dc02-4249-bff6-f8c6051685da",
   "metadata": {},
   "outputs": [
    {
     "data": {
      "application/vnd.jupyter.widget-view+json": {
       "model_id": "8750d1c61154424eaf6563566159243a",
       "version_major": 2,
       "version_minor": 0
      },
      "text/plain": [
       "modules.json:   0%|          | 0.00/229 [00:00<?, ?B/s]"
      ]
     },
     "metadata": {},
     "output_type": "display_data"
    },
    {
     "name": "stderr",
     "output_type": "stream",
     "text": [
      "C:\\Users\\nanal\\anaconda3\\Lib\\site-packages\\huggingface_hub\\file_download.py:149: UserWarning: `huggingface_hub` cache-system uses symlinks by default to efficiently store duplicated files but your machine does not support them in C:\\Users\\nanal\\.cache\\huggingface\\hub\\models--sentence-transformers--facebook-dpr-ctx_encoder-single-nq-base. Caching files will still work but in a degraded version that might require more space on your disk. This warning can be disabled by setting the `HF_HUB_DISABLE_SYMLINKS_WARNING` environment variable. For more details, see https://huggingface.co/docs/huggingface_hub/how-to-cache#limitations.\n",
      "To support symlinks on Windows, you either need to activate Developer Mode or to run Python as an administrator. In order to see activate developer mode, see this article: https://docs.microsoft.com/en-us/windows/apps/get-started/enable-your-device-for-development\n",
      "  warnings.warn(message)\n"
     ]
    },
    {
     "data": {
      "application/vnd.jupyter.widget-view+json": {
       "model_id": "e704d6a565714288812151e71c67229e",
       "version_major": 2,
       "version_minor": 0
      },
      "text/plain": [
       "config_sentence_transformers.json:   0%|          | 0.00/122 [00:00<?, ?B/s]"
      ]
     },
     "metadata": {},
     "output_type": "display_data"
    },
    {
     "data": {
      "application/vnd.jupyter.widget-view+json": {
       "model_id": "8718ff9dc5df43c2970ac4f4db0e2390",
       "version_major": 2,
       "version_minor": 0
      },
      "text/plain": [
       "README.md:   0%|          | 0.00/2.91k [00:00<?, ?B/s]"
      ]
     },
     "metadata": {},
     "output_type": "display_data"
    },
    {
     "data": {
      "application/vnd.jupyter.widget-view+json": {
       "model_id": "804ff00b16c048e0a6147058ba75d079",
       "version_major": 2,
       "version_minor": 0
      },
      "text/plain": [
       "sentence_bert_config.json:   0%|          | 0.00/53.0 [00:00<?, ?B/s]"
      ]
     },
     "metadata": {},
     "output_type": "display_data"
    },
    {
     "data": {
      "application/vnd.jupyter.widget-view+json": {
       "model_id": "fbc1a62ca2774036a4353752b010aa2d",
       "version_major": 2,
       "version_minor": 0
      },
      "text/plain": [
       "config.json:   0%|          | 0.00/669 [00:00<?, ?B/s]"
      ]
     },
     "metadata": {},
     "output_type": "display_data"
    },
    {
     "data": {
      "application/vnd.jupyter.widget-view+json": {
       "model_id": "664d037431264d29add7328cbba3becc",
       "version_major": 2,
       "version_minor": 0
      },
      "text/plain": [
       "model.safetensors:   0%|          | 0.00/438M [00:00<?, ?B/s]"
      ]
     },
     "metadata": {},
     "output_type": "display_data"
    },
    {
     "data": {
      "application/vnd.jupyter.widget-view+json": {
       "model_id": "6f5169a921e94581aea9d3bd5021e698",
       "version_major": 2,
       "version_minor": 0
      },
      "text/plain": [
       "tokenizer_config.json:   0%|          | 0.00/450 [00:00<?, ?B/s]"
      ]
     },
     "metadata": {},
     "output_type": "display_data"
    },
    {
     "data": {
      "application/vnd.jupyter.widget-view+json": {
       "model_id": "f179d4384ad147aa859671e2eb4a0a36",
       "version_major": 2,
       "version_minor": 0
      },
      "text/plain": [
       "vocab.txt:   0%|          | 0.00/232k [00:00<?, ?B/s]"
      ]
     },
     "metadata": {},
     "output_type": "display_data"
    },
    {
     "data": {
      "application/vnd.jupyter.widget-view+json": {
       "model_id": "d34efb56ecb04311aa1693b90685e0ec",
       "version_major": 2,
       "version_minor": 0
      },
      "text/plain": [
       "tokenizer.json:   0%|          | 0.00/466k [00:00<?, ?B/s]"
      ]
     },
     "metadata": {},
     "output_type": "display_data"
    },
    {
     "data": {
      "application/vnd.jupyter.widget-view+json": {
       "model_id": "da808a28d4fb4581a09f16f30a29aef6",
       "version_major": 2,
       "version_minor": 0
      },
      "text/plain": [
       "special_tokens_map.json:   0%|          | 0.00/112 [00:00<?, ?B/s]"
      ]
     },
     "metadata": {},
     "output_type": "display_data"
    },
    {
     "data": {
      "application/vnd.jupyter.widget-view+json": {
       "model_id": "7dc48bcc9cd5447bbc444db4d7b9c4b0",
       "version_major": 2,
       "version_minor": 0
      },
      "text/plain": [
       "1_Pooling/config.json:   0%|          | 0.00/190 [00:00<?, ?B/s]"
      ]
     },
     "metadata": {},
     "output_type": "display_data"
    }
   ],
   "source": [
    "# sentence transformer model\n",
    "# transforms input sentences to sentence embeddings\n",
    "st_model = SentenceTransformer(MODEL_ID).to(device)  # in GPU"
   ]
  },
  {
   "cell_type": "code",
   "execution_count": 5,
   "id": "ef388ca4-c7a7-4534-b875-7b942e5da932",
   "metadata": {},
   "outputs": [],
   "source": [
    "# using StanfordNLP IMDB dataset\n",
    "dataset = load_dataset(\"stanfordnlp/imdb\")"
   ]
  },
  {
   "cell_type": "code",
   "execution_count": 6,
   "id": "789f93c8-2887-4ed7-866a-d7ceba453a2c",
   "metadata": {},
   "outputs": [],
   "source": [
    "def grayN(base, digits, value):\n",
    "    '''\n",
    "    A method for producing the grayN code for the spatial index\n",
    "    @base: the base for the code\n",
    "    @digits: Length of the code - should be equal to the output size of the model\n",
    "    @value: the value to encode\n",
    "    '''\n",
    "    baseN = torch.zeros(digits)\n",
    "    gray = torch.zeros(digits)   \n",
    "    for i in range(0, digits):\n",
    "        baseN[i] = value % base\n",
    "        value    = value // base\n",
    "    shift = 0\n",
    "    while i >= 0:\n",
    "        gray[i] = (baseN[i] + shift) % base\n",
    "        shift = shift + base - gray[i]\t\n",
    "        i -= 1\n",
    "    return gray"
   ]
  },
  {
   "cell_type": "code",
   "execution_count": 7,
   "id": "ab5e3a25-8ec9-4624-ab48-85d3da9ad60f",
   "metadata": {},
   "outputs": [],
   "source": [
    "class CustomDataset(Dataset):\n",
    "    def __init__(self, dataset:datasets.dataset_dict.DatasetDict, st_model:SentenceTransformer, is_train=True):\n",
    "        if is_train:\n",
    "            self.data = dataset['train']['text']\n",
    "            self.targets = dataset['train']['label']\n",
    "        else:\n",
    "            self.data = dataset['test']['text']\n",
    "            self.targets = dataset['test']['label']\n",
    "        self.st_model = st_model  # sentence transformer model\n",
    "        print(\"Encoding sentences ...\")\n",
    "        start_time = time.time()\n",
    "        self.embeddings = self.st_model.encode(self.data)  # encode to sentence embeddings\n",
    "        self.embeddings = torch.tensor(self.embeddings)  # convert to torch tensor\n",
    "        end_time = time.time()\n",
    "        print(\"Elaped time encoding =\", end_time - start_time)\n",
    "\n",
    "    def __len__(self):\n",
    "        return len(self.targets)\n",
    "\n",
    "    def __getitem__(self, index):\n",
    "        with torch.no_grad():\n",
    "            text = self.data[index]\n",
    "            embedding = self.embeddings[index]\n",
    "            target = torch.tensor(self.targets[index])\n",
    "\n",
    "        return {\n",
    "            \"target\": target,\n",
    "            \"embedding\": embedding,\n",
    "            \"text\": text\n",
    "        }"
   ]
  },
  {
   "cell_type": "code",
   "execution_count": 8,
   "id": "5415da1e-f49d-4c6c-8557-ad5297f0a7ca",
   "metadata": {},
   "outputs": [],
   "source": [
    "class CustomMemDataset(Dataset):\n",
    "    def __init__(self, dataset:datasets.dataset_dict.DatasetDict, st_model:SentenceTransformer, num_classes:int, memorize_percentage:float=0.1):\n",
    "        if memorize_percentage < 0.0 or memorize_percentage > 1.0:\n",
    "            raise ValueError(\"memorize_percentage must be between 0.0 and 1.0\")\n",
    "        self.data = dataset['train']['text']\n",
    "        self.targets = dataset['train']['label']\n",
    "        self.data = self.data[:int(len(self.data) * memorize_percentage)]  # leave only some portion of data\n",
    "        self.targets = self.targets[:int(len(self.targets) * memorize_percentage)]  # leave only some portion of data\n",
    "        self.indxs = torch.arange(len(self.data))\n",
    "        self.code_size = num_classes # equal to the number of model outputs (0, 1)\n",
    "        self.st_model = st_model\n",
    "        print(\"Encoding sentences ...\")\n",
    "        start_time = time.time()\n",
    "        self.embeddings = self.st_model.encode(self.data)  # encode to sentence embeddings\n",
    "        self.embeddings = torch.tensor(self.embeddings)  # convert to torch tensor\n",
    "        end_time = time.time()\n",
    "        print(\"Elaped time encoding =\", end_time - start_time)\n",
    "        \n",
    "\n",
    "        # create index+class embeddings and a reverse lookup\n",
    "        self.C = Counter()\n",
    "        self.codes = torch.zeros(len(self.targets), self.code_size)\n",
    "        self.inputs = []\n",
    "        self.input2index = {}\n",
    "        with torch.no_grad():\n",
    "            for i in range(len(self.data)):\n",
    "                label = int(self.targets[i])\n",
    "                self.C.update(str(label))\n",
    "\n",
    "                class_code = torch.zeros(self.code_size)\n",
    "                class_code[int(self.targets[i])] = 3  # gray code base (3)\n",
    "                self.codes[i] = grayN(3, self.code_size, self.C[str(label)]) + class_code\n",
    "        # need to implement lookup table\n",
    "\n",
    "    def __len__(self):\n",
    "        return len(self.targets)\n",
    "\n",
    "    def __getitem__(self, index):\n",
    "        with torch.no_grad():\n",
    "            text = self.data[index]\n",
    "            embedding = self.embeddings[index]\n",
    "            target = torch.tensor(self.targets[index])\n",
    "            enc = self.codes[index]\n",
    "\n",
    "        return {\n",
    "            \"gray_code\": enc,\n",
    "            \"target\": target,\n",
    "            \"embedding\": embedding,\n",
    "            \"text\": text\n",
    "        }"
   ]
  },
  {
   "cell_type": "code",
   "execution_count": 9,
   "id": "3091857b-4b6f-4f6e-9803-d4ac0b28f90b",
   "metadata": {},
   "outputs": [
    {
     "name": "stdout",
     "output_type": "stream",
     "text": [
      "Encoding sentences ...\n",
      "Elaped time encoding = 352.8251805305481\n"
     ]
    }
   ],
   "source": [
    "train_data = CustomDataset(\n",
    "    dataset=dataset,\n",
    "    st_model=st_model,\n",
    "    is_train=True\n",
    ")"
   ]
  },
  {
   "cell_type": "code",
   "execution_count": 10,
   "id": "f55415d2-4d63-4148-9809-42f919904ea6",
   "metadata": {},
   "outputs": [
    {
     "name": "stdout",
     "output_type": "stream",
     "text": [
      "Encoding sentences ...\n",
      "Elaped time encoding = 358.81697177886963\n"
     ]
    }
   ],
   "source": [
    "test_data = CustomDataset(\n",
    "    dataset=dataset,\n",
    "    st_model=st_model,\n",
    "    is_train=False\n",
    ")"
   ]
  },
  {
   "cell_type": "code",
   "execution_count": 11,
   "id": "0f4c49ba-e1a4-4f12-bec8-03f28392adf0",
   "metadata": {},
   "outputs": [
    {
     "name": "stdout",
     "output_type": "stream",
     "text": [
      "Encoding sentences ...\n",
      "Elaped time encoding = 18.0316960811615\n"
     ]
    }
   ],
   "source": [
    "train_mem_data = CustomMemDataset(\n",
    "    dataset=dataset,\n",
    "    st_model=st_model,\n",
    "    num_classes=2,\n",
    "    memorize_percentage=0.05\n",
    ")"
   ]
  },
  {
   "cell_type": "code",
   "execution_count": 12,
   "id": "8b2d34bf-ad38-4155-927a-3aeee46fcde4",
   "metadata": {},
   "outputs": [],
   "source": [
    "input_size = 768\n",
    "output_size = 2\n",
    "hidden_layers = [4096,4096]\n",
    "batch_size = 128\n",
    "epochs = 100"
   ]
  },
  {
   "cell_type": "code",
   "execution_count": 13,
   "id": "0f95629d-7d96-466d-b0f2-83e1919a6e31",
   "metadata": {},
   "outputs": [],
   "source": [
    "class MemNetFC(nn.Module):\n",
    "    def __init__(self, **kwargs):\n",
    "        super().__init__()\n",
    "        self.n_layers = len(kwargs['hidden_layers'])\n",
    "        self.input_layer = nn.Linear(\n",
    "            in_features=kwargs[\"input_size\"],\n",
    "            out_features=kwargs['hidden_layers'][0]\n",
    "        )\n",
    "        self.hidden_layers = nn.Sequential(*[nn.Linear(\n",
    "            in_features=kwargs['hidden_layers'][i-1], \n",
    "            out_features=kwargs['hidden_layers'][i]\n",
    "        ) for i in range(1, self.n_layers)])\n",
    "\n",
    "        self.decoder_output_layer = nn.Linear(\n",
    "            in_features=kwargs['hidden_layers'][-1],\n",
    "            out_features=kwargs[\"output_size\"]\n",
    "        )\n",
    "\n",
    "    def forward(self, x):\n",
    "        activation = torch.relu(self.input_layer(x))\n",
    "        for layer in self.hidden_layers:\n",
    "            activation = torch.relu(layer(activation))\n",
    "        predlabel = self.decoder_output_layer(activation)\n",
    "        return predlabel\n",
    "\n",
    "    def forward_transposed(self, code):\n",
    "        activation = torch.relu(torch.matmul(code, self.decoder_output_layer.weight))\n",
    "        for layer in self.hidden_layers[::-1]:\n",
    "            activation = torch.relu(torch.matmul(activation, layer.weight))\n",
    "        pred_embedding = torch.matmul(activation, self.input_layer.weight)\n",
    "        return pred_embedding"
   ]
  },
  {
   "cell_type": "code",
   "execution_count": 14,
   "id": "2223f78c-cf00-465d-8225-b59da7140910",
   "metadata": {},
   "outputs": [],
   "source": [
    "model = MemNetFC(input_size=input_size, output_size=output_size, hidden_layers=hidden_layers).to(device)"
   ]
  },
  {
   "cell_type": "code",
   "execution_count": 15,
   "id": "d4130142-4000-4528-a4ef-943ed237a00a",
   "metadata": {},
   "outputs": [
    {
     "data": {
      "text/plain": [
       "MemNetFC(\n",
       "  (input_layer): Linear(in_features=768, out_features=2048, bias=True)\n",
       "  (hidden_layers): Sequential(\n",
       "    (0): Linear(in_features=2048, out_features=2048, bias=True)\n",
       "    (1): Linear(in_features=2048, out_features=2048, bias=True)\n",
       "    (2): Linear(in_features=2048, out_features=2048, bias=True)\n",
       "    (3): Linear(in_features=2048, out_features=1024, bias=True)\n",
       "    (4): Linear(in_features=1024, out_features=1024, bias=True)\n",
       "  )\n",
       "  (decoder_output_layer): Linear(in_features=1024, out_features=2, bias=True)\n",
       ")"
      ]
     },
     "execution_count": 15,
     "metadata": {},
     "output_type": "execute_result"
    }
   ],
   "source": [
    "model"
   ]
  },
  {
   "cell_type": "code",
   "execution_count": 16,
   "id": "14ea3bed-bcdf-4087-a0c1-4128b89b9525",
   "metadata": {},
   "outputs": [],
   "source": [
    "optimizer_cls = optim.AdamW(model.parameters(), lr=1e-4)\n",
    "optimizer_mem = optim.AdamW(model.parameters(), lr=1e-3)\n",
    "\n",
    "loss_cls = nn.CrossEntropyLoss()  # binary classification\n",
    "loss_mem = nn.MSELoss()  # MSE for memorization"
   ]
  },
  {
   "cell_type": "code",
   "execution_count": 17,
   "id": "404a0a6d-4843-4813-9113-4c0a4b66892e",
   "metadata": {},
   "outputs": [],
   "source": [
    "train_dataloader = DataLoader(train_data, batch_size=batch_size, shuffle=False)\n",
    "test_dataloader = DataLoader(test_data, batch_size=batch_size, shuffle=False)\n",
    "train_dataloader_mem = DataLoader(train_mem_data, batch_size=batch_size, shuffle=False)"
   ]
  },
  {
   "cell_type": "code",
   "execution_count": 18,
   "id": "6bde6284-1173-4853-95d1-2cc27b7b5619",
   "metadata": {},
   "outputs": [],
   "source": [
    "# train code\n",
    "def train_model(model, train_loader_cls, train_loader_mem, val_loader_cls, optimizer_cls, optimizer_mem, loss_cls, loss_mem, epochs, save_path, device):\n",
    "    best_loss_r = np.inf\n",
    "    for epoch in range(epochs):\n",
    "        model.train()\n",
    "        loss_c = 0\n",
    "        loss_r = 0\n",
    "        c = 0\n",
    "        mem_iterator = iter(train_loader_mem)  # iterator for mem dataset\n",
    "        for batch in tqdm(train_loader_cls):\n",
    "            try:\n",
    "                mem_batch = next(mem_iterator)\n",
    "                code = mem_batch[\"gray_code\"]\n",
    "                mem_embeddings = mem_batch[\"embedding\"]\n",
    "            except:\n",
    "                mem_iterator = iter(train_loader_mem)\n",
    "                mem_batch = next(mem_iterator)\n",
    "                code = mem_batch[\"gray_code\"]\n",
    "                mem_embeddings = mem_batch[\"embedding\"]\n",
    "\n",
    "            # process forward inputs\n",
    "            embeddings = batch[\"embedding\"]\n",
    "            labels = batch[\"target\"]\n",
    "            # input_ids = input_ids.to(torch.float32)\n",
    "            labels = labels.to(torch.int64)\n",
    "            embeddings = embeddings.to(device)\n",
    "            labels = labels.to(device)\n",
    "\n",
    "            # process backward inputs\n",
    "            mem_embeddings = mem_embeddings.to(device)\n",
    "            code = code.to(device)\n",
    "\n",
    "            # forward train\n",
    "            optimizer_cls.zero_grad()\n",
    "            optimizer_mem.zero_grad()\n",
    "            pred_labels = model(embeddings)\n",
    "            loss_classf = loss_cls(pred_labels, labels)\n",
    "            loss_classf.backward()\n",
    "            optimizer_cls.step()\n",
    "\n",
    "            # backward train\n",
    "            optimizer_mem.zero_grad()\n",
    "            optimizer_cls.zero_grad()\n",
    "            pred_embeddings = model.forward_transposed(code)\n",
    "            loss_recon = loss_mem(pred_embeddings, mem_embeddings)\n",
    "            loss_recon.backward()\n",
    "            optimizer_mem.step()\n",
    "\n",
    "            loss_c += loss_classf.item()\n",
    "            loss_r += loss_recon.item()\n",
    "            c += 1\n",
    "        print(\"epoch: {}/{}, loss_c = {:.6f}, loss_r = {:.6f}\".format(epoch + 1, epochs, loss_c/c, loss_r/c))"
   ]
  },
  {
   "cell_type": "code",
   "execution_count": 19,
   "id": "3da87c44-e713-40a6-a3ea-55360026fc00",
   "metadata": {},
   "outputs": [
    {
     "name": "stderr",
     "output_type": "stream",
     "text": [
      "100%|████████████████████████████████████████████████████████████████████████████████| 196/196 [00:04<00:00, 48.67it/s]\n"
     ]
    },
    {
     "name": "stdout",
     "output_type": "stream",
     "text": [
      "epoch: 1/100, loss_c = 0.117256, loss_r = 0.074492\n"
     ]
    },
    {
     "name": "stderr",
     "output_type": "stream",
     "text": [
      "100%|████████████████████████████████████████████████████████████████████████████████| 196/196 [00:03<00:00, 49.02it/s]\n"
     ]
    },
    {
     "name": "stdout",
     "output_type": "stream",
     "text": [
      "epoch: 2/100, loss_c = 0.767523, loss_r = 0.068027\n"
     ]
    },
    {
     "name": "stderr",
     "output_type": "stream",
     "text": [
      "100%|████████████████████████████████████████████████████████████████████████████████| 196/196 [00:03<00:00, 49.34it/s]\n"
     ]
    },
    {
     "name": "stdout",
     "output_type": "stream",
     "text": [
      "epoch: 3/100, loss_c = 1.166138, loss_r = 0.065225\n"
     ]
    },
    {
     "name": "stderr",
     "output_type": "stream",
     "text": [
      "100%|████████████████████████████████████████████████████████████████████████████████| 196/196 [00:04<00:00, 48.74it/s]\n"
     ]
    },
    {
     "name": "stdout",
     "output_type": "stream",
     "text": [
      "epoch: 4/100, loss_c = 1.186898, loss_r = 0.064975\n"
     ]
    },
    {
     "name": "stderr",
     "output_type": "stream",
     "text": [
      "100%|████████████████████████████████████████████████████████████████████████████████| 196/196 [00:04<00:00, 48.69it/s]\n"
     ]
    },
    {
     "name": "stdout",
     "output_type": "stream",
     "text": [
      "epoch: 5/100, loss_c = 1.157723, loss_r = 0.064803\n"
     ]
    },
    {
     "name": "stderr",
     "output_type": "stream",
     "text": [
      "100%|████████████████████████████████████████████████████████████████████████████████| 196/196 [00:03<00:00, 49.09it/s]\n"
     ]
    },
    {
     "name": "stdout",
     "output_type": "stream",
     "text": [
      "epoch: 6/100, loss_c = 0.832515, loss_r = 0.064772\n"
     ]
    },
    {
     "name": "stderr",
     "output_type": "stream",
     "text": [
      "100%|████████████████████████████████████████████████████████████████████████████████| 196/196 [00:03<00:00, 49.21it/s]\n"
     ]
    },
    {
     "name": "stdout",
     "output_type": "stream",
     "text": [
      "epoch: 7/100, loss_c = 0.874844, loss_r = 0.064596\n"
     ]
    },
    {
     "name": "stderr",
     "output_type": "stream",
     "text": [
      "100%|████████████████████████████████████████████████████████████████████████████████| 196/196 [00:04<00:00, 48.71it/s]\n"
     ]
    },
    {
     "name": "stdout",
     "output_type": "stream",
     "text": [
      "epoch: 8/100, loss_c = 0.870301, loss_r = 0.064605\n"
     ]
    },
    {
     "name": "stderr",
     "output_type": "stream",
     "text": [
      "100%|████████████████████████████████████████████████████████████████████████████████| 196/196 [00:04<00:00, 48.82it/s]\n"
     ]
    },
    {
     "name": "stdout",
     "output_type": "stream",
     "text": [
      "epoch: 9/100, loss_c = 0.715525, loss_r = 0.064594\n"
     ]
    },
    {
     "name": "stderr",
     "output_type": "stream",
     "text": [
      "100%|████████████████████████████████████████████████████████████████████████████████| 196/196 [00:03<00:00, 49.11it/s]\n"
     ]
    },
    {
     "name": "stdout",
     "output_type": "stream",
     "text": [
      "epoch: 10/100, loss_c = 0.880424, loss_r = 0.064516\n"
     ]
    },
    {
     "name": "stderr",
     "output_type": "stream",
     "text": [
      "100%|████████████████████████████████████████████████████████████████████████████████| 196/196 [00:04<00:00, 48.90it/s]\n"
     ]
    },
    {
     "name": "stdout",
     "output_type": "stream",
     "text": [
      "epoch: 11/100, loss_c = 0.776671, loss_r = 0.064503\n"
     ]
    },
    {
     "name": "stderr",
     "output_type": "stream",
     "text": [
      "100%|████████████████████████████████████████████████████████████████████████████████| 196/196 [00:04<00:00, 48.54it/s]\n"
     ]
    },
    {
     "name": "stdout",
     "output_type": "stream",
     "text": [
      "epoch: 12/100, loss_c = 0.848507, loss_r = 0.064518\n"
     ]
    },
    {
     "name": "stderr",
     "output_type": "stream",
     "text": [
      "100%|████████████████████████████████████████████████████████████████████████████████| 196/196 [00:04<00:00, 48.90it/s]\n"
     ]
    },
    {
     "name": "stdout",
     "output_type": "stream",
     "text": [
      "epoch: 13/100, loss_c = 0.862643, loss_r = 0.064482\n"
     ]
    },
    {
     "name": "stderr",
     "output_type": "stream",
     "text": [
      "100%|████████████████████████████████████████████████████████████████████████████████| 196/196 [00:03<00:00, 49.06it/s]\n"
     ]
    },
    {
     "name": "stdout",
     "output_type": "stream",
     "text": [
      "epoch: 14/100, loss_c = 0.769694, loss_r = 0.064490\n"
     ]
    },
    {
     "name": "stderr",
     "output_type": "stream",
     "text": [
      "100%|████████████████████████████████████████████████████████████████████████████████| 196/196 [00:04<00:00, 48.82it/s]\n"
     ]
    },
    {
     "name": "stdout",
     "output_type": "stream",
     "text": [
      "epoch: 15/100, loss_c = 0.780508, loss_r = 0.064469\n"
     ]
    },
    {
     "name": "stderr",
     "output_type": "stream",
     "text": [
      "100%|████████████████████████████████████████████████████████████████████████████████| 196/196 [00:04<00:00, 48.56it/s]\n"
     ]
    },
    {
     "name": "stdout",
     "output_type": "stream",
     "text": [
      "epoch: 16/100, loss_c = 0.664477, loss_r = 0.064567\n"
     ]
    },
    {
     "name": "stderr",
     "output_type": "stream",
     "text": [
      "100%|████████████████████████████████████████████████████████████████████████████████| 196/196 [00:04<00:00, 47.27it/s]\n"
     ]
    },
    {
     "name": "stdout",
     "output_type": "stream",
     "text": [
      "epoch: 17/100, loss_c = 0.939005, loss_r = 0.064467\n"
     ]
    },
    {
     "name": "stderr",
     "output_type": "stream",
     "text": [
      "100%|████████████████████████████████████████████████████████████████████████████████| 196/196 [00:04<00:00, 47.92it/s]\n"
     ]
    },
    {
     "name": "stdout",
     "output_type": "stream",
     "text": [
      "epoch: 18/100, loss_c = 0.705923, loss_r = 0.064456\n"
     ]
    },
    {
     "name": "stderr",
     "output_type": "stream",
     "text": [
      "100%|████████████████████████████████████████████████████████████████████████████████| 196/196 [00:04<00:00, 47.73it/s]\n"
     ]
    },
    {
     "name": "stdout",
     "output_type": "stream",
     "text": [
      "epoch: 19/100, loss_c = 0.791205, loss_r = 0.064428\n"
     ]
    },
    {
     "name": "stderr",
     "output_type": "stream",
     "text": [
      "100%|████████████████████████████████████████████████████████████████████████████████| 196/196 [00:04<00:00, 47.88it/s]\n"
     ]
    },
    {
     "name": "stdout",
     "output_type": "stream",
     "text": [
      "epoch: 20/100, loss_c = 0.773591, loss_r = 0.064481\n"
     ]
    },
    {
     "name": "stderr",
     "output_type": "stream",
     "text": [
      "100%|████████████████████████████████████████████████████████████████████████████████| 196/196 [00:04<00:00, 48.54it/s]\n"
     ]
    },
    {
     "name": "stdout",
     "output_type": "stream",
     "text": [
      "epoch: 21/100, loss_c = 0.841721, loss_r = 0.064422\n"
     ]
    },
    {
     "name": "stderr",
     "output_type": "stream",
     "text": [
      "100%|████████████████████████████████████████████████████████████████████████████████| 196/196 [00:04<00:00, 48.29it/s]\n"
     ]
    },
    {
     "name": "stdout",
     "output_type": "stream",
     "text": [
      "epoch: 22/100, loss_c = 0.867395, loss_r = 0.064419\n"
     ]
    },
    {
     "name": "stderr",
     "output_type": "stream",
     "text": [
      "100%|████████████████████████████████████████████████████████████████████████████████| 196/196 [00:04<00:00, 47.95it/s]\n"
     ]
    },
    {
     "name": "stdout",
     "output_type": "stream",
     "text": [
      "epoch: 23/100, loss_c = 0.720439, loss_r = 0.064416\n"
     ]
    },
    {
     "name": "stderr",
     "output_type": "stream",
     "text": [
      "100%|████████████████████████████████████████████████████████████████████████████████| 196/196 [00:04<00:00, 48.02it/s]\n"
     ]
    },
    {
     "name": "stdout",
     "output_type": "stream",
     "text": [
      "epoch: 24/100, loss_c = 0.776131, loss_r = 0.065355\n"
     ]
    },
    {
     "name": "stderr",
     "output_type": "stream",
     "text": [
      "100%|████████████████████████████████████████████████████████████████████████████████| 196/196 [00:04<00:00, 48.76it/s]\n"
     ]
    },
    {
     "name": "stdout",
     "output_type": "stream",
     "text": [
      "epoch: 25/100, loss_c = 0.775636, loss_r = 0.064563\n"
     ]
    },
    {
     "name": "stderr",
     "output_type": "stream",
     "text": [
      "100%|████████████████████████████████████████████████████████████████████████████████| 196/196 [00:03<00:00, 49.05it/s]\n"
     ]
    },
    {
     "name": "stdout",
     "output_type": "stream",
     "text": [
      "epoch: 26/100, loss_c = 0.848997, loss_r = 0.064968\n"
     ]
    },
    {
     "name": "stderr",
     "output_type": "stream",
     "text": [
      "100%|████████████████████████████████████████████████████████████████████████████████| 196/196 [00:04<00:00, 48.78it/s]\n"
     ]
    },
    {
     "name": "stdout",
     "output_type": "stream",
     "text": [
      "epoch: 27/100, loss_c = 0.895912, loss_r = 0.064587\n"
     ]
    },
    {
     "name": "stderr",
     "output_type": "stream",
     "text": [
      "100%|████████████████████████████████████████████████████████████████████████████████| 196/196 [00:04<00:00, 48.87it/s]\n"
     ]
    },
    {
     "name": "stdout",
     "output_type": "stream",
     "text": [
      "epoch: 28/100, loss_c = 0.752697, loss_r = 0.064559\n"
     ]
    },
    {
     "name": "stderr",
     "output_type": "stream",
     "text": [
      "100%|████████████████████████████████████████████████████████████████████████████████| 196/196 [00:03<00:00, 49.47it/s]\n"
     ]
    },
    {
     "name": "stdout",
     "output_type": "stream",
     "text": [
      "epoch: 29/100, loss_c = 0.857938, loss_r = 0.064553\n"
     ]
    },
    {
     "name": "stderr",
     "output_type": "stream",
     "text": [
      "100%|████████████████████████████████████████████████████████████████████████████████| 196/196 [00:03<00:00, 49.08it/s]\n"
     ]
    },
    {
     "name": "stdout",
     "output_type": "stream",
     "text": [
      "epoch: 30/100, loss_c = 0.849820, loss_r = 0.064562\n"
     ]
    },
    {
     "name": "stderr",
     "output_type": "stream",
     "text": [
      "100%|████████████████████████████████████████████████████████████████████████████████| 196/196 [00:04<00:00, 48.74it/s]\n"
     ]
    },
    {
     "name": "stdout",
     "output_type": "stream",
     "text": [
      "epoch: 31/100, loss_c = 0.848115, loss_r = 0.064567\n"
     ]
    },
    {
     "name": "stderr",
     "output_type": "stream",
     "text": [
      "100%|████████████████████████████████████████████████████████████████████████████████| 196/196 [00:04<00:00, 48.66it/s]\n"
     ]
    },
    {
     "name": "stdout",
     "output_type": "stream",
     "text": [
      "epoch: 32/100, loss_c = 0.789578, loss_r = 0.064523\n"
     ]
    },
    {
     "name": "stderr",
     "output_type": "stream",
     "text": [
      "100%|████████████████████████████████████████████████████████████████████████████████| 196/196 [00:04<00:00, 48.53it/s]\n"
     ]
    },
    {
     "name": "stdout",
     "output_type": "stream",
     "text": [
      "epoch: 33/100, loss_c = 0.588409, loss_r = 0.064497\n"
     ]
    },
    {
     "name": "stderr",
     "output_type": "stream",
     "text": [
      "100%|████████████████████████████████████████████████████████████████████████████████| 196/196 [00:04<00:00, 48.16it/s]\n"
     ]
    },
    {
     "name": "stdout",
     "output_type": "stream",
     "text": [
      "epoch: 34/100, loss_c = 0.898334, loss_r = 0.064489\n"
     ]
    },
    {
     "name": "stderr",
     "output_type": "stream",
     "text": [
      "100%|████████████████████████████████████████████████████████████████████████████████| 196/196 [00:04<00:00, 47.96it/s]\n"
     ]
    },
    {
     "name": "stdout",
     "output_type": "stream",
     "text": [
      "epoch: 35/100, loss_c = 0.603459, loss_r = 0.064534\n"
     ]
    },
    {
     "name": "stderr",
     "output_type": "stream",
     "text": [
      "100%|████████████████████████████████████████████████████████████████████████████████| 196/196 [00:04<00:00, 48.46it/s]\n"
     ]
    },
    {
     "name": "stdout",
     "output_type": "stream",
     "text": [
      "epoch: 36/100, loss_c = 0.959811, loss_r = 0.064466\n"
     ]
    },
    {
     "name": "stderr",
     "output_type": "stream",
     "text": [
      "100%|████████████████████████████████████████████████████████████████████████████████| 196/196 [00:04<00:00, 48.46it/s]\n"
     ]
    },
    {
     "name": "stdout",
     "output_type": "stream",
     "text": [
      "epoch: 37/100, loss_c = 0.663150, loss_r = 0.064510\n"
     ]
    },
    {
     "name": "stderr",
     "output_type": "stream",
     "text": [
      "100%|████████████████████████████████████████████████████████████████████████████████| 196/196 [00:04<00:00, 48.13it/s]\n"
     ]
    },
    {
     "name": "stdout",
     "output_type": "stream",
     "text": [
      "epoch: 38/100, loss_c = 1.040609, loss_r = 0.064461\n"
     ]
    },
    {
     "name": "stderr",
     "output_type": "stream",
     "text": [
      "100%|████████████████████████████████████████████████████████████████████████████████| 196/196 [00:04<00:00, 48.20it/s]\n"
     ]
    },
    {
     "name": "stdout",
     "output_type": "stream",
     "text": [
      "epoch: 39/100, loss_c = 0.711028, loss_r = 0.064447\n"
     ]
    },
    {
     "name": "stderr",
     "output_type": "stream",
     "text": [
      "100%|████████████████████████████████████████████████████████████████████████████████| 196/196 [00:03<00:00, 49.31it/s]\n"
     ]
    },
    {
     "name": "stdout",
     "output_type": "stream",
     "text": [
      "epoch: 40/100, loss_c = 0.800514, loss_r = 0.064465\n"
     ]
    },
    {
     "name": "stderr",
     "output_type": "stream",
     "text": [
      "100%|████████████████████████████████████████████████████████████████████████████████| 196/196 [00:03<00:00, 49.23it/s]\n"
     ]
    },
    {
     "name": "stdout",
     "output_type": "stream",
     "text": [
      "epoch: 41/100, loss_c = 0.933054, loss_r = 0.064439\n"
     ]
    },
    {
     "name": "stderr",
     "output_type": "stream",
     "text": [
      "100%|████████████████████████████████████████████████████████████████████████████████| 196/196 [00:04<00:00, 48.68it/s]\n"
     ]
    },
    {
     "name": "stdout",
     "output_type": "stream",
     "text": [
      "epoch: 42/100, loss_c = 0.513129, loss_r = 0.064480\n"
     ]
    },
    {
     "name": "stderr",
     "output_type": "stream",
     "text": [
      "100%|████████████████████████████████████████████████████████████████████████████████| 196/196 [00:04<00:00, 48.53it/s]\n"
     ]
    },
    {
     "name": "stdout",
     "output_type": "stream",
     "text": [
      "epoch: 43/100, loss_c = 0.994315, loss_r = 0.064424\n"
     ]
    },
    {
     "name": "stderr",
     "output_type": "stream",
     "text": [
      "100%|████████████████████████████████████████████████████████████████████████████████| 196/196 [00:03<00:00, 49.06it/s]\n"
     ]
    },
    {
     "name": "stdout",
     "output_type": "stream",
     "text": [
      "epoch: 44/100, loss_c = 0.457417, loss_r = 0.064455\n"
     ]
    },
    {
     "name": "stderr",
     "output_type": "stream",
     "text": [
      "100%|████████████████████████████████████████████████████████████████████████████████| 196/196 [00:04<00:00, 48.95it/s]\n"
     ]
    },
    {
     "name": "stdout",
     "output_type": "stream",
     "text": [
      "epoch: 45/100, loss_c = 0.905532, loss_r = 0.064406\n"
     ]
    },
    {
     "name": "stderr",
     "output_type": "stream",
     "text": [
      "100%|████████████████████████████████████████████████████████████████████████████████| 196/196 [00:04<00:00, 48.58it/s]\n"
     ]
    },
    {
     "name": "stdout",
     "output_type": "stream",
     "text": [
      "epoch: 46/100, loss_c = 0.791549, loss_r = 0.064421\n"
     ]
    },
    {
     "name": "stderr",
     "output_type": "stream",
     "text": [
      "100%|████████████████████████████████████████████████████████████████████████████████| 196/196 [00:04<00:00, 48.82it/s]\n"
     ]
    },
    {
     "name": "stdout",
     "output_type": "stream",
     "text": [
      "epoch: 47/100, loss_c = 0.787534, loss_r = 0.064381\n"
     ]
    },
    {
     "name": "stderr",
     "output_type": "stream",
     "text": [
      "100%|████████████████████████████████████████████████████████████████████████████████| 196/196 [00:03<00:00, 49.14it/s]\n"
     ]
    },
    {
     "name": "stdout",
     "output_type": "stream",
     "text": [
      "epoch: 48/100, loss_c = 0.783947, loss_r = 0.064432\n"
     ]
    },
    {
     "name": "stderr",
     "output_type": "stream",
     "text": [
      "100%|████████████████████████████████████████████████████████████████████████████████| 196/196 [00:03<00:00, 49.24it/s]\n"
     ]
    },
    {
     "name": "stdout",
     "output_type": "stream",
     "text": [
      "epoch: 49/100, loss_c = 0.769397, loss_r = 0.064343\n"
     ]
    },
    {
     "name": "stderr",
     "output_type": "stream",
     "text": [
      "100%|████████████████████████████████████████████████████████████████████████████████| 196/196 [00:04<00:00, 48.82it/s]\n"
     ]
    },
    {
     "name": "stdout",
     "output_type": "stream",
     "text": [
      "epoch: 50/100, loss_c = 0.720644, loss_r = 0.064332\n"
     ]
    },
    {
     "name": "stderr",
     "output_type": "stream",
     "text": [
      "100%|████████████████████████████████████████████████████████████████████████████████| 196/196 [00:03<00:00, 49.06it/s]\n"
     ]
    },
    {
     "name": "stdout",
     "output_type": "stream",
     "text": [
      "epoch: 51/100, loss_c = 0.748726, loss_r = 0.064328\n"
     ]
    },
    {
     "name": "stderr",
     "output_type": "stream",
     "text": [
      "100%|████████████████████████████████████████████████████████████████████████████████| 196/196 [00:03<00:00, 49.53it/s]\n"
     ]
    },
    {
     "name": "stdout",
     "output_type": "stream",
     "text": [
      "epoch: 52/100, loss_c = 0.854751, loss_r = 0.064323\n"
     ]
    },
    {
     "name": "stderr",
     "output_type": "stream",
     "text": [
      "100%|████████████████████████████████████████████████████████████████████████████████| 196/196 [00:03<00:00, 49.31it/s]\n"
     ]
    },
    {
     "name": "stdout",
     "output_type": "stream",
     "text": [
      "epoch: 53/100, loss_c = 0.661186, loss_r = 0.064317\n"
     ]
    },
    {
     "name": "stderr",
     "output_type": "stream",
     "text": [
      "100%|████████████████████████████████████████████████████████████████████████████████| 196/196 [00:04<00:00, 48.86it/s]\n"
     ]
    },
    {
     "name": "stdout",
     "output_type": "stream",
     "text": [
      "epoch: 54/100, loss_c = 0.625623, loss_r = 0.064323\n"
     ]
    },
    {
     "name": "stderr",
     "output_type": "stream",
     "text": [
      "100%|████████████████████████████████████████████████████████████████████████████████| 196/196 [00:03<00:00, 49.39it/s]\n"
     ]
    },
    {
     "name": "stdout",
     "output_type": "stream",
     "text": [
      "epoch: 55/100, loss_c = 0.738247, loss_r = 0.064364\n"
     ]
    },
    {
     "name": "stderr",
     "output_type": "stream",
     "text": [
      "100%|████████████████████████████████████████████████████████████████████████████████| 196/196 [00:03<00:00, 49.60it/s]\n"
     ]
    },
    {
     "name": "stdout",
     "output_type": "stream",
     "text": [
      "epoch: 56/100, loss_c = 0.574887, loss_r = 0.064384\n"
     ]
    },
    {
     "name": "stderr",
     "output_type": "stream",
     "text": [
      "100%|████████████████████████████████████████████████████████████████████████████████| 196/196 [00:04<00:00, 48.38it/s]\n"
     ]
    },
    {
     "name": "stdout",
     "output_type": "stream",
     "text": [
      "epoch: 57/100, loss_c = 0.911909, loss_r = 0.064362\n"
     ]
    },
    {
     "name": "stderr",
     "output_type": "stream",
     "text": [
      "100%|████████████████████████████████████████████████████████████████████████████████| 196/196 [00:04<00:00, 47.27it/s]\n"
     ]
    },
    {
     "name": "stdout",
     "output_type": "stream",
     "text": [
      "epoch: 58/100, loss_c = 0.559118, loss_r = 0.064354\n"
     ]
    },
    {
     "name": "stderr",
     "output_type": "stream",
     "text": [
      "100%|████████████████████████████████████████████████████████████████████████████████| 196/196 [00:04<00:00, 48.41it/s]\n"
     ]
    },
    {
     "name": "stdout",
     "output_type": "stream",
     "text": [
      "epoch: 59/100, loss_c = 0.721135, loss_r = 0.064355\n"
     ]
    },
    {
     "name": "stderr",
     "output_type": "stream",
     "text": [
      "100%|████████████████████████████████████████████████████████████████████████████████| 196/196 [00:03<00:00, 49.22it/s]\n"
     ]
    },
    {
     "name": "stdout",
     "output_type": "stream",
     "text": [
      "epoch: 60/100, loss_c = 0.743420, loss_r = 0.064323\n"
     ]
    },
    {
     "name": "stderr",
     "output_type": "stream",
     "text": [
      "100%|████████████████████████████████████████████████████████████████████████████████| 196/196 [00:04<00:00, 47.58it/s]\n"
     ]
    },
    {
     "name": "stdout",
     "output_type": "stream",
     "text": [
      "epoch: 61/100, loss_c = 0.657146, loss_r = 0.064327\n"
     ]
    },
    {
     "name": "stderr",
     "output_type": "stream",
     "text": [
      "100%|████████████████████████████████████████████████████████████████████████████████| 196/196 [00:04<00:00, 48.10it/s]\n"
     ]
    },
    {
     "name": "stdout",
     "output_type": "stream",
     "text": [
      "epoch: 62/100, loss_c = 0.756871, loss_r = 0.064866\n"
     ]
    },
    {
     "name": "stderr",
     "output_type": "stream",
     "text": [
      "100%|████████████████████████████████████████████████████████████████████████████████| 196/196 [00:04<00:00, 48.46it/s]\n"
     ]
    },
    {
     "name": "stdout",
     "output_type": "stream",
     "text": [
      "epoch: 63/100, loss_c = 0.681644, loss_r = 0.064423\n"
     ]
    },
    {
     "name": "stderr",
     "output_type": "stream",
     "text": [
      "100%|████████████████████████████████████████████████████████████████████████████████| 196/196 [00:04<00:00, 48.41it/s]\n"
     ]
    },
    {
     "name": "stdout",
     "output_type": "stream",
     "text": [
      "epoch: 64/100, loss_c = 0.777083, loss_r = 0.064335\n"
     ]
    },
    {
     "name": "stderr",
     "output_type": "stream",
     "text": [
      "100%|████████████████████████████████████████████████████████████████████████████████| 196/196 [00:04<00:00, 47.77it/s]\n"
     ]
    },
    {
     "name": "stdout",
     "output_type": "stream",
     "text": [
      "epoch: 65/100, loss_c = 0.549681, loss_r = 0.064329\n"
     ]
    },
    {
     "name": "stderr",
     "output_type": "stream",
     "text": [
      "100%|████████████████████████████████████████████████████████████████████████████████| 196/196 [00:04<00:00, 48.35it/s]\n"
     ]
    },
    {
     "name": "stdout",
     "output_type": "stream",
     "text": [
      "epoch: 66/100, loss_c = 0.573408, loss_r = 0.064326\n"
     ]
    },
    {
     "name": "stderr",
     "output_type": "stream",
     "text": [
      "100%|████████████████████████████████████████████████████████████████████████████████| 196/196 [00:04<00:00, 48.85it/s]\n"
     ]
    },
    {
     "name": "stdout",
     "output_type": "stream",
     "text": [
      "epoch: 67/100, loss_c = 0.635420, loss_r = 0.064331\n"
     ]
    },
    {
     "name": "stderr",
     "output_type": "stream",
     "text": [
      "100%|████████████████████████████████████████████████████████████████████████████████| 196/196 [00:04<00:00, 48.31it/s]\n"
     ]
    },
    {
     "name": "stdout",
     "output_type": "stream",
     "text": [
      "epoch: 68/100, loss_c = 0.715774, loss_r = 0.064328\n"
     ]
    },
    {
     "name": "stderr",
     "output_type": "stream",
     "text": [
      "100%|████████████████████████████████████████████████████████████████████████████████| 196/196 [00:04<00:00, 47.84it/s]\n"
     ]
    },
    {
     "name": "stdout",
     "output_type": "stream",
     "text": [
      "epoch: 69/100, loss_c = 0.640929, loss_r = 0.064324\n"
     ]
    },
    {
     "name": "stderr",
     "output_type": "stream",
     "text": [
      "100%|████████████████████████████████████████████████████████████████████████████████| 196/196 [00:04<00:00, 48.72it/s]\n"
     ]
    },
    {
     "name": "stdout",
     "output_type": "stream",
     "text": [
      "epoch: 70/100, loss_c = 0.640585, loss_r = 0.064314\n"
     ]
    },
    {
     "name": "stderr",
     "output_type": "stream",
     "text": [
      "100%|████████████████████████████████████████████████████████████████████████████████| 196/196 [00:04<00:00, 49.00it/s]\n"
     ]
    },
    {
     "name": "stdout",
     "output_type": "stream",
     "text": [
      "epoch: 71/100, loss_c = 0.639594, loss_r = 0.064313\n"
     ]
    },
    {
     "name": "stderr",
     "output_type": "stream",
     "text": [
      "100%|████████████████████████████████████████████████████████████████████████████████| 196/196 [00:04<00:00, 48.67it/s]\n"
     ]
    },
    {
     "name": "stdout",
     "output_type": "stream",
     "text": [
      "epoch: 72/100, loss_c = 0.679256, loss_r = 0.064312\n"
     ]
    },
    {
     "name": "stderr",
     "output_type": "stream",
     "text": [
      "100%|████████████████████████████████████████████████████████████████████████████████| 196/196 [00:04<00:00, 48.41it/s]\n"
     ]
    },
    {
     "name": "stdout",
     "output_type": "stream",
     "text": [
      "epoch: 73/100, loss_c = 0.668798, loss_r = 0.064312\n"
     ]
    },
    {
     "name": "stderr",
     "output_type": "stream",
     "text": [
      "100%|████████████████████████████████████████████████████████████████████████████████| 196/196 [00:04<00:00, 48.83it/s]\n"
     ]
    },
    {
     "name": "stdout",
     "output_type": "stream",
     "text": [
      "epoch: 74/100, loss_c = 0.664235, loss_r = 0.064375\n"
     ]
    },
    {
     "name": "stderr",
     "output_type": "stream",
     "text": [
      "100%|████████████████████████████████████████████████████████████████████████████████| 196/196 [00:04<00:00, 48.99it/s]\n"
     ]
    },
    {
     "name": "stdout",
     "output_type": "stream",
     "text": [
      "epoch: 75/100, loss_c = 0.977009, loss_r = 0.064327\n"
     ]
    },
    {
     "name": "stderr",
     "output_type": "stream",
     "text": [
      "100%|████████████████████████████████████████████████████████████████████████████████| 196/196 [00:04<00:00, 48.30it/s]\n"
     ]
    },
    {
     "name": "stdout",
     "output_type": "stream",
     "text": [
      "epoch: 76/100, loss_c = 0.573959, loss_r = 0.064363\n"
     ]
    },
    {
     "name": "stderr",
     "output_type": "stream",
     "text": [
      "100%|████████████████████████████████████████████████████████████████████████████████| 196/196 [00:04<00:00, 48.32it/s]\n"
     ]
    },
    {
     "name": "stdout",
     "output_type": "stream",
     "text": [
      "epoch: 77/100, loss_c = 0.622500, loss_r = 0.064379\n"
     ]
    },
    {
     "name": "stderr",
     "output_type": "stream",
     "text": [
      "100%|████████████████████████████████████████████████████████████████████████████████| 196/196 [00:04<00:00, 48.59it/s]\n"
     ]
    },
    {
     "name": "stdout",
     "output_type": "stream",
     "text": [
      "epoch: 78/100, loss_c = 0.647781, loss_r = 0.064365\n"
     ]
    },
    {
     "name": "stderr",
     "output_type": "stream",
     "text": [
      "100%|████████████████████████████████████████████████████████████████████████████████| 196/196 [00:04<00:00, 48.52it/s]\n"
     ]
    },
    {
     "name": "stdout",
     "output_type": "stream",
     "text": [
      "epoch: 79/100, loss_c = 0.615483, loss_r = 0.064329\n"
     ]
    },
    {
     "name": "stderr",
     "output_type": "stream",
     "text": [
      "100%|████████████████████████████████████████████████████████████████████████████████| 196/196 [00:04<00:00, 48.12it/s]\n"
     ]
    },
    {
     "name": "stdout",
     "output_type": "stream",
     "text": [
      "epoch: 80/100, loss_c = 0.689317, loss_r = 0.064329\n"
     ]
    },
    {
     "name": "stderr",
     "output_type": "stream",
     "text": [
      "100%|████████████████████████████████████████████████████████████████████████████████| 196/196 [00:04<00:00, 48.79it/s]\n"
     ]
    },
    {
     "name": "stdout",
     "output_type": "stream",
     "text": [
      "epoch: 81/100, loss_c = 0.639330, loss_r = 0.064289\n"
     ]
    },
    {
     "name": "stderr",
     "output_type": "stream",
     "text": [
      "100%|████████████████████████████████████████████████████████████████████████████████| 196/196 [00:03<00:00, 49.41it/s]\n"
     ]
    },
    {
     "name": "stdout",
     "output_type": "stream",
     "text": [
      "epoch: 82/100, loss_c = 0.716780, loss_r = 0.064304\n"
     ]
    },
    {
     "name": "stderr",
     "output_type": "stream",
     "text": [
      "100%|████████████████████████████████████████████████████████████████████████████████| 196/196 [00:04<00:00, 48.28it/s]\n"
     ]
    },
    {
     "name": "stdout",
     "output_type": "stream",
     "text": [
      "epoch: 83/100, loss_c = 0.643591, loss_r = 0.064295\n"
     ]
    },
    {
     "name": "stderr",
     "output_type": "stream",
     "text": [
      "100%|████████████████████████████████████████████████████████████████████████████████| 196/196 [00:04<00:00, 47.27it/s]\n"
     ]
    },
    {
     "name": "stdout",
     "output_type": "stream",
     "text": [
      "epoch: 84/100, loss_c = 0.479450, loss_r = 0.064274\n"
     ]
    },
    {
     "name": "stderr",
     "output_type": "stream",
     "text": [
      "100%|████████████████████████████████████████████████████████████████████████████████| 196/196 [00:04<00:00, 48.90it/s]\n"
     ]
    },
    {
     "name": "stdout",
     "output_type": "stream",
     "text": [
      "epoch: 85/100, loss_c = 0.615906, loss_r = 0.064275\n"
     ]
    },
    {
     "name": "stderr",
     "output_type": "stream",
     "text": [
      "100%|████████████████████████████████████████████████████████████████████████████████| 196/196 [00:04<00:00, 48.99it/s]\n"
     ]
    },
    {
     "name": "stdout",
     "output_type": "stream",
     "text": [
      "epoch: 86/100, loss_c = 0.528823, loss_r = 0.064260\n"
     ]
    },
    {
     "name": "stderr",
     "output_type": "stream",
     "text": [
      "100%|████████████████████████████████████████████████████████████████████████████████| 196/196 [00:04<00:00, 48.80it/s]\n"
     ]
    },
    {
     "name": "stdout",
     "output_type": "stream",
     "text": [
      "epoch: 87/100, loss_c = 0.571709, loss_r = 0.064256\n"
     ]
    },
    {
     "name": "stderr",
     "output_type": "stream",
     "text": [
      "100%|████████████████████████████████████████████████████████████████████████████████| 196/196 [00:04<00:00, 48.40it/s]\n"
     ]
    },
    {
     "name": "stdout",
     "output_type": "stream",
     "text": [
      "epoch: 88/100, loss_c = 0.751184, loss_r = 0.064262\n"
     ]
    },
    {
     "name": "stderr",
     "output_type": "stream",
     "text": [
      "100%|████████████████████████████████████████████████████████████████████████████████| 196/196 [00:03<00:00, 49.06it/s]\n"
     ]
    },
    {
     "name": "stdout",
     "output_type": "stream",
     "text": [
      "epoch: 89/100, loss_c = 0.700656, loss_r = 0.064367\n"
     ]
    },
    {
     "name": "stderr",
     "output_type": "stream",
     "text": [
      "100%|████████████████████████████████████████████████████████████████████████████████| 196/196 [00:03<00:00, 49.30it/s]\n"
     ]
    },
    {
     "name": "stdout",
     "output_type": "stream",
     "text": [
      "epoch: 90/100, loss_c = 0.731686, loss_r = 0.064345\n"
     ]
    },
    {
     "name": "stderr",
     "output_type": "stream",
     "text": [
      "100%|████████████████████████████████████████████████████████████████████████████████| 196/196 [00:04<00:00, 48.60it/s]\n"
     ]
    },
    {
     "name": "stdout",
     "output_type": "stream",
     "text": [
      "epoch: 91/100, loss_c = 0.695358, loss_r = 0.064275\n"
     ]
    },
    {
     "name": "stderr",
     "output_type": "stream",
     "text": [
      "100%|████████████████████████████████████████████████████████████████████████████████| 196/196 [00:04<00:00, 48.44it/s]\n"
     ]
    },
    {
     "name": "stdout",
     "output_type": "stream",
     "text": [
      "epoch: 92/100, loss_c = 0.623381, loss_r = 0.064341\n"
     ]
    },
    {
     "name": "stderr",
     "output_type": "stream",
     "text": [
      "100%|████████████████████████████████████████████████████████████████████████████████| 196/196 [00:03<00:00, 49.04it/s]\n"
     ]
    },
    {
     "name": "stdout",
     "output_type": "stream",
     "text": [
      "epoch: 93/100, loss_c = 0.776484, loss_r = 0.064280\n"
     ]
    },
    {
     "name": "stderr",
     "output_type": "stream",
     "text": [
      "100%|████████████████████████████████████████████████████████████████████████████████| 196/196 [00:04<00:00, 48.21it/s]\n"
     ]
    },
    {
     "name": "stdout",
     "output_type": "stream",
     "text": [
      "epoch: 94/100, loss_c = 0.696624, loss_r = 0.064261\n"
     ]
    },
    {
     "name": "stderr",
     "output_type": "stream",
     "text": [
      "100%|████████████████████████████████████████████████████████████████████████████████| 196/196 [00:04<00:00, 47.61it/s]\n"
     ]
    },
    {
     "name": "stdout",
     "output_type": "stream",
     "text": [
      "epoch: 95/100, loss_c = 0.676010, loss_r = 0.064248\n"
     ]
    },
    {
     "name": "stderr",
     "output_type": "stream",
     "text": [
      "100%|████████████████████████████████████████████████████████████████████████████████| 196/196 [00:04<00:00, 47.65it/s]\n"
     ]
    },
    {
     "name": "stdout",
     "output_type": "stream",
     "text": [
      "epoch: 96/100, loss_c = 0.523724, loss_r = 0.064243\n"
     ]
    },
    {
     "name": "stderr",
     "output_type": "stream",
     "text": [
      "100%|████████████████████████████████████████████████████████████████████████████████| 196/196 [00:04<00:00, 48.16it/s]\n"
     ]
    },
    {
     "name": "stdout",
     "output_type": "stream",
     "text": [
      "epoch: 97/100, loss_c = 0.453188, loss_r = 0.064237\n"
     ]
    },
    {
     "name": "stderr",
     "output_type": "stream",
     "text": [
      "100%|████████████████████████████████████████████████████████████████████████████████| 196/196 [00:04<00:00, 48.17it/s]\n"
     ]
    },
    {
     "name": "stdout",
     "output_type": "stream",
     "text": [
      "epoch: 98/100, loss_c = 0.495167, loss_r = 0.064235\n"
     ]
    },
    {
     "name": "stderr",
     "output_type": "stream",
     "text": [
      "100%|████████████████████████████████████████████████████████████████████████████████| 196/196 [00:04<00:00, 47.49it/s]\n"
     ]
    },
    {
     "name": "stdout",
     "output_type": "stream",
     "text": [
      "epoch: 99/100, loss_c = 0.453854, loss_r = 0.064236\n"
     ]
    },
    {
     "name": "stderr",
     "output_type": "stream",
     "text": [
      "100%|████████████████████████████████████████████████████████████████████████████████| 196/196 [00:04<00:00, 47.77it/s]"
     ]
    },
    {
     "name": "stdout",
     "output_type": "stream",
     "text": [
      "epoch: 100/100, loss_c = 0.499873, loss_r = 0.064228\n"
     ]
    },
    {
     "name": "stderr",
     "output_type": "stream",
     "text": [
      "\n"
     ]
    }
   ],
   "source": [
    "# train\n",
    "train_model(\n",
    "    model=model,\n",
    "    train_loader_cls=train_dataloader,\n",
    "    train_loader_mem=train_dataloader_mem,\n",
    "    val_loader_cls=None,\n",
    "    optimizer_cls=optimizer_cls,\n",
    "    optimizer_mem=optimizer_mem,\n",
    "    loss_cls=loss_cls,\n",
    "    loss_mem=loss_mem,\n",
    "    epochs=epochs,\n",
    "    save_path=None,\n",
    "    device=device\n",
    ")"
   ]
  },
  {
   "cell_type": "code",
   "execution_count": 20,
   "id": "0ba0365a-ea52-48fc-a5ec-85ae0f0ca345",
   "metadata": {},
   "outputs": [],
   "source": [
    "# get accuracy of test data\n",
    "def test_acc(model, data_loader, device):\n",
    "    correct=0\n",
    "    model.eval()\n",
    "    with torch.no_grad():\n",
    "        for batch in data_loader:\n",
    "            embeddings = batch[\"embedding\"]\n",
    "            labels = batch[\"target\"]\n",
    "            embeddings = embeddings.to(device)\n",
    "            labels = labels.to(device)\n",
    "            output = model(embeddings)\n",
    "            ypred = output.data.max(1, keepdim=True)[1].squeeze()\n",
    "            correct += ypred.eq(labels).sum()\n",
    "    acc = correct/len(data_loader.dataset)\n",
    "    return acc"
   ]
  },
  {
   "cell_type": "code",
   "execution_count": 21,
   "id": "cc2e1829-f2c0-47a5-91ef-ec6594c1dca0",
   "metadata": {},
   "outputs": [
    {
     "data": {
      "text/plain": [
       "tensor(0.5000, device='cuda:0')"
      ]
     },
     "execution_count": 21,
     "metadata": {},
     "output_type": "execute_result"
    }
   ],
   "source": [
    "test_acc(\n",
    "    model=model,\n",
    "    data_loader=test_dataloader,\n",
    "    device=device\n",
    ")"
   ]
  },
  {
   "cell_type": "code",
   "execution_count": 22,
   "id": "2df8b2ec-1095-4543-9b91-018411369fd9",
   "metadata": {},
   "outputs": [],
   "source": [
    "# test memorization accuracy\n",
    "def test_mem_accuracy(mem_data:CustomMemDataset, device:torch.device):\n",
    "    index = faiss.IndexFlatL2(768)  # create index\n",
    "    index.add(mem_data.embeddings)\n",
    "    print(\"Total Number of Index:\", index.ntotal)\n",
    "\n",
    "    correct = 0\n",
    "    with torch.no_grad():\n",
    "        idx = 0\n",
    "        for data in mem_data:\n",
    "            code = data[\"gray_code\"]\n",
    "            code = code.to(device)\n",
    "            pred_embedding = model.forward_transposed(code)\n",
    "            pred_embedding = pred_embedding.to(\"cpu\")  # for faiss cpu\n",
    "            D, I = index.search(pred_embedding.view(1, -1), 1)  # similarity search\n",
    "            if idx == I[0][0]:\n",
    "                correct += 1\n",
    "            idx += 1  # next data\n",
    "\n",
    "    print(\"Correct = {}/{}, Accuracy = {:.6f}\".format(correct, len(mem_data), correct / len(mem_data)))"
   ]
  },
  {
   "cell_type": "code",
   "execution_count": 23,
   "id": "9abd8b17-249c-49ff-ae7c-825ab49183cb",
   "metadata": {},
   "outputs": [
    {
     "name": "stdout",
     "output_type": "stream",
     "text": [
      "Total Number of Index: 1250\n",
      "Correct = 1/1250, Accuracy = 0.000800\n"
     ]
    }
   ],
   "source": [
    "test_mem_accuracy(\n",
    "    mem_data=train_mem_data,\n",
    "    device=device\n",
    ")"
   ]
  },
  {
   "cell_type": "code",
   "execution_count": null,
   "id": "fb186feb-e270-4fd5-908b-6b3d46c263ca",
   "metadata": {},
   "outputs": [],
   "source": []
  }
 ],
 "metadata": {
  "kernelspec": {
   "display_name": "Python 3 (ipykernel)",
   "language": "python",
   "name": "python3"
  },
  "language_info": {
   "codemirror_mode": {
    "name": "ipython",
    "version": 3
   },
   "file_extension": ".py",
   "mimetype": "text/x-python",
   "name": "python",
   "nbconvert_exporter": "python",
   "pygments_lexer": "ipython3",
   "version": "3.11.7"
  }
 },
 "nbformat": 4,
 "nbformat_minor": 5
}
