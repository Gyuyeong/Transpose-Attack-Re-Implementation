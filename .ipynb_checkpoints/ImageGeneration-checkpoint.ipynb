{
 "cells": [
  {
   "cell_type": "code",
   "execution_count": 1,
   "id": "839e4442-4fb4-4f58-a81c-4dc74b3eb8a9",
   "metadata": {},
   "outputs": [],
   "source": [
    "import networkx as nx\n",
    "import numpy as np\n",
    "import os\n",
    "import pickle\n",
    "import glob\n",
    "from multiprocessing import Pool\n",
    "from functools import partial\n",
    "from transformers import AutoModel, AutoTokenizer\n",
    "import torch\n",
    "from tqdm import tqdm"
   ]
  },
  {
   "cell_type": "code",
   "execution_count": 2,
   "id": "267f010f-369d-4dee-b3de-353cab78d7b0",
   "metadata": {},
   "outputs": [],
   "source": [
    "def graph_extraction(dot):\n",
    "    graph = nx.drawing.nx_pydot.read_dot(dot)\n",
    "    return graph"
   ]
  },
  {
   "cell_type": "code",
   "execution_count": 3,
   "id": "baffd2b9-c1b9-4ec0-a9f7-80f3f0b1386d",
   "metadata": {},
   "outputs": [],
   "source": [
    "vul_input_dir = \"./data/pdgs/Vul\"\n",
    "no_vul_input_dir = \"./data/pdgs/No-Vul\"\n",
    "vul_output_dir = \"./data/outputs/Vul\"\n",
    "no_vul_output_dir = \"./data/outputs/No-Vul\""
   ]
  },
  {
   "cell_type": "code",
   "execution_count": 4,
   "id": "b4c03ccf-0627-454f-9135-473e8785048c",
   "metadata": {},
   "outputs": [],
   "source": [
    "device = \"cuda\""
   ]
  },
  {
   "cell_type": "code",
   "execution_count": 5,
   "id": "4c9d1be5-9be5-440e-80d9-4fb70ce7998f",
   "metadata": {},
   "outputs": [],
   "source": [
    "checkpoint = \"Salesforce/codet5p-110m-embedding\"\n",
    "tokenizer = AutoTokenizer.from_pretrained(checkpoint, trust_remote_code=True)\n",
    "model = AutoModel.from_pretrained(checkpoint, trust_remote_code=True).to(device)"
   ]
  },
  {
   "cell_type": "code",
   "execution_count": 6,
   "id": "bee4b78a-a47b-4f97-95f2-a477b60a47d3",
   "metadata": {},
   "outputs": [],
   "source": [
    "def sentence_embedding(sentence):\n",
    "    input_ids = tokenizer.encode(sentence, return_tensors=\"pt\").to(device)\n",
    "    embedding = model(input_ids)[0]\n",
    "    return embedding"
   ]
  },
  {
   "cell_type": "code",
   "execution_count": 7,
   "id": "3246838e-ff75-4c80-bdd1-f1f3bbb3bf77",
   "metadata": {},
   "outputs": [],
   "source": [
    "def image_generation(dot):\n",
    "    try:\n",
    "        pdg = graph_extraction(dot)\n",
    "        labels_dict = nx.get_node_attributes(pdg, 'label')\n",
    "        labels_code = dict()\n",
    "        for label, all_code in labels_dict.items():\n",
    "            # code = all_code.split('code:')[1].split('\\\\n')[0]\n",
    "            code = all_code[all_code.index(\",\") + 1:-2].split('\\\\n')[0]\n",
    "            code = code.replace(\"static void\", \"void\")\n",
    "            labels_code[label] = code\n",
    "    \n",
    "        #print(labels_code)\n",
    "        degree_cen_dict = nx.degree_centrality(pdg)\n",
    "        closeness_cen_dict = nx.closeness_centrality(pdg)\n",
    "        #harmonic_cen_dict = nx.harmonic_centrality(pdg)\n",
    "    \n",
    "        G = nx.DiGraph()\n",
    "        G.add_nodes_from(pdg.nodes())\n",
    "        G.add_edges_from(pdg.edges())\n",
    "        katz_cen_dict = nx.katz_centrality(G)\n",
    "        # print(degree_cen_dict)\n",
    "        # print(closeness_cen_dict)\n",
    "        # print(harmonic_cen_dict)\n",
    "        # print(katz_cen_dict)\n",
    "    \n",
    "        degree_channel = []\n",
    "        closeness_channel = []\n",
    "        katz_channel = []\n",
    "        with torch.no_grad():\n",
    "            for label, code in labels_code.items():\n",
    "                line_vec = sentence_embedding(code)\n",
    "                line_vec = line_vec.to(\"cpu\")  # for numpy convergence\n",
    "                line_vec = np.array(line_vec)\n",
    "        \n",
    "                degree_cen = degree_cen_dict[label]\n",
    "                degree_channel.append(degree_cen * line_vec)\n",
    "        \n",
    "                closeness_cen = closeness_cen_dict[label]\n",
    "                closeness_channel.append(closeness_cen * line_vec)\n",
    "        \n",
    "                katz_cen = katz_cen_dict[label]\n",
    "                katz_channel.append(katz_cen * line_vec)\n",
    "    \n",
    "        return (degree_channel, closeness_channel, katz_channel)\n",
    "    except:\n",
    "        return None"
   ]
  },
  {
   "cell_type": "code",
   "execution_count": 8,
   "id": "11e2473b-4a98-419e-b7f5-aad298829742",
   "metadata": {},
   "outputs": [],
   "source": [
    "def write_to_pkl(dot, out, existing_files):\n",
    "    dot_name = dot.split('/')[-1].split('\\\\')[-1].split('.dot')[0]\n",
    "    if dot_name in existing_files:\n",
    "        return None\n",
    "    else:\n",
    "        print(dot_name)\n",
    "        channels = image_generation(dot)\n",
    "        if channels is None:\n",
    "            return None\n",
    "        else:\n",
    "            (degree_channel, closeness_channel, katz_channel) = channels\n",
    "            out_pkl = out + dot_name + '.pkl'\n",
    "            data = [degree_channel, closeness_channel, katz_channel]\n",
    "            with open(out_pkl, 'wb') as f:\n",
    "                pickle.dump(data, f)"
   ]
  },
  {
   "cell_type": "code",
   "execution_count": 9,
   "id": "151ca1b7-e71a-4fe2-ac09-7cf57c859eca",
   "metadata": {},
   "outputs": [],
   "source": [
    "def main(input_dir, output_dir):\n",
    "    if input_dir[-1] == '/':\n",
    "        input_dir = input_dir\n",
    "    else:\n",
    "        input_dir += \"/\"\n",
    "    dotfiles = glob.glob(input_dir + '*.dot')\n",
    "\n",
    "    if output_dir[-1] == '/':\n",
    "        output_dir = output_dir\n",
    "    else:\n",
    "        output_dir += \"/\"\n",
    "\n",
    "    if not os.path.exists(output_dir):\n",
    "        os.makedirs(output_dir)\n",
    "\n",
    "    existing_files = glob.glob(output_dir + \"/*.pkl\")\n",
    "    existing_files = [f.split(\".pkl\") for f in existing_files]\n",
    "\n",
    "    print(\"Number of files =\", len(dotfiles))\n",
    "\n",
    "    # in parallel\n",
    "    # pool = Pool(10)\n",
    "    # pool.map(partial(write_to_pkl, out=output_dir, existing_files=existing_files), dotfiles)\n",
    "\n",
    "    for dot in tqdm(dotfiles):\n",
    "        write_to_pkl(dot, output_dir, existing_files)"
   ]
  },
  {
   "cell_type": "code",
   "execution_count": null,
   "id": "39298d03-474f-4cb4-89e3-256d8c03d31c",
   "metadata": {},
   "outputs": [
    {
     "name": "stdout",
     "output_type": "stream",
     "text": [
      "Number of files = 12303\n"
     ]
    }
   ],
   "source": [
    "main(vul_input_dir, vul_output_dir)"
   ]
  },
  {
   "cell_type": "code",
   "execution_count": 17,
   "id": "310c1a03-8d70-462d-b2c5-36195f02ceb2",
   "metadata": {},
   "outputs": [
    {
     "name": "stdout",
     "output_type": "stream",
     "text": [
      "21057\n"
     ]
    }
   ],
   "source": [
    "main(no_vul_input_dir, no_vul_output_dir)"
   ]
  },
  {
   "cell_type": "code",
   "execution_count": null,
   "id": "3e538d8f-cf69-4a88-b7b8-14716ab2d525",
   "metadata": {},
   "outputs": [],
   "source": []
  },
  {
   "cell_type": "code",
   "execution_count": null,
   "id": "700e331c-74d8-4d85-bbd4-a48318208276",
   "metadata": {},
   "outputs": [],
   "source": []
  },
  {
   "cell_type": "code",
   "execution_count": null,
   "id": "c39565b9-a22a-4330-8971-a7c5ab7ebc98",
   "metadata": {},
   "outputs": [],
   "source": []
  },
  {
   "cell_type": "code",
   "execution_count": null,
   "id": "bc090ec5-2b9d-4c04-9239-da3590224a0b",
   "metadata": {},
   "outputs": [],
   "source": []
  },
  {
   "cell_type": "code",
   "execution_count": null,
   "id": "836de250-0639-4e4d-96db-11d07d3f6bb7",
   "metadata": {},
   "outputs": [],
   "source": []
  },
  {
   "cell_type": "code",
   "execution_count": null,
   "id": "30fca6ca-c622-49b6-9538-8e3a6a2bb709",
   "metadata": {},
   "outputs": [],
   "source": []
  }
 ],
 "metadata": {
  "kernelspec": {
   "display_name": "Python 3 (ipykernel)",
   "language": "python",
   "name": "python3"
  },
  "language_info": {
   "codemirror_mode": {
    "name": "ipython",
    "version": 3
   },
   "file_extension": ".py",
   "mimetype": "text/x-python",
   "name": "python",
   "nbconvert_exporter": "python",
   "pygments_lexer": "ipython3",
   "version": "3.11.7"
  }
 },
 "nbformat": 4,
 "nbformat_minor": 5
}
